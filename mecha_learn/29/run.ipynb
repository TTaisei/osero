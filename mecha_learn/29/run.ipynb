{
 "cells": [
  {
   "cell_type": "code",
   "execution_count": 8,
   "metadata": {},
   "outputs": [],
   "source": [
    "from copy import deepcopy\n",
    "\n",
    "import pandas as pd\n",
    "\n",
    "from BitBoard import osero\n",
    "from osero_learn import learn\n",
    "\n",
    "PLAY_WAY = deepcopy(osero.PLAY_WAY)\n",
    "del PLAY_WAY[\"human\"]\n",
    "PLAY_WAY = PLAY_WAY.values()"
   ]
  },
  {
   "cell_type": "code",
   "execution_count": 9,
   "metadata": {},
   "outputs": [],
   "source": [
    "eva = [[\n",
    "     1.0, -0.6,  0.6,  0.4,  0.4,  0.6, -0.6,  1.0,\n",
    "    -0.6, -0.8,  0.0,  0.0,  0.0,  0.0, -0.8, -0.6,\n",
    "     0.6,  0.0,  0.8,  0.6,  0.6,  0.8,  0.0,  0.6,\n",
    "     0.4,  0.0,  0.6,  0.0,  0.0,  0.6,  0.0,  0.4,\n",
    "     0.4,  0.0,  0.6,  0.0,  0.0,  0.6,  0.0,  0.4,\n",
    "     0.6,  0.0,  0.8,  0.6,  0.6,  0.8,  0.0,  0.6,\n",
    "    -0.6, -0.8,  0.0,  0.0,  0.0,  0.0, -0.8, -0.6,\n",
    "     1.0, -0.6,  0.6,  0.4,  0.4,  0.6, -0.6,  1.0\n",
    "] for i in range(2)]"
   ]
  },
  {
   "cell_type": "code",
   "execution_count": 15,
   "metadata": {},
   "outputs": [
    {
     "name": "stdout",
     "output_type": "stream",
     "text": [
      "[##########]\n"
     ]
    }
   ],
   "source": [
    "df = pd.DataFrame({})\n",
    "\n",
    "check_point = [i for i in range(1, 61)]\n",
    "\n",
    "for i in range(10):\n",
    "    print(\"\\r[\" + \"#\" * (i+1) + \" \" * (10-i+1) + \"]\", end=\"\")\n",
    "    for black in PLAY_WAY:\n",
    "        for white in PLAY_WAY:\n",
    "            run = learn(\\\n",
    "                black,\n",
    "                white,\n",
    "                check_point=check_point,\n",
    "                seed_num=i,\n",
    "                eva=eva\n",
    "            )\n",
    "            data = run.play()\n",
    "            df = df.append(data, ignore_index=True)\n",
    "\n",
    "print(\"\\r[\" + \"#\" * 10 + \"]\")"
   ]
  },
  {
   "cell_type": "code",
   "execution_count": 16,
   "metadata": {},
   "outputs": [],
   "source": [
    "from sklearn.model_selection import train_test_split\n",
    "from sklearn.linear_model import Ridge\n",
    "\n",
    "x_data = df.drop([\"turn\", \"last_score\"], axis=1)\n",
    "y_data = df[[\"turn_num\", \"last_score\"]]\n",
    "\n",
    "turn_vari = df[\"turn_num\"].unique()"
   ]
  },
  {
   "cell_type": "code",
   "execution_count": 17,
   "metadata": {},
   "outputs": [],
   "source": [
    "model = []\n",
    "alpha_arr = [i for i in range(3, 13)]\n",
    "\n",
    "for turn_num in turn_vari:\n",
    "    model.append([])\n",
    "\n",
    "    for alpha in alpha_arr:\n",
    "        x_train, x_test, y_train, y_test = train_test_split(\\\n",
    "            x_data.query(\"turn_num==%d\" % turn_num).drop(\"turn_num\", axis=1),\n",
    "            y_data.query(\"turn_num==%d\" % turn_num).drop(\"turn_num\", axis=1),\n",
    "            random_state=0\n",
    "        )\n",
    "\n",
    "        model[-1].append(Ridge(\\\n",
    "            alpha=alpha,\n",
    "            solver=\"lbfgs\",\n",
    "            positive=True,\n",
    "            random_state=0\n",
    "        ))\n",
    "        model[-1][-1].fit(x_train, y_train)"
   ]
  },
  {
   "cell_type": "code",
   "execution_count": 18,
   "metadata": {},
   "outputs": [],
   "source": [
    "import pickle\n",
    "\n",
    "for turn_num in range(len(turn_vari)):\n",
    "    for alpha in range(len(alpha_arr)):\n",
    "        with open(\\\n",
    "            \"model/model%2d%2d.pickle\" % (turn_vari[turn_num], alpha_arr[alpha]),\n",
    "            mode=\"wb\"\n",
    "        ) as fp:\n",
    "            pickle.dump(model[turn_num][alpha], fp)"
   ]
  }
 ],
 "metadata": {
  "interpreter": {
   "hash": "400b3448902b2aa85e7a3848e7bd72dda1a711f8af9f184efc41490bde870126"
  },
  "kernelspec": {
   "display_name": "",
   "language": "python",
   "name": "python3"
  },
  "language_info": {
   "codemirror_mode": {
    "name": "ipython",
    "version": 3
   },
   "file_extension": ".py",
   "mimetype": "text/x-python",
   "name": "python",
   "nbconvert_exporter": "python",
   "pygments_lexer": "ipython3",
   "version": "3.7.9"
  },
  "orig_nbformat": 4
 },
 "nbformat": 4,
 "nbformat_minor": 2
}
