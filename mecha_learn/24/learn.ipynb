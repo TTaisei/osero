{
 "cells": [
  {
   "cell_type": "code",
   "execution_count": 1,
   "metadata": {},
   "outputs": [],
   "source": [
    "import pandas as pd\n",
    "\n",
    "df = pd.read_csv(\"data.csv\")\n",
    "df = df.query(\"num == 3\")\n",
    "\n",
    "df_b = df.query(\"turn == 0\")\n",
    "df_b = df_b.query(\"last_black_score > last_white_score\")\n",
    "\n",
    "df_w = df.query(\"turn == 1\")\n",
    "df_w = df_b.query(\"last_white_score > last_black_score\")"
   ]
  },
  {
   "cell_type": "code",
   "execution_count": 2,
   "metadata": {},
   "outputs": [],
   "source": [
    "from sklearn.model_selection import train_test_split\n",
    "from sklearn.tree import DecisionTreeClassifier\n",
    "import numpy as np\n",
    "\n",
    "x = df_b.drop([\"turn\", \"num\", \"put_place\", \"last_black_score\", \"last_white_score\"], axis=1)\n",
    "y = df_b[\"put_place\"]\n",
    "\n",
    "x_train, x_test, y_train, y_test = train_test_split(\n",
    "    x,\n",
    "    y,\n",
    "    test_size=0.3,\n",
    "    random_state=0\n",
    ")"
   ]
  },
  {
   "cell_type": "code",
   "execution_count": 3,
   "metadata": {},
   "outputs": [],
   "source": [
    "import matplotlib.pyplot as plt\n",
    "\n",
    "def plot(x, y_train, y_test, xlabel, ylabel, title, save_dir):\n",
    "    fig = plt.figure(figsize=(10, 10))\n",
    "    plt.plot(x, y_train, label=\"train score\")\n",
    "    plt.plot(x, y_test, label=\"test score\")\n",
    "    plt.legend()\n",
    "    plt.xlabel(xlabel)\n",
    "    plt.ylabel(ylabel)\n",
    "    plt.title(title)\n",
    "    plt.plot()\n",
    "    plt.savefig(save_dir % title)\n",
    "    plt.clf()\n",
    "    plt.close()"
   ]
  },
  {
   "cell_type": "code",
   "execution_count": null,
   "metadata": {},
   "outputs": [],
   "source": [
    "# with open(\"learn_data_black.csv\", \"w\") as file:\n",
    "#     file.write(\"criterion,splitter,max_features,max_depth,min_samples_split,\")\n",
    "#     file.write(\"min_samples_leaf,max_leaf_nodes,train_score,test_score\\n\")\n",
    "#     for criterion in [\"entropy\", \"gini\"]:\n",
    "#         for splitter in [\"best\", \"random\"]:\n",
    "#             for max_features in [i for i in range(0, 9 + 1)]:\n",
    "#                 for max_depth in [i for i in range(1, 41)]:\n",
    "#                     for min_samples_split in np.arange(0.001, 0.01, 0.001):\n",
    "#                         for min_samples_leaf in [i for i in range(1, 101)]:\n",
    "#                             for max_leaf_nodes in [i for i in range(2, 501)]:\n",
    "#                                 if max_features == 0:\n",
    "#                                     max_features = None\n",
    "#                                 model = DecisionTreeClassifier(\\\n",
    "#                                     criterion=criterion,\n",
    "#                                     splitter=splitter,\n",
    "#                                     max_features=max_features,\n",
    "#                                     max_depth=max_depth,\n",
    "#                                     min_samples_split=min_samples_split,\n",
    "#                                     min_samples_leaf=min_samples_leaf,\n",
    "#                                     max_leaf_nodes=max_leaf_nodes,\n",
    "#                                     random_state=0\n",
    "#                                 )\n",
    "#                                 model.fit(x_train, y_train)\n",
    "#                                 train_score = model.score(x_train, y_train)\n",
    "#                                 test_score = model.score(x_test, y_test)\n",
    "#                                 file.write(\"%s,%s,\" % (criterion, splitter))\n",
    "#                                 if max_features:\n",
    "#                                     file.write(\"%d,\" % max_features)\n",
    "#                                 else:\n",
    "#                                     file.write(\"None,\")\n",
    "#                                 file.write(\\\n",
    "#                                     \"%d,%f,%d,%d,%f,%f\\n\" % (\\\n",
    "#                                         max_depth,\n",
    "#                                         min_samples_split,\n",
    "#                                         min_samples_leaf,\n",
    "#                                         max_leaf_nodes,\n",
    "#                                         train_score,\n",
    "#                                         test_score\n",
    "#                                     )\n",
    "#                                 )"
   ]
  },
  {
   "cell_type": "code",
   "execution_count": 25,
   "metadata": {},
   "outputs": [
    {
     "name": "stdout",
     "output_type": "stream",
     "text": [
      "entropy:\n",
      "train score:\t0.831784\n",
      "test score:\t0.341225\n",
      "gini:\n",
      "train score:\t0.831784\n",
      "test score:\t0.344908\n"
     ]
    }
   ],
   "source": [
    "for criterion in [\"entropy\", \"gini\"]:\n",
    "    model = DecisionTreeClassifier(criterion=criterion, random_state=0)\n",
    "    model.fit(x_train, y_train)\n",
    "    print(\"%s:\" % criterion)\n",
    "    print(\"train score:\\t%f\" % model.score(x_train, y_train))\n",
    "    print(\"test score:\\t%f\" % model.score(x_test, y_test))"
   ]
  },
  {
   "cell_type": "code",
   "execution_count": 26,
   "metadata": {},
   "outputs": [
    {
     "name": "stdout",
     "output_type": "stream",
     "text": [
      "best:\n",
      "train score:\t0.831784\n",
      "test score:\t0.344908\n",
      "random:\n",
      "train score:\t0.831784\n",
      "test score:\t0.340056\n"
     ]
    }
   ],
   "source": [
    "for splitter in [\"best\", \"random\"]:\n",
    "    model = DecisionTreeClassifier(splitter=splitter, random_state=0)\n",
    "    model.fit(x_train, y_train)\n",
    "    print(\"%s:\" % splitter)\n",
    "    print(\"train score:\\t%f\" % model.score(x_train, y_train))\n",
    "    print(\"test score:\\t%f\" % model.score(x_test, y_test))"
   ]
  },
  {
   "cell_type": "code",
   "execution_count": 10,
   "metadata": {},
   "outputs": [],
   "source": [
    "x_data = [i for i in range(10)]\n",
    "y_train_data = []\n",
    "y_test_data = []\n",
    "\n",
    "for max_features in x_data:\n",
    "    if max_features:\n",
    "        pass\n",
    "    else:\n",
    "        max_features = None\n",
    "    model = DecisionTreeClassifier(max_features=max_features, random_state=0)\n",
    "    model.fit(x_train, y_train)\n",
    "    y_train_data.append(model.score(x_train, y_train))\n",
    "    y_test_data.append(model.score(x_test, y_test))\n",
    "\n",
    "plot(\n",
    "    x_data,\n",
    "    y_train_data,\n",
    "    y_test_data,\n",
    "    \"max_features\",\n",
    "    \"accuracy\",\n",
    "    \"accuracy for each max_features\",\n",
    "    \"fig/%s\"\n",
    ")"
   ]
  },
  {
   "cell_type": "code",
   "execution_count": 4,
   "metadata": {},
   "outputs": [],
   "source": [
    "x_data = [i for i in range(1, 101)]\n",
    "y_train_data = []\n",
    "y_test_data = []\n",
    "\n",
    "for max_depth in x_data:\n",
    "    model = DecisionTreeClassifier(max_depth=max_depth)\n",
    "    model.fit(x_train, y_train)\n",
    "    y_train_data.append(model.score(x_train, y_train))\n",
    "    y_test_data.append(model.score(x_test, y_test))\n",
    "\n",
    "plot(\n",
    "    x_data,\n",
    "    y_train_data,\n",
    "    y_test_data,\n",
    "    \"max_depth\",\n",
    "    \"accuracy\",\n",
    "    \"accuracy for each max_depth\",\n",
    "    \"fig/%s\"\n",
    ")"
   ]
  },
  {
   "cell_type": "code",
   "execution_count": 5,
   "metadata": {},
   "outputs": [],
   "source": [
    "x_data = [i for i in np.arange(0.001, 0.01, 0.001)]\n",
    "y_train_data = []\n",
    "y_test_data = []\n",
    "\n",
    "for min_samples_split in x_data:\n",
    "    model = DecisionTreeClassifier(min_samples_split=min_samples_split)\n",
    "    model.fit(x_train, y_train)\n",
    "    y_train_data.append(model.score(x_train, y_train))\n",
    "    y_test_data.append(model.score(x_test, y_test))\n",
    "\n",
    "plot(\n",
    "    x_data,\n",
    "    y_train_data,\n",
    "    y_test_data,\n",
    "    \"min_samples_split\",\n",
    "    \"accuracy\",\n",
    "    \"accuracy for each min_samples_split\",\n",
    "    \"fig/%s\"\n",
    ")"
   ]
  },
  {
   "cell_type": "code",
   "execution_count": 6,
   "metadata": {},
   "outputs": [],
   "source": [
    "x_data = [i for i in range(1, 101)]\n",
    "y_train_data = []\n",
    "y_test_data = []\n",
    "\n",
    "for min_samples_leaf in x_data:\n",
    "    model = DecisionTreeClassifier(min_samples_leaf=min_samples_leaf)\n",
    "    model.fit(x_train, y_train)\n",
    "    y_train_data.append(model.score(x_train, y_train))\n",
    "    y_test_data.append(model.score(x_test, y_test))\n",
    "\n",
    "plot(\n",
    "    x_data,\n",
    "    y_train_data,\n",
    "    y_test_data,\n",
    "    \"min_samples_leaf\",\n",
    "    \"accuracy\",\n",
    "    \"accuracy for each min_samples_leaf\",\n",
    "    \"fig/%s\"\n",
    ")"
   ]
  },
  {
   "cell_type": "code",
   "execution_count": 7,
   "metadata": {},
   "outputs": [],
   "source": [
    "x_data = [i for i in range(2, 501)]\n",
    "y_train_data = []\n",
    "y_test_data = []\n",
    "\n",
    "for max_leaf_nodes in x_data:\n",
    "    model = DecisionTreeClassifier(max_leaf_nodes=max_leaf_nodes)\n",
    "    model.fit(x_train, y_train)\n",
    "    y_train_data.append(model.score(x_train, y_train))\n",
    "    y_test_data.append(model.score(x_test, y_test))\n",
    "\n",
    "plot(\n",
    "    x_data,\n",
    "    y_train_data,\n",
    "    y_test_data,\n",
    "    \"max_leaf_nodes\",\n",
    "    \"accuracy\",\n",
    "    \"accuracy for each max_leaf_nodes\",\n",
    "    \"fig/%s\"\n",
    ")"
   ]
  },
  {
   "cell_type": "code",
   "execution_count": null,
   "metadata": {},
   "outputs": [],
   "source": []
  }
 ],
 "metadata": {
  "interpreter": {
   "hash": "400b3448902b2aa85e7a3848e7bd72dda1a711f8af9f184efc41490bde870126"
  },
  "kernelspec": {
   "display_name": "Python 3.7.9 32-bit ('Thonny')",
   "name": "python3"
  },
  "language_info": {
   "codemirror_mode": {
    "name": "ipython",
    "version": 3
   },
   "file_extension": ".py",
   "mimetype": "text/x-python",
   "name": "python",
   "nbconvert_exporter": "python",
   "pygments_lexer": "ipython3",
   "version": "3.7.9"
  },
  "orig_nbformat": 4
 },
 "nbformat": 4,
 "nbformat_minor": 2
}
