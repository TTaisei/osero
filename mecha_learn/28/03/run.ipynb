{
 "cells": [
  {
   "cell_type": "code",
   "execution_count": 3,
   "metadata": {},
   "outputs": [],
   "source": [
    "from copy import deepcopy\n",
    "\n",
    "import pandas as pd\n",
    "\n",
    "from BitBoard import osero\n",
    "from osero_learn import learn\n",
    "\n",
    "PLAY_WAY = deepcopy(osero.PLAY_WAY)\n",
    "del PLAY_WAY[\"human\"]\n",
    "PLAY_WAY = PLAY_WAY.values()"
   ]
  },
  {
   "cell_type": "code",
   "execution_count": 4,
   "metadata": {},
   "outputs": [],
   "source": [
    "eva = [[\n",
    "     1.0, -0.6,  0.6,  0.4,  0.4,  0.6, -0.6,  1.0,\n",
    "    -0.6, -0.8,  0.0,  0.0,  0.0,  0.0, -0.8, -0.6,\n",
    "     0.6,  0.0,  0.8,  0.6,  0.6,  0.8,  0.0,  0.6,\n",
    "     0.4,  0.0,  0.6,  0.0,  0.0,  0.6,  0.0,  0.4,\n",
    "     0.4,  0.0,  0.6,  0.0,  0.0,  0.6,  0.0,  0.4,\n",
    "     0.6,  0.0,  0.8,  0.6,  0.6,  0.8,  0.0,  0.6,\n",
    "    -0.6, -0.8,  0.0,  0.0,  0.0,  0.0, -0.8, -0.6,\n",
    "     1.0, -0.6,  0.6,  0.4,  0.4,  0.6, -0.6,  1.0\n",
    "] for i in range(2)]"
   ]
  },
  {
   "cell_type": "code",
   "execution_count": 5,
   "metadata": {},
   "outputs": [
    {
     "name": "stdout",
     "output_type": "stream",
     "text": [
      "[##########]\n"
     ]
    }
   ],
   "source": [
    "df = pd.DataFrame({})\n",
    "\n",
    "check_point = [i for i in range(5, 64, 5)]\n",
    "\n",
    "for i in range(10):\n",
    "    print(\"\\r[\" + \"#\" * (i+1) + \" \" * (10-i+1) + \"]\", end=\"\")\n",
    "    for black in PLAY_WAY:\n",
    "        for white in PLAY_WAY:\n",
    "            run = learn(\\\n",
    "                black,\n",
    "                white,\n",
    "                check_point=check_point,\n",
    "                seed_num=i,\n",
    "                eva=eva\n",
    "            )\n",
    "            data = run.play()\n",
    "            df = df.append(data, ignore_index=True)\n",
    "\n",
    "print(\"\\r[\" + \"#\" * 10 + \"]\")"
   ]
  },
  {
   "cell_type": "code",
   "execution_count": 20,
   "metadata": {},
   "outputs": [],
   "source": [
    "import matplotlib.pyplot as plt\n",
    "import numpy as np\n",
    "\n",
    "from sklearn.model_selection import train_test_split\n",
    "from sklearn.metrics import mean_absolute_error\n",
    "from sklearn.preprocessing import StandardScaler\n",
    "from sklearn.preprocessing import PowerTransformer\n",
    "from sklearn.pipeline import Pipeline\n",
    "from sklearn.linear_model import Ridge\n",
    "\n",
    "x_data = df.drop([\"turn\", \"last_score\"], axis=1)\n",
    "y_data = df[[\"turn_num\", \"last_score\"]]\n",
    "\n",
    "turn_vari = df[\"turn_num\"].unique()"
   ]
  },
  {
   "cell_type": "code",
   "execution_count": 18,
   "metadata": {},
   "outputs": [],
   "source": [
    "def two_plot(x, y, xlabel, ylabel, title, save_dir):\n",
    "    fig = plt.figure(figsize=(10, 10))\n",
    "    plt.plot(x, y[0], label=\"train score\")\n",
    "    plt.plot(x, y[1], label=\"test score\")\n",
    "    plt.title(title)\n",
    "    plt.xlabel(xlabel)\n",
    "    plt.ylabel(ylabel)\n",
    "    plt.legend()\n",
    "    plt.savefig(save_dir + \"/\" + title)\n",
    "    plt.clf()\n",
    "    plt.close()\n",
    "\n",
    "# def two_bar(x, x_name, y, xlabel, ylabel, title, save_dir):\n",
    "#     fig = plt.figure(figsize=(10, 10))\n",
    "#     plt.bar(x, y[0], label=\"train score\", width=0.3)\n",
    "#     plt.bar(x + 0.3, y[1], label=\"test score\", width=0.3)\n",
    "#     plt.xticks(x + 0.15, labels=x_name)\n",
    "#     plt.title(title)\n",
    "#     plt.xlabel(xlabel)\n",
    "#     plt.ylabel(ylabel)\n",
    "#     plt.legend()\n",
    "#     plt.savefig(save_dir + \"/\" + title)\n",
    "#     plt.clf()\n",
    "#     plt.close()"
   ]
  },
  {
   "cell_type": "code",
   "execution_count": 21,
   "metadata": {},
   "outputs": [],
   "source": [
    "pipeline = Pipeline([\n",
    "    (\"scaler\", StandardScaler()),\n",
    "    (\"reg\", Ridge(random_state=0))\n",
    "])\n",
    "\n",
    "train_score = []\n",
    "test_score = []\n",
    "\n",
    "train_MAE = []\n",
    "test_MAE = []\n",
    "\n",
    "for turn_num in turn_vari:\n",
    "    x_train, x_test, y_train, y_test = train_test_split(\\\n",
    "        x_data.query(\"turn_num==%d\" % turn_num).drop(\"turn_num\", axis=1),\n",
    "        y_data.query(\"turn_num==%d\" % turn_num).drop(\"turn_num\", axis=1),\n",
    "        test_size=0.3,\n",
    "        random_state=0\n",
    "    )\n",
    "\n",
    "    pipeline.fit(x_train, y_train)\n",
    "\n",
    "    train_score.append(pipeline.score(x_train, y_train))\n",
    "    test_score.append(pipeline.score(x_test, y_test))\n",
    "\n",
    "    train_predict = pipeline.predict(x_train)\n",
    "    train_MAE.append(mean_absolute_error(train_predict, y_train))\n",
    "    test_predict = pipeline.predict(x_test)\n",
    "    test_MAE.append(mean_absolute_error(test_predict, y_test))\n",
    "\n",
    "x = [str(i) for i in turn_vari]\n",
    "y = [train_score, test_score]\n",
    "two_plot(x, y, \"turn number\", \"score\", \"standard scaler score\", \"fig\")\n",
    "\n",
    "y = [train_MAE, test_MAE]\n",
    "two_plot(x, y, \"turn number\", \"MAE\", \"standard scaler MAE\", \"fig\")"
   ]
  },
  {
   "cell_type": "code",
   "execution_count": null,
   "metadata": {},
   "outputs": [],
   "source": [
    "pipeline = Pipeline([\n",
    "    (\"scaler\", PowerTransformer()),\n",
    "    (\"reg\", Ridge(random_state=0))\n",
    "])\n",
    "\n",
    "train_score = []\n",
    "test_score = []\n",
    "\n",
    "train_MAE = []\n",
    "test_MAE = []\n",
    "\n",
    "for turn_num in turn_vari:\n",
    "    x_train, x_test, y_train, y_test = train_test_split(\\\n",
    "        x_data.query(\"turn_num==%d\" % turn_num).drop(\"turn_num\", axis=1),\n",
    "        y_data.query(\"turn_num==%d\" % turn_num).drop(\"turn_num\", axis=1),\n",
    "        test_size=0.3,\n",
    "        random_state=0\n",
    "    )\n",
    "\n",
    "    pipeline.fit(x_train, y_train)\n",
    "\n",
    "    train_score.append(pipeline.score(x_train, y_train))\n",
    "    test_score.append(pipeline.score(x_test, y_test))\n",
    "\n",
    "    train_predict = pipeline.predict(x_train)\n",
    "    train_MAE.append(mean_absolute_error(train_predict, y_train))\n",
    "    test_predict = pipeline.predict(x_test)\n",
    "    test_MAE.append(mean_absolute_error(test_predict, y_test))\n",
    "\n",
    "x = [str(i) for i in turn_vari]\n",
    "y = [train_score, test_score]\n",
    "two_plot(x, y, \"turn number\", \"score\", \"power transformed score\", \"fig\")\n",
    "\n",
    "y = [train_MAE, test_MAE]\n",
    "two_plot(x, y, \"turn number\", \"MAE\", \"power transformed MAE\", \"fig\")"
   ]
  }
 ],
 "metadata": {
  "interpreter": {
   "hash": "400b3448902b2aa85e7a3848e7bd72dda1a711f8af9f184efc41490bde870126"
  },
  "kernelspec": {
   "display_name": "",
   "language": "python",
   "name": "python3"
  },
  "language_info": {
   "codemirror_mode": {
    "name": "ipython",
    "version": 3
   },
   "file_extension": ".py",
   "mimetype": "text/x-python",
   "name": "python",
   "nbconvert_exporter": "python",
   "pygments_lexer": "ipython3",
   "version": "3.7.9"
  },
  "orig_nbformat": 4
 },
 "nbformat": 4,
 "nbformat_minor": 2
}
