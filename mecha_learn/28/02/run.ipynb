{
 "cells": [
  {
   "cell_type": "code",
   "execution_count": 1,
   "metadata": {},
   "outputs": [],
   "source": [
    "from copy import deepcopy\n",
    "\n",
    "import pandas as pd\n",
    "\n",
    "from BitBoard import osero\n",
    "from osero_learn import learn\n",
    "\n",
    "PLAY_WAY = deepcopy(osero.PLAY_WAY)\n",
    "del PLAY_WAY[\"human\"]\n",
    "PLAY_WAY = PLAY_WAY.values()"
   ]
  },
  {
   "cell_type": "code",
   "execution_count": 2,
   "metadata": {},
   "outputs": [],
   "source": [
    "eva = [[\n",
    "     1.0, -0.6,  0.6,  0.4,  0.4,  0.6, -0.6,  1.0,\n",
    "    -0.6, -0.8,  0.0,  0.0,  0.0,  0.0, -0.8, -0.6,\n",
    "     0.6,  0.0,  0.8,  0.6,  0.6,  0.8,  0.0,  0.6,\n",
    "     0.4,  0.0,  0.6,  0.0,  0.0,  0.6,  0.0,  0.4,\n",
    "     0.4,  0.0,  0.6,  0.0,  0.0,  0.6,  0.0,  0.4,\n",
    "     0.6,  0.0,  0.8,  0.6,  0.6,  0.8,  0.0,  0.6,\n",
    "    -0.6, -0.8,  0.0,  0.0,  0.0,  0.0, -0.8, -0.6,\n",
    "     1.0, -0.6,  0.6,  0.4,  0.4,  0.6, -0.6,  1.0\n",
    "] for i in range(2)]"
   ]
  },
  {
   "cell_type": "code",
   "execution_count": 3,
   "metadata": {},
   "outputs": [
    {
     "name": "stdout",
     "output_type": "stream",
     "text": [
      "[##########]\n"
     ]
    }
   ],
   "source": [
    "df = pd.DataFrame({})\n",
    "\n",
    "check_point = [i for i in range(5, 64, 5)]\n",
    "\n",
    "for i in range(10):\n",
    "    print(\"\\r[\" + \"#\" * (i+1) + \" \" * (10-i+1) + \"]\", end=\"\")\n",
    "    for black in PLAY_WAY:\n",
    "        for white in PLAY_WAY:\n",
    "            run = learn(\\\n",
    "                black,\n",
    "                white,\n",
    "                check_point=check_point,\n",
    "                seed_num=i,\n",
    "                eva=eva\n",
    "            )\n",
    "            data = run.play()\n",
    "            df = df.append(data, ignore_index=True)\n",
    "\n",
    "print(\"\\r[\" + \"#\" * 10 + \"]\")"
   ]
  },
  {
   "cell_type": "code",
   "execution_count": 4,
   "metadata": {},
   "outputs": [],
   "source": [
    "import matplotlib.pyplot as plt\n",
    "import numpy as np\n",
    "\n",
    "from sklearn.model_selection import train_test_split\n",
    "from sklearn.metrics import mean_absolute_error\n",
    "from sklearn.linear_model import Ridge\n",
    "\n",
    "x_data = df.drop([\"turn\", \"last_score\"], axis=1)\n",
    "y_data = df[[\"turn_num\", \"last_score\"]]\n",
    "\n",
    "turn_vari = df[\"turn_num\"].unique()\n",
    "drop_vari = [\"custom_score and score\", \"custom_score\", \"score\", \"None\"]"
   ]
  },
  {
   "cell_type": "code",
   "execution_count": 5,
   "metadata": {},
   "outputs": [],
   "source": [
    "train_score = []\n",
    "test_score = []\n",
    "\n",
    "train_MAE = []\n",
    "test_MAE = []\n",
    "\n",
    "for turn_num in turn_vari:\n",
    "    train_score.append([])\n",
    "    test_score.append([])\n",
    "\n",
    "    train_MAE.append([])\n",
    "    test_MAE.append([])\n",
    "\n",
    "    for drop_list in [[\"custom_score\", \"score\"], [\"custom_score\"], [\"score\"], []]:\n",
    "        drop_list.append(\"turn_num\")\n",
    "        x_train, x_test, y_train, y_test = train_test_split(\\\n",
    "            x_data.query(\"turn_num==%d\" % turn_num).drop(drop_list, axis=1),\n",
    "            y_data.query(\"turn_num==%d\" % turn_num).drop(\"turn_num\", axis=1),\n",
    "            test_size=0.3,\n",
    "            random_state=0\n",
    "        )\n",
    "\n",
    "        model = Ridge(random_state=0)\n",
    "        model.fit(x_train, y_train)\n",
    "        \n",
    "        train_score[-1].append(model.score(x_train, y_train))\n",
    "        test_score[-1].append(model.score(x_test, y_test))\n",
    "\n",
    "        train_predict = model.predict(x_train)\n",
    "        train_MAE[-1].append(mean_absolute_error(train_predict, y_train))\n",
    "        test_predict = model.predict(x_test)\n",
    "        test_MAE[-1].append(mean_absolute_error(test_predict, y_test))"
   ]
  },
  {
   "cell_type": "code",
   "execution_count": 6,
   "metadata": {},
   "outputs": [],
   "source": [
    "width = 0.3\n",
    "x_axis = np.array([i + 1 for i in range(len(drop_vari))])\n",
    "\n",
    "for i in range(len(turn_vari)):\n",
    "    fig_name = \"score of each dropping (number of turn is %d)\" % turn_vari[i]\n",
    "    fig = plt.figure(figsize=(10, 10))\n",
    "    plt.bar(x_axis, train_score[i], label=\"train score\", width=width)\n",
    "    plt.bar(x_axis + width, test_score[i], label=\"test score\", width=width)\n",
    "    plt.xticks(x_axis + width/2, labels=drop_vari, rotation=15)\n",
    "    plt.legend()\n",
    "    plt.title(fig_name)\n",
    "    plt.xlabel(\"dropped column\")\n",
    "    plt.ylabel(\"score\")\n",
    "    plt.savefig(\"fig/\" + fig_name)\n",
    "    # plt.show()\n",
    "    plt.clf()\n",
    "    plt.close()\n",
    "\n",
    "    fig_name = \"MAE of each dropping (number of turn is %d)\" % turn_vari[i]\n",
    "    fig = plt.figure(figsize=(10, 10))\n",
    "    plt.bar(x_axis, train_MAE[i], label=\"train MAE\", width=width)\n",
    "    plt.bar(x_axis + width, test_MAE[i], label=\"test MAE\", width=width)\n",
    "    plt.xticks(x_axis + width/2, labels=drop_vari, rotation=15)\n",
    "    plt.legend()\n",
    "    plt.title(fig_name)\n",
    "    plt.xlabel(\"dropped column\")\n",
    "    plt.ylabel(\"mean absolute error\")\n",
    "    plt.savefig(\"fig/\" + fig_name)\n",
    "    # plt.show()\n",
    "    plt.clf()\n",
    "    plt.close()"
   ]
  },
  {
   "cell_type": "code",
   "execution_count": 7,
   "metadata": {},
   "outputs": [],
   "source": [
    "x_axis = np.array([i + 1 for i in range(len(turn_vari))])\n",
    "x_axis_name = [str(i) for i in turn_vari]\n",
    "\n",
    "train_score_T = np.array(train_score).T\n",
    "test_score_T = np.array(test_score).T\n",
    "\n",
    "train_MAE_T = np.array(train_MAE).T\n",
    "test_MAE_T = np.array(test_MAE).T\n",
    "\n",
    "for i in range(len(drop_vari)):\n",
    "    fig_name = \"score of each turn number (dropped column is %s)\" % drop_vari[i]\n",
    "    fig = plt.figure(figsize=(10, 10))\n",
    "    plt.plot(x_axis_name, train_score_T[i], label=\"train score\")\n",
    "    plt.plot(x_axis_name, test_score_T[i], label=\"test score\")\n",
    "    plt.legend()\n",
    "    plt.title(fig_name)\n",
    "    plt.xlabel(\"turn number\")\n",
    "    plt.ylabel(\"score\")\n",
    "    plt.savefig(\"fig/\" + fig_name)\n",
    "    # plt.show()\n",
    "    plt.clf()\n",
    "    plt.close()\n",
    "\n",
    "    fig_name = \"MAE of each turn number (dropped column is %s)\" % drop_vari[i]\n",
    "    fig = plt.figure(figsize=(10, 10))\n",
    "    plt.plot(x_axis_name, train_MAE_T[i], label=\"train MAE\")\n",
    "    plt.plot(x_axis_name, test_MAE_T[i], label=\"test MAE\")\n",
    "    plt.legend()\n",
    "    plt.title(fig_name)\n",
    "    plt.xlabel(\"turn number\")\n",
    "    plt.ylabel(\"mean absolute error\")\n",
    "    plt.savefig(\"fig/\" + fig_name)\n",
    "    # plt.show()\n",
    "    plt.clf()\n",
    "    plt.close()"
   ]
  }
 ],
 "metadata": {
  "interpreter": {
   "hash": "400b3448902b2aa85e7a3848e7bd72dda1a711f8af9f184efc41490bde870126"
  },
  "kernelspec": {
   "display_name": "",
   "language": "python",
   "name": "python3"
  },
  "language_info": {
   "codemirror_mode": {
    "name": "ipython",
    "version": 3
   },
   "file_extension": ".py",
   "mimetype": "text/x-python",
   "name": "python",
   "nbconvert_exporter": "python",
   "pygments_lexer": "ipython3",
   "version": "3.7.9"
  },
  "orig_nbformat": 4
 },
 "nbformat": 4,
 "nbformat_minor": 2
}
