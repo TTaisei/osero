{
 "cells": [
  {
   "cell_type": "code",
   "execution_count": 9,
   "metadata": {},
   "outputs": [],
   "source": [
    "import pandas as pd\n",
    "import matplotlib.pyplot as plt\n",
    "\n",
    "data = pd.read_csv(\"data.csv\")\n",
    "methods_name = data[\"black_method\"].unique()"
   ]
  },
  {
   "cell_type": "code",
   "execution_count": 2,
   "metadata": {},
   "outputs": [
    {
     "data": {
      "text/html": [
       "<div>\n",
       "<style scoped>\n",
       "    .dataframe tbody tr th:only-of-type {\n",
       "        vertical-align: middle;\n",
       "    }\n",
       "\n",
       "    .dataframe tbody tr th {\n",
       "        vertical-align: top;\n",
       "    }\n",
       "\n",
       "    .dataframe thead th {\n",
       "        text-align: right;\n",
       "    }\n",
       "</style>\n",
       "<table border=\"1\" class=\"dataframe\">\n",
       "  <thead>\n",
       "    <tr style=\"text-align: right;\">\n",
       "      <th></th>\n",
       "      <th>Unnamed: 0</th>\n",
       "      <th>black_method</th>\n",
       "      <th>white_method</th>\n",
       "      <th>black_score</th>\n",
       "      <th>white_score</th>\n",
       "      <th>black_win</th>\n",
       "      <th>white_win</th>\n",
       "    </tr>\n",
       "  </thead>\n",
       "  <tbody>\n",
       "    <tr>\n",
       "      <th>0</th>\n",
       "      <td>0</td>\n",
       "      <td>random</td>\n",
       "      <td>5hand</td>\n",
       "      <td>25</td>\n",
       "      <td>39</td>\n",
       "      <td>0</td>\n",
       "      <td>1</td>\n",
       "    </tr>\n",
       "    <tr>\n",
       "      <th>1</th>\n",
       "      <td>1</td>\n",
       "      <td>random</td>\n",
       "      <td>5hand_custom</td>\n",
       "      <td>22</td>\n",
       "      <td>42</td>\n",
       "      <td>0</td>\n",
       "      <td>1</td>\n",
       "    </tr>\n",
       "    <tr>\n",
       "      <th>2</th>\n",
       "      <td>2</td>\n",
       "      <td>random</td>\n",
       "      <td>2least</td>\n",
       "      <td>8</td>\n",
       "      <td>56</td>\n",
       "      <td>0</td>\n",
       "      <td>1</td>\n",
       "    </tr>\n",
       "    <tr>\n",
       "      <th>3</th>\n",
       "      <td>3</td>\n",
       "      <td>random</td>\n",
       "      <td>2most</td>\n",
       "      <td>37</td>\n",
       "      <td>27</td>\n",
       "      <td>1</td>\n",
       "      <td>0</td>\n",
       "    </tr>\n",
       "    <tr>\n",
       "      <th>4</th>\n",
       "      <td>4</td>\n",
       "      <td>random</td>\n",
       "      <td>Ridge</td>\n",
       "      <td>47</td>\n",
       "      <td>17</td>\n",
       "      <td>1</td>\n",
       "      <td>0</td>\n",
       "    </tr>\n",
       "  </tbody>\n",
       "</table>\n",
       "</div>"
      ],
      "text/plain": [
       "   Unnamed: 0 black_method  white_method  black_score  white_score  black_win  \\\n",
       "0           0       random         5hand           25           39          0   \n",
       "1           1       random  5hand_custom           22           42          0   \n",
       "2           2       random        2least            8           56          0   \n",
       "3           3       random         2most           37           27          1   \n",
       "4           4       random         Ridge           47           17          1   \n",
       "\n",
       "   white_win  \n",
       "0          1  \n",
       "1          1  \n",
       "2          1  \n",
       "3          0  \n",
       "4          0  "
      ]
     },
     "execution_count": 2,
     "metadata": {},
     "output_type": "execute_result"
    }
   ],
   "source": [
    "data.head()"
   ]
  },
  {
   "cell_type": "code",
   "execution_count": 10,
   "metadata": {},
   "outputs": [],
   "source": [
    "def plot(x, y, xlabel, ylabel, fig_name, dir_name):\n",
    "    fig = plt.figure(figsize=(10, 10))\n",
    "    plt.bar(x, y)\n",
    "    plt.xlabel(xlabel)\n",
    "    plt.ylabel(ylabel)\n",
    "    plt.title(fig_name)\n",
    "    plt.savefig(dir_name + \"/\" + fig_name)\n",
    "    plt.clf()\n",
    "    plt.close()"
   ]
  },
  {
   "cell_type": "code",
   "execution_count": 14,
   "metadata": {},
   "outputs": [
    {
     "name": "stdout",
     "output_type": "stream",
     "text": [
      "random win num:\t4\n",
      "5hand win num:\t8\n",
      "5hand_custom win num:\t7\n",
      "2least win num:\t10\n",
      "2most win num:\t2\n",
      "Ridge win num:\t6\n",
      "NN win num:\t3\n"
     ]
    }
   ],
   "source": [
    "y = []\n",
    "\n",
    "for method in methods_name:\n",
    "    num = 0\n",
    "    num += len(data.query(\"black_method=='%s'\" % method).query(\"black_win==1\"))\n",
    "    num += len(data.query(\"white_method=='%s'\" % method).query(\"white_win==1\"))\n",
    "    y.append(num)\n",
    "\n",
    "    print(\"%s win num:\\t%d\" % (method, num))\n",
    "\n",
    "plot(methods_name, y, \"method name\", \"win num\", \"win num each method name\", \"fig\")"
   ]
  },
  {
   "cell_type": "code",
   "execution_count": 15,
   "metadata": {},
   "outputs": [
    {
     "name": "stdout",
     "output_type": "stream",
     "text": [
      "random lose num:\t8\n",
      "5hand lose num:\t4\n",
      "5hand_custom lose num:\t5\n",
      "2least lose num:\t2\n",
      "2most lose num:\t10\n",
      "Ridge lose num:\t6\n",
      "NN lose num:\t9\n"
     ]
    }
   ],
   "source": [
    "y = []\n",
    "\n",
    "for method in methods_name:\n",
    "    num = 0\n",
    "    num += len(data.query(\"black_method=='%s'\" % method).query(\"black_win==0\"))\n",
    "    num += len(data.query(\"white_method=='%s'\" % method).query(\"white_win==0\"))\n",
    "    y.append(num)\n",
    "\n",
    "    print(\"%s lose num:\\t%d\" % (method, num))\n",
    "\n",
    "plot(methods_name, y, \"method name\", \"lose num\", \"lose num each method name\", \"fig\")"
   ]
  },
  {
   "cell_type": "code",
   "execution_count": 19,
   "metadata": {},
   "outputs": [
    {
     "name": "stdout",
     "output_type": "stream",
     "text": [
      "random score sum:\t335,\tmean:\t27.9167\n",
      "5hand score sum:\t442,\tmean:\t36.8333\n",
      "5hand_custom score sum:\t408,\tmean:\t34.0000\n",
      "2least score sum:\t505,\tmean:\t42.0833\n",
      "2most score sum:\t321,\tmean:\t26.7500\n",
      "Ridge score sum:\t395,\tmean:\t32.9167\n",
      "NN score sum:\t281,\tmean:\t23.4167\n"
     ]
    }
   ],
   "source": [
    "y = []\n",
    "\n",
    "for method in methods_name:\n",
    "    num = 0\n",
    "    num += data.query(\"black_method=='%s'\" % method)[\"black_score\"].sum()\n",
    "    num += data.query(\"white_method=='%s'\" % method)[\"white_score\"].sum()\n",
    "    y.append(num)\n",
    "\n",
    "    print(\"%s score sum:\\t%d,\\tmean:\\t%.4f\" % (method, num, num / 12))\n",
    "\n",
    "plot(methods_name, y, \"method name\", \"score num\", \"score num each method name\", \"fig\")"
   ]
  },
  {
   "cell_type": "code",
   "execution_count": null,
   "metadata": {},
   "outputs": [],
   "source": []
  }
 ],
 "metadata": {
  "interpreter": {
   "hash": "400b3448902b2aa85e7a3848e7bd72dda1a711f8af9f184efc41490bde870126"
  },
  "kernelspec": {
   "display_name": "Python 3.7.9 32-bit",
   "language": "python",
   "name": "python3"
  },
  "language_info": {
   "codemirror_mode": {
    "name": "ipython",
    "version": 3
   },
   "file_extension": ".py",
   "mimetype": "text/x-python",
   "name": "python",
   "nbconvert_exporter": "python",
   "pygments_lexer": "ipython3",
   "version": "3.7.9"
  },
  "orig_nbformat": 4
 },
 "nbformat": 4,
 "nbformat_minor": 2
}
