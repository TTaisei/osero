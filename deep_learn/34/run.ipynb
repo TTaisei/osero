{
 "cells": [
  {
   "cell_type": "code",
   "execution_count": 1,
   "metadata": {},
   "outputs": [],
   "source": [
    "import re\n",
    "\n",
    "import pandas as pd\n",
    "\n",
    "import battle\n",
    "\n",
    "run = battle.battle()"
   ]
  },
  {
   "cell_type": "code",
   "execution_count": 4,
   "metadata": {},
   "outputs": [],
   "source": [
    "methods_name = [\n",
    "    \"random\",\n",
    "    \"5hand\",\n",
    "    \"5hand_custom\",\n",
    "    \"2least\",\n",
    "    \"2most\",\n",
    "    \"Ridge\",\n",
    "    \"NN\"\n",
    "]\n",
    "\n",
    "results = {\n",
    "    \"black_method\": [],\n",
    "    \"white_method\": [],\n",
    "    \"black_score\": [],\n",
    "    \"white_score\": [],\n",
    "    \"black_win\": [],\n",
    "    \"white_win\": []\n",
    "}"
   ]
  },
  {
   "cell_type": "code",
   "execution_count": null,
   "metadata": {},
   "outputs": [],
   "source": [
    "# for i in range(10):\n",
    "#     print(\"\\r%d/%d\" % (i + 1, 10), end=\"\")\n",
    "\n",
    "i = 1\n",
    "\n",
    "for black in methods_name:\n",
    "    print(\"\\r%d/%d\" % (i, len(methods_name)), end=\"\")\n",
    "    if re.search(r\"hand_custom\", black):\n",
    "        run.black_method = run.PLAY_WAY[\"nhand_custom\"]\n",
    "        run.eva[1] = battle.eva_custom\n",
    "    elif re.search(r\"hand\", black):\n",
    "        run.black_method = run.PLAY_WAY[\"nhand\"]\n",
    "        run.eva[1] = battle.eva\n",
    "    elif re.search(r\"least\", black):\n",
    "        run.black_method = run.PLAY_WAY[\"nleast\"]\n",
    "    elif re.search(r\"most\", black):\n",
    "        run.black_method = run.PLAY_WAY[\"nmost\"]\n",
    "    else:\n",
    "        run.black_method = run.PLAY_WAY[black]\n",
    "\n",
    "    try:\n",
    "        b_num = int(re.match(r\"\\d\", black).group())\n",
    "    except:\n",
    "        b_num = 1\n",
    "    run.read_goal[1] = b_num\n",
    "\n",
    "    for white in methods_name:\n",
    "        if black == white:\n",
    "            continue\n",
    "\n",
    "        if re.search(r\"hand_custom\", white):\n",
    "            run.white_method = run.PLAY_WAY[\"nhand_custom\"]\n",
    "            run.eva[0] = battle.eva_custom\n",
    "        elif re.search(r\"hand\", white):\n",
    "            run.white_method = run.PLAY_WAY[\"nhand\"]\n",
    "            run.eva[0] = battle.eva\n",
    "        elif re.search(r\"least\", white):\n",
    "            run.white_method = run.PLAY_WAY[\"nleast\"]\n",
    "        elif re.search(r\"most\", white):\n",
    "            run.white_method = run.PLAY_WAY[\"nmost\"]\n",
    "        else:\n",
    "            run.white_method = run.PLAY_WAY[white]\n",
    "\n",
    "        try:\n",
    "            w_num = int(re.match(r\"\\d\", white).group())\n",
    "        except:\n",
    "            w_num = 1\n",
    "        run.read_goal[0] = w_num\n",
    "        \n",
    "        run.setup()\n",
    "        results_ele = run.play()\n",
    "\n",
    "        results[\"black_method\"].append(black)\n",
    "        results[\"white_method\"].append(white)\n",
    "        results[\"black_score\"].append(results_ele[0])\n",
    "        results[\"white_score\"].append(results_ele[1])\n",
    "        results[\"black_win\"].append(results_ele[2])\n",
    "        results[\"white_win\"].append(results_ele[3])\n",
    "    \n",
    "    i += 1"
   ]
  },
  {
   "cell_type": "code",
   "execution_count": 6,
   "metadata": {},
   "outputs": [],
   "source": [
    "results_df = pd.DataFrame(results)\n",
    "results_df.to_csv(\"data.csv\")"
   ]
  }
 ],
 "metadata": {
  "interpreter": {
   "hash": "400b3448902b2aa85e7a3848e7bd72dda1a711f8af9f184efc41490bde870126"
  },
  "kernelspec": {
   "display_name": "",
   "language": "python",
   "name": "python3"
  },
  "language_info": {
   "codemirror_mode": {
    "name": "ipython",
    "version": 3
   },
   "file_extension": ".py",
   "mimetype": "text/x-python",
   "name": "python",
   "nbconvert_exporter": "python",
   "pygments_lexer": "ipython3",
   "version": "3.7.9"
  },
  "orig_nbformat": 4
 },
 "nbformat": 4,
 "nbformat_minor": 2
}
