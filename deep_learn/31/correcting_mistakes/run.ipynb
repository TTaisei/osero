{
 "cells": [
  {
   "cell_type": "code",
   "execution_count": 1,
   "metadata": {},
   "outputs": [],
   "source": [
    "from copy import deepcopy\n",
    "\n",
    "import numpy as np\n",
    "\n",
    "from osero_learn import learn\n",
    "from BitBoard import osero"
   ]
  },
  {
   "cell_type": "code",
   "execution_count": 2,
   "metadata": {},
   "outputs": [],
   "source": [
    "PLAY_WAY = deepcopy(osero.PLAY_WAY)\n",
    "del PLAY_WAY[\"human\"]\n",
    "PLAY_WAY = PLAY_WAY.values()\n",
    "\n",
    "eva = [[\n",
    "     1.0, -0.6,  0.6,  0.4,  0.4,  0.6, -0.6,  1.0,\n",
    "    -0.6, -0.8,  0.0,  0.0,  0.0,  0.0, -0.8, -0.6,\n",
    "     0.6,  0.0,  0.8,  0.6,  0.6,  0.8,  0.0,  0.6,\n",
    "     0.4,  0.0,  0.6,  0.0,  0.0,  0.6,  0.0,  0.4,\n",
    "     0.4,  0.0,  0.6,  0.0,  0.0,  0.6,  0.0,  0.4,\n",
    "     0.6,  0.0,  0.8,  0.6,  0.6,  0.8,  0.0,  0.6,\n",
    "    -0.6, -0.8,  0.0,  0.0,  0.0,  0.0, -0.8, -0.6,\n",
    "     1.0, -0.6,  0.6,  0.4,  0.4,  0.6, -0.6,  1.0\n",
    "] for i in range(2)]"
   ]
  },
  {
   "cell_type": "code",
   "execution_count": 3,
   "metadata": {},
   "outputs": [
    {
     "name": "stdout",
     "output_type": "stream",
     "text": [
      "[##########]\n"
     ]
    }
   ],
   "source": [
    "data = []\n",
    "result = []\n",
    "\n",
    "turn_vari = [i for i in range(1, 61)]\n",
    "run = learn(0, 0, turn_vari, eva=eva)\n",
    "\n",
    "for i in range(10):\n",
    "    print(\"\\r[\" + \"#\" * (i+1) + \" \" * (10-i+1) + \"]\", end=\"\")\n",
    "    for black in PLAY_WAY:\n",
    "        for white in PLAY_WAY:\n",
    "            run.setup()\n",
    "            run.black_method = black\n",
    "            run.white_method = white\n",
    "            run.eva = eva\n",
    "            data_ele, result_ele = run.play()\n",
    "            for data_each_turn in data_ele:\n",
    "                data.append(data_each_turn)\n",
    "            for result_each_turn in result_ele:\n",
    "                result.append([result_each_turn])\n",
    "\n",
    "data = np.array(data).astype(np.float32)\n",
    "result = np.array(result).astype(np.float32)\n",
    "\n",
    "print(\"\\r[\" + \"#\" * 10 + \"]\")"
   ]
  },
  {
   "cell_type": "code",
   "execution_count": 4,
   "metadata": {},
   "outputs": [],
   "source": [
    "from chainer.datasets import TupleDataset\n",
    "from chainer.datasets import split_dataset_random\n",
    "from chainer.iterators import SerialIterator\n",
    "\n",
    "import chainer\n",
    "import chainer.links as L\n",
    "import chainer.functions as F\n",
    "\n",
    "from chainer import optimizers\n",
    "from chainer.optimizer_hooks import WeightDecay\n",
    "\n",
    "from chainer.dataset import concat_examples"
   ]
  },
  {
   "cell_type": "code",
   "execution_count": 19,
   "metadata": {},
   "outputs": [],
   "source": [
    "batch_size = 50\n",
    "\n",
    "dataset = TupleDataset(data, result)\n",
    "\n",
    "train_val, test = split_dataset_random(dataset, int(len(dataset) * 0.7), seed=0)\n",
    "train, valid = split_dataset_random(train_val, int(len(train_val) * 0.7), seed=0)\n",
    "\n",
    "train_iter = SerialIterator(train, batch_size=batch_size, repeat=True, shuffle=True)"
   ]
  },
  {
   "cell_type": "code",
   "execution_count": 20,
   "metadata": {},
   "outputs": [],
   "source": [
    "class Net(chainer.Chain):\n",
    "    def __init__(self, n_in, n_hidden, n_out):\n",
    "        super().__init__()\n",
    "        with self.init_scope():\n",
    "            self.l1 = L.Linear(n_in, n_hidden)\n",
    "            self.l2 = L.Linear(n_hidden, n_hidden)\n",
    "            # self.l3 = L.Linear(n_hidden, n_hidden)\n",
    "            # self.l4 = L.Linear(n_hidden, n_hidden)\n",
    "            self.l5 = L.Linear(n_hidden, n_out)\n",
    "    \n",
    "    def forward(self, x):\n",
    "        h = F.tanh(self.l1(x))\n",
    "        h = F.tanh(self.l2(h))\n",
    "        # h = F.tanh(self.l3(h))\n",
    "        # h = F.tanh(self.l4(h))\n",
    "        # h = F.elu(self.l1(x))\n",
    "        # h = F.elu(self.l2(h))\n",
    "        # h = F.leaky_relu(self.l1(x), slope=1.0)\n",
    "        # h = F.leaky_relu(self.l2(h), slope=1.0)\n",
    "        # h = self.l3(h)\n",
    "        h = self.l5(h)\n",
    "\n",
    "        return h"
   ]
  },
  {
   "cell_type": "code",
   "execution_count": 21,
   "metadata": {},
   "outputs": [],
   "source": [
    "net = Net(len(data[0]), len(data[0]), 1)\n",
    "\n",
    "optimizer = optimizers.SGD(lr=0.01)\n",
    "# optimizer = optimizers.SGD(lr=0.02)\n",
    "optimizer.setup(net)\n",
    "\n",
    "for param in net.params():\n",
    "    if param.name != \"b\":\n",
    "        param.update_rule.add_hook(WeightDecay(0.00001))"
   ]
  },
  {
   "cell_type": "code",
   "execution_count": 22,
   "metadata": {},
   "outputs": [
    {
     "name": "stdout",
     "output_type": "stream",
     "text": [
      "50/50"
     ]
    }
   ],
   "source": [
    "n_epoch = 50\n",
    "\n",
    "results_train = {\n",
    "    \"MSE\": [],\n",
    "    \"MAE\": []\n",
    "}\n",
    "results_valid = {\n",
    "    \"MSE\": [],\n",
    "    \"MAE\": []\n",
    "}\n",
    "\n",
    "train_iter.reset()\n",
    "\n",
    "for epoch in range(n_epoch):\n",
    "    print(\"\\r%d/%d\" % (epoch + 1, n_epoch), end=\"\")\n",
    "    while True:\n",
    "        train_batch = train_iter.next()\n",
    "\n",
    "        x_train, t_train = concat_examples(train_batch)\n",
    "\n",
    "        y_train = net(x_train)\n",
    "        MSE_train = F.mean_squared_error(y_train, t_train)\n",
    "        MAE_train = F.mean_absolute_error(y_train, t_train)\n",
    "\n",
    "        net.zerograds()\n",
    "        MSE_train.backward()\n",
    "\n",
    "        optimizer.update()\n",
    "\n",
    "        if train_iter.is_new_epoch:\n",
    "            with chainer.using_config(\"train\", False), chainer.using_config(\"enable_backprop\", False):\n",
    "                x_valid, t_valid = concat_examples(valid)\n",
    "                y_valid = net(x_valid)\n",
    "                MSE_valid = F.mean_squared_error(y_valid, t_valid)\n",
    "                MAE_valid = F.mean_absolute_error(y_valid, t_valid)\n",
    "\n",
    "            results_train[\"MSE\"].append(MSE_train.array)\n",
    "            results_train[\"MAE\"].append(MAE_train.array)\n",
    "            results_valid[\"MSE\"].append(MSE_valid.array)\n",
    "            results_valid[\"MAE\"].append(MAE_valid.array)\n",
    "\n",
    "            break"
   ]
  },
  {
   "cell_type": "code",
   "execution_count": 23,
   "metadata": {},
   "outputs": [],
   "source": [
    "import matplotlib.pyplot as plt\n",
    "\n",
    "\n",
    "def plot(train, valid, xlabel, ylabel, fig_name, save_dir):\n",
    "    fig = plt.figure(figsize=(10, 10))\n",
    "    plt.plot(train, label=\"train\")\n",
    "    plt.plot(valid, label=\"valid\")\n",
    "    plt.legend()\n",
    "    plt.xlabel(xlabel)\n",
    "    plt.ylabel(ylabel)\n",
    "    plt.title(fig_name)\n",
    "    plt.savefig(save_dir + \"/\" + fig_name)\n",
    "    plt.clf()\n",
    "    plt.close()"
   ]
  },
  {
   "cell_type": "code",
   "execution_count": 24,
   "metadata": {},
   "outputs": [],
   "source": [
    "plot(\n",
    "    results_train[\"MSE\"],\n",
    "    results_valid[\"MSE\"],\n",
    "    \"epoch\",\n",
    "    \"mean squared error\",\n",
    "    \"mean squared error of each epoch\",\n",
    "    \"fig\"\n",
    ")\n",
    "\n",
    "plot(\n",
    "    results_train[\"MAE\"],\n",
    "    results_valid[\"MAE\"],\n",
    "    \"epoch\",\n",
    "    \"mean absolute error\",\n",
    "    \"mean absolute error of each epoch\",\n",
    "    \"fig\"\n",
    ")"
   ]
  },
  {
   "cell_type": "code",
   "execution_count": 25,
   "metadata": {},
   "outputs": [
    {
     "name": "stdout",
     "output_type": "stream",
     "text": [
      "test MSE: 371.1285\n",
      "test MAE: 14.7923\n"
     ]
    }
   ],
   "source": [
    "x_test, t_test = concat_examples(test)\n",
    "with chainer.using_config(\"train\", False), chainer.using_config(\"enable_backprop\", False):\n",
    "    y_test = net(x_test)\n",
    "    MSE_test = F.mean_squared_error(y_test, t_test)\n",
    "    MAE_test = F.mean_absolute_error(y_test, t_test)\n",
    "\n",
    "print(\"test MSE: {:.4f}\".format(MSE_test.array))\n",
    "print(\"test MAE: {:.4f}\".format(MAE_test.array))"
   ]
  },
  {
   "cell_type": "code",
   "execution_count": null,
   "metadata": {},
   "outputs": [],
   "source": []
  }
 ],
 "metadata": {
  "interpreter": {
   "hash": "400b3448902b2aa85e7a3848e7bd72dda1a711f8af9f184efc41490bde870126"
  },
  "kernelspec": {
   "display_name": "",
   "language": "python",
   "name": "python3"
  },
  "language_info": {
   "codemirror_mode": {
    "name": "ipython",
    "version": 3
   },
   "file_extension": ".py",
   "mimetype": "text/x-python",
   "name": "python",
   "nbconvert_exporter": "python",
   "pygments_lexer": "ipython3",
   "version": "3.7.9"
  },
  "orig_nbformat": 4
 },
 "nbformat": 4,
 "nbformat_minor": 2
}
