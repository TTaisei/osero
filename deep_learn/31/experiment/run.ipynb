{
 "cells": [
  {
   "cell_type": "markdown",
   "metadata": {},
   "source": [
    "- **[準備](#準備)**\n",
    "- **[実験](#実験)**\n",
    "    - [データ量](#データ量)\n",
    "    - [バッチサイズ](#バッチサイズ)\n",
    "    - [層の数](#層の数)\n",
    "    - [活性化関数の種類](#活性化関数の種類)\n",
    "    - [学習率](#学習率)\n",
    "    - [最適化関数](#最適化関数)\n",
    "    - [重み減衰係数](#重み減衰係数)\n",
    "    - [更新回数](#更新回数)\n",
    "    - [調査ターン](#調査ターン)\n",
    "    - [重み減衰](#重み減衰)"
   ]
  },
  {
   "cell_type": "markdown",
   "metadata": {},
   "source": [
    "# 準備"
   ]
  },
  {
   "cell_type": "code",
   "execution_count": 1,
   "metadata": {},
   "outputs": [],
   "source": [
    "from deep_learn import *\n",
    "import Net_box.plane as plane"
   ]
  },
  {
   "cell_type": "markdown",
   "metadata": {},
   "source": [
    "# 実験"
   ]
  },
  {
   "cell_type": "markdown",
   "metadata": {},
   "source": [
    "## データ量"
   ]
  },
  {
   "cell_type": "code",
   "execution_count": 2,
   "metadata": {},
   "outputs": [
    {
     "name": "stdout",
     "output_type": "stream",
     "text": [
      "3/3"
     ]
    }
   ],
   "source": [
    "run = deep_learn()\n",
    "run.Net = plane.Net\n",
    "\n",
    "num_arr = [1, 10, 50]\n",
    "run.save_dir = \"fig/data_quantity\"\n",
    "i = 1\n",
    "MSE_test = []\n",
    "MAE_test = []\n",
    "\n",
    "for num in num_arr:\n",
    "    print(\"\\r%d/%d\" % (i, len(num_arr)), end=\"\")\n",
    "    run.num = num\n",
    "    run.fig_name1 = \"MSE of each epoch (data quantity is %d)\" % num\n",
    "    run.fig_name2 = \"MAE of each epoch (data quantity is %d)\" % num\n",
    "    run.set_data()\n",
    "    run.fit()\n",
    "    run.plot()\n",
    "    test_error = run.cal_test_error()\n",
    "    MSE_test.append(test_error[0])\n",
    "    MAE_test.append(test_error[1])\n",
    "    i += 1"
   ]
  },
  {
   "cell_type": "code",
   "execution_count": 6,
   "metadata": {},
   "outputs": [
    {
     "name": "stdout",
     "output_type": "stream",
     "text": [
      "MSE:  [variable(187.12271), variable(328.72275), variable(488.58707)]\n",
      "MAE:  [variable(9.387474), variable(13.689546), variable(17.651814)]\n"
     ]
    }
   ],
   "source": [
    "print(\"MSE: \", MSE_test)\n",
    "print(\"MAE: \", MAE_test)"
   ]
  },
  {
   "cell_type": "markdown",
   "metadata": {},
   "source": [
    "## バッチサイズ"
   ]
  },
  {
   "cell_type": "code",
   "execution_count": 9,
   "metadata": {},
   "outputs": [
    {
     "name": "stdout",
     "output_type": "stream",
     "text": [
      "9/9"
     ]
    }
   ],
   "source": [
    "run = deep_learn()\n",
    "run.Net = plane.Net\n",
    "\n",
    "batch_arr = [5, 10, 25, 50, 75, 100, 150, 200, 300]\n",
    "run.save_dir = \"fig/batch_size\"\n",
    "i = 1\n",
    "MSE_test = []\n",
    "MAE_test = []\n",
    "\n",
    "run.set_data()\n",
    "\n",
    "for batch_size in batch_arr:\n",
    "    print(\"\\r%d/%d\" % (i, len(batch_arr)), end=\"\")\n",
    "    run.batch_size = batch_size\n",
    "    run.fig_name1 = \"MSE of each epoch (batch size is %d)\" % batch_size\n",
    "    run.fig_name2 = \"MAE of each epoch (batch size is %d)\" % batch_size\n",
    "    run.fit()\n",
    "    run.plot()\n",
    "    test_error = run.cal_test_error()\n",
    "    MSE_test.append(test_error[0])\n",
    "    MAE_test.append(test_error[1])\n",
    "    i += 1"
   ]
  },
  {
   "cell_type": "code",
   "execution_count": 10,
   "metadata": {},
   "outputs": [
    {
     "name": "stdout",
     "output_type": "stream",
     "text": [
      "MSE:  [variable(208.4556), variable(205.58469), variable(212.24141), variable(205.57669), variable(223.43636), variable(193.73814), variable(199.80457), variable(215.08165), variable(213.957)]\n",
      "MAE:  [variable(9.421841), variable(9.583598), variable(9.503884), variable(9.683197), variable(9.855479), variable(9.166233), variable(8.903477), variable(9.325055), variable(9.886406)]\n"
     ]
    }
   ],
   "source": [
    "print(\"MSE: \", MSE_test)\n",
    "print(\"MAE: \", MAE_test)"
   ]
  },
  {
   "cell_type": "markdown",
   "metadata": {},
   "source": [
    "## 層の数"
   ]
  },
  {
   "cell_type": "code",
   "execution_count": 4,
   "metadata": {},
   "outputs": [
    {
     "name": "stdout",
     "output_type": "stream",
     "text": [
      "4/4"
     ]
    }
   ],
   "source": [
    "import Net_box.n_layer as n_layer\n",
    "\n",
    "run = deep_learn()\n",
    "\n",
    "Net_arr = [n_layer.Net2, n_layer.Net3, n_layer.Net4, n_layer.Net5]\n",
    "run.save_dir = \"fig/n_layer\"\n",
    "i = 1\n",
    "MSE_test = []\n",
    "MAE_test = []\n",
    "\n",
    "run.set_data()\n",
    "\n",
    "for Net in Net_arr:\n",
    "    print(\"\\r%d/%d\" % (i, len(Net_arr)), end=\"\")\n",
    "    run.Net = Net\n",
    "    run.fig_name1 = \"MSE of each epoch (number of layer is %d)\" % (i + 1)\n",
    "    run.fig_name2 = \"MAE of each epoch (number of layer is %d)\" % (i + 1)\n",
    "    run.fit()\n",
    "    run.plot()\n",
    "    test_error = run.cal_test_error()\n",
    "    MSE_test.append(test_error[0])\n",
    "    MAE_test.append(test_error[1])\n",
    "    i += 1"
   ]
  },
  {
   "cell_type": "code",
   "execution_count": 5,
   "metadata": {},
   "outputs": [
    {
     "name": "stdout",
     "output_type": "stream",
     "text": [
      "MSE:  [variable(108.787415), variable(100.24213), variable(100.931335), variable(117.44594)]\n",
      "MAE:  [variable(7.6647296), variable(7.145885), variable(7.118979), variable(7.5313835)]\n"
     ]
    }
   ],
   "source": [
    "print(\"MSE: \", MSE_test)\n",
    "print(\"MAE: \", MAE_test)"
   ]
  },
  {
   "cell_type": "markdown",
   "metadata": {},
   "source": [
    "## 活性化関数の種類"
   ]
  },
  {
   "cell_type": "code",
   "execution_count": 8,
   "metadata": {},
   "outputs": [
    {
     "name": "stdout",
     "output_type": "stream",
     "text": [
      "6/6"
     ]
    }
   ],
   "source": [
    "import Net_box.kind_function as kind_f\n",
    "\n",
    "run = deep_learn()\n",
    "\n",
    "f_arr = kind_f.functions_arr\n",
    "f_name = kind_f.functions_name\n",
    "run.save_dir = \"fig/kind_function\"\n",
    "i = 1\n",
    "MSE_test = []\n",
    "MAE_test = []\n",
    "\n",
    "run.set_data()\n",
    "\n",
    "for function in f_arr:\n",
    "    print(\"\\r%d/%d\" % (i, len(f_arr)), end=\"\")\n",
    "    kind_f.func = function\n",
    "    run.Net = kind_f.Net\n",
    "    run.fig_name1 = \"MSE of each epoch (function is %s)\" % f_name[i - 1]\n",
    "    run.fig_name2 = \"MAE of each epoch (function is %s)\" % f_name[i - 1]\n",
    "    run.fit()\n",
    "    run.plot()\n",
    "    test_error = run.cal_test_error()\n",
    "    MSE_test.append(test_error[0])\n",
    "    MAE_test.append(test_error[1])\n",
    "    i += 1"
   ]
  },
  {
   "cell_type": "code",
   "execution_count": 9,
   "metadata": {},
   "outputs": [
    {
     "name": "stdout",
     "output_type": "stream",
     "text": [
      "['relu', 'tanh', 'elu', 'leaky_relu', 'rrelu', 'selu']\n",
      "MSE:  [variable(555.87366), variable(204.87903), variable(nan), variable(nan), variable(nan), variable(nan)]\n",
      "MAE:  [variable(19.49682), variable(9.199303), variable(nan), variable(nan), variable(nan), variable(nan)]\n"
     ]
    }
   ],
   "source": [
    "print(f_name)\n",
    "print(\"MSE: \", MSE_test)\n",
    "print(\"MAE: \", MAE_test)"
   ]
  },
  {
   "cell_type": "markdown",
   "metadata": {},
   "source": [
    "## 学習率"
   ]
  },
  {
   "cell_type": "code",
   "execution_count": 18,
   "metadata": {},
   "outputs": [
    {
     "name": "stdout",
     "output_type": "stream",
     "text": [
      "10/10"
     ]
    }
   ],
   "source": [
    "run = deep_learn()\n",
    "run.Net = plane.Net\n",
    "\n",
    "lr_arr = [0.0001, 0.0005, 0.001, 0.005, 0.01, 0.025, 0.05, 0.1, 0.2, 0.3]\n",
    "run.save_dir = \"fig/lr\"\n",
    "i = 1\n",
    "MSE_test = []\n",
    "MAE_test = []\n",
    "\n",
    "run.set_data()\n",
    "\n",
    "for lr in lr_arr:\n",
    "    print(\"\\r%d/%d\" % (i, len(lr_arr)), end=\"\")\n",
    "    run.lr = lr\n",
    "    run.fig_name1 = \"MSE of each epoch (lr is %f).png\" % lr\n",
    "    run.fig_name2 = \"MAE of each epoch (lr is %f).png\" % lr\n",
    "    run.fit()\n",
    "    run.plot()\n",
    "    test_error = run.cal_test_error()\n",
    "    MSE_test.append(test_error[0])\n",
    "    MAE_test.append(test_error[1])\n",
    "    i += 1"
   ]
  },
  {
   "cell_type": "code",
   "execution_count": 19,
   "metadata": {},
   "outputs": [
    {
     "name": "stdout",
     "output_type": "stream",
     "text": [
      "MSE:  [variable(170.00241), variable(171.05908), variable(181.1228), variable(192.46042), variable(161.02898), variable(163.08765), variable(170.65488), variable(177.69069), variable(170.5684), variable(163.26263)]\n",
      "MAE:  [variable(8.892699), variable(8.849699), variable(9.052602), variable(9.407764), variable(8.696438), variable(8.609232), variable(8.800114), variable(8.914179), variable(8.9228115), variable(8.645447)]\n"
     ]
    }
   ],
   "source": [
    "print(\"MSE: \", MSE_test)\n",
    "print(\"MAE: \", MAE_test)"
   ]
  },
  {
   "cell_type": "markdown",
   "metadata": {},
   "source": [
    "## 最適化関数"
   ]
  },
  {
   "cell_type": "code",
   "execution_count": 3,
   "metadata": {},
   "outputs": [
    {
     "name": "stdout",
     "output_type": "stream",
     "text": [
      "11/11"
     ]
    }
   ],
   "source": [
    "# https://qiita.com/ZoneTsuyoshi/items/8ef6fa1e154d176e25b8\n",
    "\n",
    "from chainer import optimizers\n",
    "\n",
    "opt_arr = [\n",
    "    optimizers.SGD(),\n",
    "    optimizers.MomentumSGD(),\n",
    "    optimizers.AdaGrad(),\n",
    "    optimizers.RMSprop(),\n",
    "    optimizers.AdaDelta(),\n",
    "    optimizers.Adam(),\n",
    "    optimizers.RMSpropGraves(),\n",
    "    optimizers.SMORMS3(),\n",
    "    optimizers.AMSGrad(),\n",
    "    optimizers.AdaBound(),\n",
    "    optimizers.AMSBound()\n",
    "]\n",
    "\n",
    "opt_name = [\n",
    "    \"SGD\",\n",
    "    \"MomentumSGD\",\n",
    "    \"AdaGrad\",\n",
    "    \"RmSprop\",\n",
    "    \"AdaDelta\",\n",
    "    \"Adam\",\n",
    "    \"RMSpropGraves\",\n",
    "    \"SMORMS3\",\n",
    "    \"AMSGrad\",\n",
    "    \"AdaBound\",\n",
    "    \"AMSBound\"\n",
    "]\n",
    "\n",
    "run = deep_learn()\n",
    "run.Net = plane.Net\n",
    "\n",
    "run.save_dir = \"fig/optimizer\"\n",
    "i = 1\n",
    "MSE_test = []\n",
    "MAE_test = []\n",
    "\n",
    "run.set_data()\n",
    "\n",
    "for opt in opt_arr:\n",
    "    print(\"\\r%d/%d\" % (i, len(opt_arr)), end=\"\")\n",
    "    run.optimizer = opt\n",
    "    run.fig_name1 = \"MSE of each epoch (optimizer is %s)\" % opt_name[i - 1]\n",
    "    run.fig_name2 = \"MAE of each epoch (optimizer is %s)\" % opt_name[i - 1]\n",
    "    run.fit()\n",
    "    run.plot()\n",
    "    test_error = run.cal_test_error()\n",
    "    MSE_test.append(test_error[0])\n",
    "    MAE_test.append(test_error[1])\n",
    "    i += 1"
   ]
  },
  {
   "cell_type": "code",
   "execution_count": 4,
   "metadata": {},
   "outputs": [
    {
     "name": "stdout",
     "output_type": "stream",
     "text": [
      "['SGD', 'MomentumSGD', 'AdaGrad', 'RmSprop', 'AdaDelta', 'Adam', 'RMSpropGraves', 'SMORMS3', 'AMSGrad', 'AdaBound', 'AMSBound']\n",
      "MSE:  [variable(140.35452), variable(351.79584), variable(362.52658), variable(130.66309), variable(105.02744), variable(230.22269), variable(200.24446), variable(137.35747), variable(74.48441), variable(104.179436), variable(163.56358)]\n",
      "MAE:  [variable(7.8985395), variable(15.806046), variable(14.46501), variable(7.234192), variable(6.230004), variable(10.566997), variable(10.3872595), variable(8.752416), variable(6.492539), variable(5.505145), variable(8.154634)]\n"
     ]
    }
   ],
   "source": [
    "print(opt_name)\n",
    "print(\"MSE: \", MSE_test)\n",
    "print(\"MAE: \", MAE_test)"
   ]
  },
  {
   "cell_type": "markdown",
   "metadata": {},
   "source": [
    "## 重み減衰係数"
   ]
  },
  {
   "cell_type": "code",
   "execution_count": 16,
   "metadata": {},
   "outputs": [
    {
     "name": "stdout",
     "output_type": "stream",
     "text": [
      "8/8"
     ]
    }
   ],
   "source": [
    "run = deep_learn()\n",
    "run.Net = plane.Net\n",
    "\n",
    "WD_arr = [0.000001, 0.000005, 0.00001, 0.00002, 0.00005, 0.0001, 0.0005, 0.001]\n",
    "run.save_dir = \"fig/WeightDecay\"\n",
    "i = 1\n",
    "MSE_test = []\n",
    "MAE_test = []\n",
    "\n",
    "run.set_data()\n",
    "\n",
    "for WD in WD_arr:\n",
    "    print(\"\\r%d/%d\" % (i, len(WD_arr)), end=\"\")\n",
    "    run.WeightDecay = WD\n",
    "    run.fig_name1 = \"MSE of each epoch (coefficient of WeiteDecay is %f).png\" % WD\n",
    "    run.fig_name2 = \"MAE of each epoch (coefficient of WeiteDecay is %f).png\" % WD\n",
    "    run.fit()\n",
    "    run.plot()\n",
    "    test_error = run.cal_test_error()\n",
    "    MSE_test.append(test_error[0])\n",
    "    MAE_test.append(test_error[1])\n",
    "    i += 1"
   ]
  },
  {
   "cell_type": "code",
   "execution_count": 17,
   "metadata": {},
   "outputs": [
    {
     "name": "stdout",
     "output_type": "stream",
     "text": [
      "MSE:  [variable(323.6231), variable(337.4172), variable(317.3086), variable(345.4895), variable(360.81476), variable(347.40695), variable(317.54373), variable(336.22287)]\n",
      "MAE:  [variable(11.564267), variable(11.702841), variable(11.491479), variable(12.228395), variable(12.072598), variable(11.99491), variable(11.335259), variable(11.767622)]\n"
     ]
    }
   ],
   "source": [
    "print(\"MSE: \", MSE_test)\n",
    "print(\"MAE: \", MAE_test)"
   ]
  },
  {
   "cell_type": "markdown",
   "metadata": {},
   "source": [
    "## 更新回数"
   ]
  },
  {
   "cell_type": "code",
   "execution_count": 11,
   "metadata": {},
   "outputs": [],
   "source": [
    "run = deep_learn()\n",
    "run.Net = plane.Net\n",
    "\n",
    "run.save_dir = \"fig/n_epoch\"\n",
    "\n",
    "run.set_data()\n",
    "\n",
    "run.n_epoch = 1000\n",
    "run.fig_name1 = \"MSE of each epoch (n_epohc is %d)\" % run.n_epoch\n",
    "run.fig_name2 = \"MAE of each epoch (n_epoch is %d)\" % run.n_epoch\n",
    "\n",
    "run.fit()\n",
    "run.plot()\n",
    "MSE_test, MAE_test = run.cal_test_error()"
   ]
  },
  {
   "cell_type": "code",
   "execution_count": 12,
   "metadata": {},
   "outputs": [
    {
     "name": "stdout",
     "output_type": "stream",
     "text": [
      "MSE:  variable(173.23218)\n",
      "MAE:  variable(8.805884)\n"
     ]
    }
   ],
   "source": [
    "print(\"MSE: \", MSE_test)\n",
    "print(\"MAE: \", MAE_test)"
   ]
  },
  {
   "cell_type": "markdown",
   "metadata": {},
   "source": [
    "## 調査ターン"
   ]
  },
  {
   "cell_type": "code",
   "execution_count": 2,
   "metadata": {},
   "outputs": [
    {
     "name": "stdout",
     "output_type": "stream",
     "text": [
      "3/3"
     ]
    }
   ],
   "source": [
    "import osero_learn as ol\n",
    "import deep_learn as dl\n",
    "\n",
    "run = dl.deep_learn()\n",
    "run.Net = plane.Net\n",
    "\n",
    "run.save_dir = \"fig/check_point\"\n",
    "\n",
    "cp_arr = [\n",
    "    [i for i in range(1, 61)],\n",
    "    [i for i in range(5, 61, 5)],\n",
    "    [i for i in range(10, 61, 10)]\n",
    "]\n",
    "cp_name = [\n",
    "    \"every 1\",\n",
    "    \"every 5\",\n",
    "    \"every 10\"\n",
    "]\n",
    "i = 1\n",
    "MSE_test = []\n",
    "MAE_test = []\n",
    "\n",
    "for cp in cp_arr:\n",
    "    print(\"\\r%d/%d\" % (i, len(cp_arr)), end=\"\")\n",
    "    run.osero = ol.learn(0, 0, cp)\n",
    "    run.set_data()\n",
    "    run.fig_name1 = \"MSE of each epoch (turn is %s)\" % cp_name[i - 1]\n",
    "    run.fig_name2 = \"MAE of each epoch (turn is %s)\" % cp_name[i - 1]\n",
    "    run.fit()\n",
    "    run.plot()\n",
    "    test_error = run.cal_test_error()\n",
    "    MSE_test.append(test_error[0])\n",
    "    MAE_test.append(test_error[1])\n",
    "    i += 1"
   ]
  },
  {
   "cell_type": "code",
   "execution_count": 3,
   "metadata": {},
   "outputs": [
    {
     "name": "stdout",
     "output_type": "stream",
     "text": [
      "['every 1', 'every 5', 'every 10']\n",
      "MSE:  [variable(134.67699), variable(360.08517), variable(555.0388)]\n",
      "MAE:  [variable(7.625587), variable(15.11074), variable(18.970434)]\n"
     ]
    }
   ],
   "source": [
    "print(cp_name)\n",
    "print(\"MSE: \", MSE_test)\n",
    "print(\"MAE: \", MAE_test)"
   ]
  },
  {
   "cell_type": "markdown",
   "metadata": {},
   "source": [
    "## 重み減衰"
   ]
  },
  {
   "cell_type": "code",
   "execution_count": 8,
   "metadata": {},
   "outputs": [
    {
     "name": "stdout",
     "output_type": "stream",
     "text": [
      "5/5"
     ]
    }
   ],
   "source": [
    "import chainer.optimizer_hooks as hf\n",
    "\n",
    "run = deep_learn()\n",
    "run.Net = plane.Net\n",
    "\n",
    "run.save_dir = \"fig/hook_function\"\n",
    "\n",
    "hf_arr = [\n",
    "    hf.WeightDecay(0.00001),\n",
    "    hf.Lasso(0.00001),\n",
    "    # hf.GradientClipping(1.0),\n",
    "    hf.GradientHardClipping(-1.0, 1.0),\n",
    "    hf.GradientNoise(0.3),\n",
    "    hf.GradientLARS()\n",
    "]\n",
    "hf_name = [\n",
    "    \"WeightDecay\",\n",
    "    \"Lasso\",\n",
    "    # \"GradientClippint\",\n",
    "    \"GradientHardClipping\",\n",
    "    \"GradientNoise\",\n",
    "    \"GradientLARS\"\n",
    "]\n",
    "i = 1\n",
    "MSE_test = []\n",
    "MAE_test = []\n",
    "\n",
    "run.set_data()\n",
    "\n",
    "for hook_f in hf_arr:\n",
    "    print(\"\\r%d/%d\" % (i, len(hf_arr)), end=\"\")\n",
    "    run.hook_f = hook_f\n",
    "    run.fig_name1 = \"MSE of each epoch (hook function is %s)\" % hf_name[i - 1]\n",
    "    run.fig_name2 = \"MAE of each epoch (hook function is %s)\" % hf_name[i - 1]\n",
    "    run.fit()\n",
    "    run.plot()\n",
    "    test_error = run.cal_test_error()\n",
    "    MSE_test.append(test_error[0])\n",
    "    MAE_test.append(test_error[1])\n",
    "    i += 1"
   ]
  },
  {
   "cell_type": "code",
   "execution_count": 9,
   "metadata": {},
   "outputs": [
    {
     "name": "stdout",
     "output_type": "stream",
     "text": [
      "['WeightDecay', 'Lasso', 'GradientHardClipping', 'GradientNoise', 'GradientLARS']\n",
      "MSE:  [variable(173.38802), variable(165.7673), variable(149.28122), variable(170.66235), variable(334.34393)]\n",
      "MAE:  [variable(8.827514), variable(8.926463), variable(8.31733), variable(8.63603), variable(13.599926)]\n"
     ]
    }
   ],
   "source": [
    "print(hf_name)\n",
    "print(\"MSE: \", MSE_test)\n",
    "print(\"MAE: \", MAE_test)"
   ]
  }
 ],
 "metadata": {
  "interpreter": {
   "hash": "400b3448902b2aa85e7a3848e7bd72dda1a711f8af9f184efc41490bde870126"
  },
  "kernelspec": {
   "display_name": "",
   "language": "python",
   "name": "python3"
  },
  "language_info": {
   "codemirror_mode": {
    "name": "ipython",
    "version": 3
   },
   "file_extension": ".py",
   "mimetype": "text/x-python",
   "name": "python",
   "nbconvert_exporter": "python",
   "pygments_lexer": "ipython3",
   "version": "3.7.9"
  },
  "orig_nbformat": 4
 },
 "nbformat": 4,
 "nbformat_minor": 2
}
