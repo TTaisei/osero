{
 "cells": [
  {
   "cell_type": "code",
   "execution_count": 1,
   "metadata": {},
   "outputs": [],
   "source": [
    "import pandas as pd\n",
    "\n",
    "data = pd.read_csv(\"data.csv\")"
   ]
  },
  {
   "cell_type": "code",
   "execution_count": 2,
   "metadata": {},
   "outputs": [
    {
     "data": {
      "text/html": [
       "<div>\n",
       "<style scoped>\n",
       "    .dataframe tbody tr th:only-of-type {\n",
       "        vertical-align: middle;\n",
       "    }\n",
       "\n",
       "    .dataframe tbody tr th {\n",
       "        vertical-align: top;\n",
       "    }\n",
       "\n",
       "    .dataframe thead th {\n",
       "        text-align: right;\n",
       "    }\n",
       "</style>\n",
       "<table border=\"1\" class=\"dataframe\">\n",
       "  <thead>\n",
       "    <tr style=\"text-align: right;\">\n",
       "      <th></th>\n",
       "      <th>Unnamed: 0</th>\n",
       "      <th>batch_size</th>\n",
       "      <th>multi</th>\n",
       "      <th>optimizer</th>\n",
       "      <th>bound</th>\n",
       "      <th>test_MSE</th>\n",
       "      <th>test_MAE</th>\n",
       "    </tr>\n",
       "  </thead>\n",
       "  <tbody>\n",
       "    <tr>\n",
       "      <th>0</th>\n",
       "      <td>0</td>\n",
       "      <td>150</td>\n",
       "      <td>1.5</td>\n",
       "      <td>Adam</td>\n",
       "      <td>1</td>\n",
       "      <td>variable(196.01646)</td>\n",
       "      <td>variable(8.876967)</td>\n",
       "    </tr>\n",
       "    <tr>\n",
       "      <th>1</th>\n",
       "      <td>1</td>\n",
       "      <td>150</td>\n",
       "      <td>1.5</td>\n",
       "      <td>Adam</td>\n",
       "      <td>2</td>\n",
       "      <td>variable(182.72466)</td>\n",
       "      <td>variable(8.520519)</td>\n",
       "    </tr>\n",
       "    <tr>\n",
       "      <th>2</th>\n",
       "      <td>2</td>\n",
       "      <td>150</td>\n",
       "      <td>1.5</td>\n",
       "      <td>Adam</td>\n",
       "      <td>3</td>\n",
       "      <td>variable(190.4978)</td>\n",
       "      <td>variable(8.857304)</td>\n",
       "    </tr>\n",
       "    <tr>\n",
       "      <th>3</th>\n",
       "      <td>3</td>\n",
       "      <td>150</td>\n",
       "      <td>1.5</td>\n",
       "      <td>Adam</td>\n",
       "      <td>4</td>\n",
       "      <td>variable(227.05202)</td>\n",
       "      <td>variable(9.844216)</td>\n",
       "    </tr>\n",
       "    <tr>\n",
       "      <th>4</th>\n",
       "      <td>4</td>\n",
       "      <td>150</td>\n",
       "      <td>1.5</td>\n",
       "      <td>RMSpropGraves</td>\n",
       "      <td>1</td>\n",
       "      <td>variable(197.2275)</td>\n",
       "      <td>variable(8.608305)</td>\n",
       "    </tr>\n",
       "  </tbody>\n",
       "</table>\n",
       "</div>"
      ],
      "text/plain": [
       "   Unnamed: 0  batch_size  multi      optimizer  bound             test_MSE  \\\n",
       "0           0         150    1.5           Adam      1  variable(196.01646)   \n",
       "1           1         150    1.5           Adam      2  variable(182.72466)   \n",
       "2           2         150    1.5           Adam      3   variable(190.4978)   \n",
       "3           3         150    1.5           Adam      4  variable(227.05202)   \n",
       "4           4         150    1.5  RMSpropGraves      1   variable(197.2275)   \n",
       "\n",
       "             test_MAE  \n",
       "0  variable(8.876967)  \n",
       "1  variable(8.520519)  \n",
       "2  variable(8.857304)  \n",
       "3  variable(9.844216)  \n",
       "4  variable(8.608305)  "
      ]
     },
     "execution_count": 2,
     "metadata": {},
     "output_type": "execute_result"
    }
   ],
   "source": [
    "data.head()"
   ]
  },
  {
   "cell_type": "code",
   "execution_count": 3,
   "metadata": {},
   "outputs": [
    {
     "data": {
      "text/plain": [
       "'variable(10.051524)'"
      ]
     },
     "execution_count": 3,
     "metadata": {},
     "output_type": "execute_result"
    }
   ],
   "source": [
    "data_top = data[\"test_MAE\"].min()\n",
    "data_top"
   ]
  },
  {
   "cell_type": "code",
   "execution_count": 4,
   "metadata": {},
   "outputs": [
    {
     "data": {
      "text/plain": [
       "'variable(167.63565)'"
      ]
     },
     "execution_count": 4,
     "metadata": {},
     "output_type": "execute_result"
    }
   ],
   "source": [
    "data_top = data[\"test_MSE\"].min()\n",
    "data_top"
   ]
  },
  {
   "cell_type": "code",
   "execution_count": null,
   "metadata": {},
   "outputs": [],
   "source": []
  }
 ],
 "metadata": {
  "interpreter": {
   "hash": "400b3448902b2aa85e7a3848e7bd72dda1a711f8af9f184efc41490bde870126"
  },
  "kernelspec": {
   "display_name": "Python 3.7.9 32-bit",
   "language": "python",
   "name": "python3"
  },
  "language_info": {
   "codemirror_mode": {
    "name": "ipython",
    "version": 3
   },
   "file_extension": ".py",
   "mimetype": "text/x-python",
   "name": "python",
   "nbconvert_exporter": "python",
   "pygments_lexer": "ipython3",
   "version": "3.7.9"
  },
  "orig_nbformat": 4
 },
 "nbformat": 4,
 "nbformat_minor": 2
}
