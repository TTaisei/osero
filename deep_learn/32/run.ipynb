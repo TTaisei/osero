{
 "cells": [
  {
   "cell_type": "markdown",
   "metadata": {},
   "source": [
    "- **[準備](#準備)**\n",
    "- **[実験](#実験)**\n",
    "    - [パラメータ](#パラメータ)\n",
    "    - [組み合わせ](#組み合わせ)"
   ]
  },
  {
   "cell_type": "markdown",
   "metadata": {},
   "source": [
    "# 準備"
   ]
  },
  {
   "cell_type": "code",
   "execution_count": 1,
   "metadata": {},
   "outputs": [],
   "source": [
    "from chainer.optimizer_hooks import GradientHardClipping as GHC\n",
    "\n",
    "from deep_learn import *\n",
    "import Net_box.plane as plane"
   ]
  },
  {
   "cell_type": "markdown",
   "metadata": {},
   "source": [
    "# 実験"
   ]
  },
  {
   "cell_type": "markdown",
   "metadata": {},
   "source": [
    "## パラメータ"
   ]
  },
  {
   "cell_type": "code",
   "execution_count": 11,
   "metadata": {},
   "outputs": [
    {
     "name": "stdout",
     "output_type": "stream",
     "text": [
      "8/8"
     ]
    }
   ],
   "source": [
    "run = deep_learn()\n",
    "run.Net = plane.Net\n",
    "\n",
    "par_arr = [\n",
    "    [-1., 1.],\n",
    "    [0., 1.],\n",
    "    [-1., 0.],\n",
    "    [-2., 2.],\n",
    "    [-0.5, 0.5],\n",
    "    [-0.1, 0.1],\n",
    "    [-3., 3.],\n",
    "    [-5., 5.]\n",
    "]\n",
    "run.save_dir = \"fig/parameter\"\n",
    "i = 1\n",
    "MSE_test = []\n",
    "MAE_test = []\n",
    "\n",
    "run.set_data()\n",
    "\n",
    "for par in par_arr:\n",
    "    print(\"\\r%d/%d\" % (i, len(par_arr)), end=\"\")\n",
    "    run.hook_f = GHC(par[0], par[1])\n",
    "    run.fig_name1 = \"MSE of each epoch (parameter is %.1f, %.1f).png\" % (par[0], par[1])\n",
    "    run.fig_name2 = \"MAE of each epoch (parameter is %.1f, %.1f).png\" % (par[0], par[1])\n",
    "    run.fit()\n",
    "    run.plot()\n",
    "    test_error = run.cal_test_error()\n",
    "    MSE_test.append(test_error[0])\n",
    "    MAE_test.append(test_error[1])\n",
    "    i += 1"
   ]
  },
  {
   "cell_type": "code",
   "execution_count": 12,
   "metadata": {},
   "outputs": [
    {
     "name": "stdout",
     "output_type": "stream",
     "text": [
      "[[-1.0, 1.0], [0.0, 1.0], [-1.0, 0.0], [-2.0, 2.0], [-0.5, 0.5], [-0.1, 0.1], [-3.0, 3.0], [-5.0, 5.0]]\n",
      "MSE:  [variable(138.40294), variable(540.5586), variable(530.9654), variable(158.3173), variable(155.85709), variable(248.41429), variable(152.12968), variable(163.57144)]\n",
      "MAE:  [variable(7.6048646), variable(19.716103), variable(19.489712), variable(8.066726), variable(8.328745), variable(12.342105), variable(7.896567), variable(8.243191)]\n"
     ]
    }
   ],
   "source": [
    "print(par_arr)\n",
    "print(\"MSE: \", MSE_test)\n",
    "print(\"MAE: \", MAE_test)"
   ]
  },
  {
   "cell_type": "markdown",
   "metadata": {},
   "source": [
    "## 組み合わせ"
   ]
  },
  {
   "cell_type": "code",
   "execution_count": 14,
   "metadata": {},
   "outputs": [
    {
     "name": "stdout",
     "output_type": "stream",
     "text": [
      "bs[3/3]......."
     ]
    }
   ],
   "source": [
    "import Net_box.n_layer as n_layer\n",
    "from chainer.optimizers import AdaBound\n",
    "import pandas as pd\n",
    "\n",
    "bs_arr = [100, 150, 200]\n",
    "net_arr = [\n",
    "    [2, n_layer.Net2],\n",
    "    [3, n_layer.Net3],\n",
    "    [4, n_layer.Net4]\n",
    "]\n",
    "lr_arr = [0.01, 0.025, 0.3]\n",
    "par_arr = [[-i, i] for i in range(1, 6)]\n",
    "\n",
    "run = deep_learn()\n",
    "run.optimizer = AdaBound()\n",
    "i = 1\n",
    "\n",
    "data = {\n",
    "    \"batch_size\": [],\n",
    "    \"num_of_layer\": [],\n",
    "    \"lr\": [],\n",
    "    \"lower_bound\": [],\n",
    "    \"upper_bound\": [],\n",
    "    \"MSE_test\": [],\n",
    "    \"MAE_test\": []\n",
    "}\n",
    "\n",
    "run.set_data()\n",
    "\n",
    "for bs in bs_arr:\n",
    "    print(\"\\rbs[%d/%d]\" % (i, len(bs_arr)), end=\"\")\n",
    "    run.batch_size = bs\n",
    "    for net in net_arr:\n",
    "        print(\".\", end=\"\")\n",
    "        run.Net = net[1]\n",
    "        for lr in lr_arr:\n",
    "            run.lr = lr\n",
    "            for par in par_arr:\n",
    "                run.hook_f = GHC(par[0], par[1])\n",
    "                run.fit()\n",
    "                test_error = run.cal_test_error()\n",
    "                data[\"batch_size\"].append(bs)\n",
    "                data[\"num_of_layer\"].append(net[0])\n",
    "                data[\"lr\"].append(lr)\n",
    "                data[\"lower_bound\"].append(par[0])\n",
    "                data[\"upper_bound\"].append(par[1])\n",
    "                data[\"MSE_test\"].append(test_error[0])\n",
    "                data[\"MAE_test\"].append(test_error[1])\n",
    "    i += 1"
   ]
  },
  {
   "cell_type": "code",
   "execution_count": 15,
   "metadata": {},
   "outputs": [],
   "source": [
    "data = pd.DataFrame(data)\n",
    "\n",
    "data.to_csv(\"data.csv\")"
   ]
  }
 ],
 "metadata": {
  "interpreter": {
   "hash": "400b3448902b2aa85e7a3848e7bd72dda1a711f8af9f184efc41490bde870126"
  },
  "kernelspec": {
   "display_name": "",
   "language": "python",
   "name": "python3"
  },
  "language_info": {
   "codemirror_mode": {
    "name": "ipython",
    "version": 3
   },
   "file_extension": ".py",
   "mimetype": "text/x-python",
   "name": "python",
   "nbconvert_exporter": "python",
   "pygments_lexer": "ipython3",
   "version": "3.7.9"
  },
  "orig_nbformat": 4
 },
 "nbformat": 4,
 "nbformat_minor": 2
}
