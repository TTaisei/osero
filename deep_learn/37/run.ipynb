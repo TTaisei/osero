{
 "cells": [
  {
   "cell_type": "markdown",
   "metadata": {},
   "source": [
    "- **[実験](#実験)**\n",
    "    - [準備](#準備)\n",
    "    - [データ量](#データ量)\n",
    "    - [バッチサイズ](#バッチサイズ)\n",
    "    - [活性化関数の種類](#活性化関数の種類)\n",
    "    - [最適化関数](#最適化関数)\n",
    "    - [bound](#bound)\n",
    "    - [更新回数](#更新回数)\n",
    "    - [調査ターン](#調査ターン)\n",
    "    - [hook_function](#hook_function)\n",
    "- **[組み合わせ実験](#組み合わせ実験)**\n",
    "- **[組み合わせ実験2](#組み合わせ実験2)**\n",
    "- **[学習済みモデル作成](#学習済みモデル作成)**"
   ]
  },
  {
   "cell_type": "markdown",
   "metadata": {},
   "source": [
    "# 実験"
   ]
  },
  {
   "cell_type": "markdown",
   "metadata": {},
   "source": [
    "## 準備"
   ]
  },
  {
   "cell_type": "code",
   "execution_count": null,
   "metadata": {},
   "outputs": [],
   "source": [
    "import matplotlib.pyplot as plt\n",
    "\n",
    "from deep_learn import *"
   ]
  },
  {
   "cell_type": "markdown",
   "metadata": {},
   "source": [
    "## データ量"
   ]
  },
  {
   "cell_type": "code",
   "execution_count": 4,
   "metadata": {},
   "outputs": [
    {
     "name": "stdout",
     "output_type": "stream",
     "text": [
      "3/3"
     ]
    },
    {
     "data": {
      "text/plain": [
       "<Figure size 720x1080 with 0 Axes>"
      ]
     },
     "metadata": {},
     "output_type": "display_data"
    }
   ],
   "source": [
    "run = deep_learn()\n",
    "\n",
    "num_arr = [1, 5, 10]\n",
    "run.fig, run.ax = plt.subplots(ncols=2, nrows=len(num_arr), figsize=(10, len(num_arr)*5))\n",
    "plt.subplots_adjust(wspace=None, hspace=0.2)\n",
    "i = 1\n",
    "MSE_test = []\n",
    "MAE_test = []\n",
    "\n",
    "for num in num_arr:\n",
    "    print(\"\\r%d/%d\" % (i, len(num_arr)), end=\"\")\n",
    "    run.num = num\n",
    "    run.fig_name1 = \"MSE of each epoch (data quantity is %d)\" % num\n",
    "    run.fig_name2 = \"MAE of each epoch (data quantity is %d)\" % num\n",
    "    run.set_data()\n",
    "    run.fit()\n",
    "    run.plot(i)\n",
    "    test_error = run.cal_test_error()\n",
    "    MSE_test.append(test_error[0])\n",
    "    MAE_test.append(test_error[1])\n",
    "    i += 1\n",
    "\n",
    "run.fig.savefig(\"fig/data_quantity.png\")\n",
    "run.fig.clf()"
   ]
  },
  {
   "cell_type": "code",
   "execution_count": 5,
   "metadata": {},
   "outputs": [
    {
     "name": "stdout",
     "output_type": "stream",
     "text": [
      "number:  [1, 5, 10]\n",
      "MSE:  [variable(152.81169), variable(372.01184), variable(643.15546)]\n",
      "MAE:  [variable(8.03122), variable(15.009193), variable(20.94951)]\n"
     ]
    }
   ],
   "source": [
    "print(\"number: \", num_arr)\n",
    "print(\"MSE: \", MSE_test)\n",
    "print(\"MAE: \", MAE_test)"
   ]
  },
  {
   "cell_type": "markdown",
   "metadata": {},
   "source": [
    "## バッチサイズ"
   ]
  },
  {
   "cell_type": "code",
   "execution_count": 21,
   "metadata": {},
   "outputs": [
    {
     "name": "stdout",
     "output_type": "stream",
     "text": [
      "7/7"
     ]
    },
    {
     "data": {
      "text/plain": [
       "<Figure size 720x2520 with 0 Axes>"
      ]
     },
     "metadata": {},
     "output_type": "display_data"
    }
   ],
   "source": [
    "run = deep_learn()\n",
    "\n",
    "batch_arr = [100, 200, 300, 500, 700, 1000, 1500]\n",
    "run.fig, run.ax = plt.subplots(ncols=2, nrows=len(batch_arr), figsize=(10, len(batch_arr)*5))\n",
    "plt.subplots_adjust(wspace=None, hspace=0.2)\n",
    "i = 1\n",
    "MSE_test = []\n",
    "MAE_test = []\n",
    "\n",
    "run.set_data()\n",
    "\n",
    "for batch_size in batch_arr:\n",
    "    print(\"\\r%d/%d\" % (i, len(batch_arr)), end=\"\")\n",
    "    run.batch_size = batch_size\n",
    "    run.fig_name1 = \"MSE of each epoch (batch size is %d)\" % batch_size\n",
    "    run.fig_name2 = \"MAE of each epoch (batch size is %d)\" % batch_size\n",
    "    run.fit()\n",
    "    run.plot(i)\n",
    "    test_error = run.cal_test_error()\n",
    "    MSE_test.append(test_error[0])\n",
    "    MAE_test.append(test_error[1])\n",
    "    i += 1\n",
    "\n",
    "run.fig.savefig(\"fig/batch_size.png\")\n",
    "run.fig.clf()"
   ]
  },
  {
   "cell_type": "code",
   "execution_count": 22,
   "metadata": {},
   "outputs": [
    {
     "name": "stdout",
     "output_type": "stream",
     "text": [
      "batch size:  [100, 200, 300, 500, 700, 1000, 1500]\n",
      "MSE:  [variable(162.9739), variable(152.05502), variable(153.27628), variable(162.2756), variable(145.58446), variable(204.26527), variable(167.85017)]\n",
      "MAE:  [variable(8.527661), variable(8.186351), variable(8.13009), variable(8.399555), variable(7.9057674), variable(9.92684), variable(8.66958)]\n"
     ]
    }
   ],
   "source": [
    "print(\"batch size: \", batch_arr)\n",
    "print(\"MSE: \", MSE_test)\n",
    "print(\"MAE: \", MAE_test)"
   ]
  },
  {
   "cell_type": "markdown",
   "metadata": {},
   "source": [
    "## 活性化関数の種類"
   ]
  },
  {
   "cell_type": "code",
   "execution_count": 13,
   "metadata": {},
   "outputs": [
    {
     "name": "stdout",
     "output_type": "stream",
     "text": [
      "8/8"
     ]
    },
    {
     "data": {
      "text/plain": [
       "<Figure size 720x2880 with 0 Axes>"
      ]
     },
     "metadata": {},
     "output_type": "display_data"
    }
   ],
   "source": [
    "import chainer.functions as F\n",
    "\n",
    "import Net\n",
    "\n",
    "run = deep_learn()\n",
    "\n",
    "f_arr = [\n",
    "    F.clipped_relu,\n",
    "    F.elu,\n",
    "    F.leaky_relu,\n",
    "    # F.log_softmax,  overflow\n",
    "    F.rrelu,\n",
    "    F.relu,\n",
    "    F.sigmoid,\n",
    "    F.softmax,\n",
    "    # F.softplus,    overflow\n",
    "    F.tanh\n",
    "]\n",
    "f_name = [\n",
    "    \"clipped_relu\",\n",
    "    \"elu\",\n",
    "    \"leaky_relu\",\n",
    "    # \"log_softmax\",\n",
    "    \"rrelu\",\n",
    "    \"relu\",\n",
    "    \"sigmoid\",\n",
    "    \"softmax\",\n",
    "    # \"softplus\",\n",
    "    \"tanh\"\n",
    "]\n",
    "run.fig, run.ax = plt.subplots(ncols=2, nrows=len(f_arr), figsize=(10, len(f_arr)*5))\n",
    "plt.subplots_adjust(wspace=None, hspace=0.2)\n",
    "i = 1\n",
    "MSE_test = []\n",
    "MAE_test = []\n",
    "\n",
    "run.set_data()\n",
    "\n",
    "for function in f_arr:\n",
    "    print(\"\\r%d/%d\" % (i, len(f_arr)), end=\"\")\n",
    "    Net.func = function\n",
    "    run.Net = Net.Net\n",
    "    run.fig_name1 = \"MSE of each epoch (num of function is %s)\" % f_name[i-1]\n",
    "    run.fig_name2 = \"MAE of each epoch (num of function is %s)\" % f_name[i-1]\n",
    "    run.fit()\n",
    "    run.plot(i)\n",
    "    test_error = run.cal_test_error()\n",
    "    MSE_test.append(test_error[0])\n",
    "    MAE_test.append(test_error[1])\n",
    "    i += 1\n",
    "\n",
    "run.fig.savefig(\"fig/function\")\n",
    "run.fig.clf()"
   ]
  },
  {
   "cell_type": "code",
   "execution_count": 14,
   "metadata": {},
   "outputs": [
    {
     "name": "stdout",
     "output_type": "stream",
     "text": [
      "function:  ['clipped_relu', 'elu', 'leaky_relu', 'rrelu', 'relu', 'sigmoid', 'softmax', 'tanh']\n",
      "MSE:  [variable(234.85422), variable(435.0493), variable(1528.1886), variable(1051.0135), variable(451.09824), variable(294.6485), variable(571.89453), variable(171.02132)]\n",
      "MAE:  [variable(10.507885), variable(16.28336), variable(33.503345), variable(28.046625), variable(15.27029), variable(13.055871), variable(20.325909), variable(9.534906)]\n"
     ]
    }
   ],
   "source": [
    "print(\"function: \", f_name)\n",
    "print(\"MSE: \", MSE_test)\n",
    "print(\"MAE: \", MAE_test)"
   ]
  },
  {
   "cell_type": "markdown",
   "metadata": {},
   "source": [
    "## 最適化関数"
   ]
  },
  {
   "cell_type": "code",
   "execution_count": 8,
   "metadata": {},
   "outputs": [
    {
     "name": "stdout",
     "output_type": "stream",
     "text": [
      "11/11"
     ]
    },
    {
     "data": {
      "text/plain": [
       "<Figure size 720x3960 with 0 Axes>"
      ]
     },
     "metadata": {},
     "output_type": "display_data"
    }
   ],
   "source": [
    "# https://qiita.com/ZoneTsuyoshi/items/8ef6fa1e154d176e25b8\n",
    "\n",
    "from chainer import optimizers\n",
    "\n",
    "opt_arr = [\n",
    "    optimizers.SGD(),\n",
    "    optimizers.MomentumSGD(),\n",
    "    optimizers.AdaGrad(),\n",
    "    optimizers.RMSprop(),\n",
    "    optimizers.AdaDelta(),\n",
    "    optimizers.Adam(),\n",
    "    optimizers.RMSpropGraves(),\n",
    "    optimizers.SMORMS3(),\n",
    "    optimizers.AMSGrad(),\n",
    "    optimizers.AdaBound(),\n",
    "    optimizers.AMSBound()\n",
    "]\n",
    "\n",
    "opt_name = [\n",
    "    \"SGD\",\n",
    "    \"MomentumSGD\",\n",
    "    \"AdaGrad\",\n",
    "    \"RmSprop\",\n",
    "    \"AdaDelta\",\n",
    "    \"Adam\",\n",
    "    \"RMSpropGraves\",\n",
    "    \"SMORMS3\",\n",
    "    \"AMSGrad\",\n",
    "    \"AdaBound\",\n",
    "    \"AMSBound\"\n",
    "]\n",
    "\n",
    "run = deep_learn()\n",
    "run.fig, run.ax = plt.subplots(ncols=2, nrows=len(opt_arr), figsize=(10, len(opt_arr)*5))\n",
    "plt.subplots_adjust(wspace=None, hspace=0.2)\n",
    "i = 1\n",
    "MSE_test = []\n",
    "MAE_test = []\n",
    "\n",
    "run.set_data()\n",
    "\n",
    "for opt in opt_arr:\n",
    "    print(\"\\r%d/%d\" % (i, len(opt_arr)), end=\"\")\n",
    "    run.optimizer = opt\n",
    "    run.fig_name1 = \"MSE of each epoch (optimizer is %s)\" % opt_name[i - 1]\n",
    "    run.fig_name2 = \"MAE of each epoch (optimizer is %s)\" % opt_name[i - 1]\n",
    "    run.fit()\n",
    "    run.plot(i)\n",
    "    test_error = run.cal_test_error()\n",
    "    MSE_test.append(test_error[0])\n",
    "    MAE_test.append(test_error[1])\n",
    "    i += 1\n",
    "\n",
    "run.fig.savefig(\"fig/optmizer\")\n",
    "run.fig.clf()"
   ]
  },
  {
   "cell_type": "code",
   "execution_count": 9,
   "metadata": {},
   "outputs": [
    {
     "name": "stdout",
     "output_type": "stream",
     "text": [
      "opt name:  ['SGD', 'MomentumSGD', 'AdaGrad', 'RmSprop', 'AdaDelta', 'Adam', 'RMSpropGraves', 'SMORMS3', 'AMSGrad', 'AdaBound', 'AMSBound']\n",
      "MSE:  [variable(220.08337), variable(576.7117), variable(251.20909), variable(569.64264), variable(184.31363), variable(162.6182), variable(156.20638), variable(161.93105), variable(169.1945), variable(150.75018), variable(139.02298)]\n",
      "MAE:  [variable(10.743682), variable(20.432753), variable(12.183864), variable(20.282295), variable(9.238301), variable(9.405695), variable(8.508823), variable(9.181299), variable(8.943705), variable(8.068955), variable(7.9657555)]\n"
     ]
    }
   ],
   "source": [
    "print(\"opt name: \", opt_name)\n",
    "print(\"MSE: \", MSE_test)\n",
    "print(\"MAE: \", MAE_test)"
   ]
  },
  {
   "cell_type": "markdown",
   "metadata": {},
   "source": [
    "## bound"
   ]
  },
  {
   "cell_type": "code",
   "execution_count": 2,
   "metadata": {},
   "outputs": [
    {
     "name": "stdout",
     "output_type": "stream",
     "text": [
      "6/6"
     ]
    },
    {
     "data": {
      "text/plain": [
       "<Figure size 720x2160 with 0 Axes>"
      ]
     },
     "metadata": {},
     "output_type": "display_data"
    }
   ],
   "source": [
    "run = deep_learn()\n",
    "\n",
    "bound_arr = [1, 2, 3, 4, 5, 10]\n",
    "run.fig, run.ax = plt.subplots(ncols=2, nrows=len(bound_arr), figsize=(10, len(bound_arr)*5))\n",
    "plt.subplots_adjust(wspace=None, hspace=0.2)\n",
    "i = 1\n",
    "MSE_test = []\n",
    "MAE_test = []\n",
    "\n",
    "run.set_data()\n",
    "\n",
    "for bound in bound_arr:\n",
    "    print(\"\\r%d/%d\" % (i, len(bound_arr)), end=\"\")\n",
    "    run.bound = bound\n",
    "    run.fig_name1 = \"MSE of each epoch (bound is %d)\" % bound\n",
    "    run.fig_name2 = \"MAE of each epoch (bound is %d)\" % bound\n",
    "    run.fit()\n",
    "    run.plot(i)\n",
    "    test_error = run.cal_test_error()\n",
    "    MSE_test.append(test_error[0])\n",
    "    MAE_test.append(test_error[1])\n",
    "    i += 1\n",
    "\n",
    "run.fig.savefig(\"fig/bound\")\n",
    "run.fig.clf()"
   ]
  },
  {
   "cell_type": "code",
   "execution_count": 3,
   "metadata": {},
   "outputs": [
    {
     "name": "stdout",
     "output_type": "stream",
     "text": [
      "bound : [1, 2, 3, 4, 5, 10]\n",
      "MSE:  [variable(208.39401), variable(195.04422), variable(211.6011), variable(189.95116), variable(244.27588), variable(212.02213)]\n",
      "MAE:  [variable(10.187112), variable(9.844666), variable(10.383668), variable(10.060881), variable(11.47002), variable(10.53158)]\n"
     ]
    }
   ],
   "source": [
    "print(\"bound :\", bound_arr)\n",
    "print(\"MSE: \", MSE_test)\n",
    "print(\"MAE: \", MAE_test)"
   ]
  },
  {
   "cell_type": "markdown",
   "metadata": {},
   "source": [
    "## 更新回数"
   ]
  },
  {
   "cell_type": "code",
   "execution_count": 15,
   "metadata": {},
   "outputs": [
    {
     "data": {
      "text/plain": [
       "<Figure size 720x720 with 0 Axes>"
      ]
     },
     "metadata": {},
     "output_type": "display_data"
    }
   ],
   "source": [
    "run = deep_learn()\n",
    "\n",
    "n_epoch_arr = [100, 1000]\n",
    "run.fig, run.ax = plt.subplots(ncols=2, nrows=len(n_epoch_arr), figsize=(10, len(n_epoch_arr)*5))\n",
    "plt.subplots_adjust(wspace=None, hspace=0.2)\n",
    "\n",
    "run.set_data()\n",
    "i = 1\n",
    "MSE_test = []\n",
    "MAE_test = []\n",
    "\n",
    "for n_epoch in n_epoch_arr:\n",
    "    run.n_epoch = n_epoch\n",
    "    run.fig_name1 = \"MSE of each epoch (n_epohc is %d)\" % run.n_epoch\n",
    "    run.fig_name2 = \"MAE of each epoch (n_epoch is %d)\" % run.n_epoch\n",
    "\n",
    "    run.fit()\n",
    "    run.plot(i)\n",
    "    test_error = run.cal_test_error()\n",
    "    MSE_test.append(test_error[0])\n",
    "    MAE_test.append(test_error[1])\n",
    "    i += 1\n",
    "\n",
    "run.fig.savefig(\"fig/n_epoch\")\n",
    "run.fig.clf()"
   ]
  },
  {
   "cell_type": "code",
   "execution_count": 16,
   "metadata": {},
   "outputs": [
    {
     "name": "stdout",
     "output_type": "stream",
     "text": [
      "n_epoch:  [100, 1000]\n",
      "MSE:  [variable(152.18834), variable(144.9502)]\n",
      "MAE:  [variable(7.6830935), variable(7.124355)]\n"
     ]
    }
   ],
   "source": [
    "print(\"n_epoch: \", n_epoch_arr)\n",
    "print(\"MSE: \", MSE_test)\n",
    "print(\"MAE: \", MAE_test)"
   ]
  },
  {
   "cell_type": "markdown",
   "metadata": {},
   "source": [
    "## 調査ターン"
   ]
  },
  {
   "cell_type": "code",
   "execution_count": 10,
   "metadata": {},
   "outputs": [
    {
     "name": "stdout",
     "output_type": "stream",
     "text": [
      "3/3"
     ]
    },
    {
     "data": {
      "text/plain": [
       "<Figure size 720x1080 with 0 Axes>"
      ]
     },
     "metadata": {},
     "output_type": "display_data"
    }
   ],
   "source": [
    "import osero_learn as ol\n",
    "import deep_learn as dl\n",
    "\n",
    "run = dl.deep_learn()\n",
    "\n",
    "cp_arr = [\n",
    "    [i for i in range(1, 61)],\n",
    "    [i for i in range(5, 61, 5)],\n",
    "    [i for i in range(10, 61, 10)]\n",
    "]\n",
    "cp_name = [\n",
    "    \"every 1\",\n",
    "    \"every 5\",\n",
    "    \"every 10\"\n",
    "]\n",
    "run.fig, run.ax = plt.subplots(ncols=2, nrows=len(cp_arr), figsize=(10, len(cp_arr)*5))\n",
    "plt.subplots_adjust(wspace=None, hspace=0.2)\n",
    "i = 1\n",
    "MSE_test = []\n",
    "MAE_test = []\n",
    "\n",
    "for cp in cp_arr:\n",
    "    print(\"\\r%d/%d\" % (i, len(cp_arr)), end=\"\")\n",
    "    run.osero = ol.learn(0, 0, check_point=cp, eva=[0, 0])\n",
    "    run.set_data()\n",
    "    run.fig_name1 = \"MSE of each epoch (turn is %s)\" % cp_name[i - 1]\n",
    "    run.fig_name2 = \"MAE of each epoch (turn is %s)\" % cp_name[i - 1]\n",
    "    run.fit()\n",
    "    run.plot(i)\n",
    "    test_error = run.cal_test_error()\n",
    "    MSE_test.append(test_error[0])\n",
    "    MAE_test.append(test_error[1])\n",
    "    i += 1\n",
    "\n",
    "run.fig.savefig(\"fig/check_point\")\n",
    "run.fig.clf()"
   ]
  },
  {
   "cell_type": "code",
   "execution_count": 11,
   "metadata": {},
   "outputs": [
    {
     "name": "stdout",
     "output_type": "stream",
     "text": [
      "['every 1', 'every 5', 'every 10']\n",
      "MSE:  [variable(194.50024), variable(512.78925), variable(447.7704)]\n",
      "MAE:  [variable(9.789661), variable(17.579159), variable(16.539795)]\n"
     ]
    }
   ],
   "source": [
    "print(cp_name)\n",
    "print(\"MSE: \", MSE_test)\n",
    "print(\"MAE: \", MAE_test)"
   ]
  },
  {
   "cell_type": "markdown",
   "metadata": {},
   "source": [
    "## hook_function"
   ]
  },
  {
   "cell_type": "code",
   "execution_count": 13,
   "metadata": {},
   "outputs": [
    {
     "name": "stdout",
     "output_type": "stream",
     "text": [
      "5/5"
     ]
    },
    {
     "data": {
      "text/plain": [
       "<Figure size 720x1800 with 0 Axes>"
      ]
     },
     "metadata": {},
     "output_type": "display_data"
    }
   ],
   "source": [
    "import chainer.optimizer_hooks as hf\n",
    "\n",
    "run = deep_learn()\n",
    "\n",
    "hf_arr = [\n",
    "    hf.WeightDecay(0.00001),\n",
    "    hf.Lasso(0.00001),\n",
    "    # hf.GradientClipping(1.0),\n",
    "    hf.GradientHardClipping(-2, 2),\n",
    "    hf.GradientNoise(0.3),\n",
    "    hf.GradientLARS()\n",
    "]\n",
    "hf_name = [\n",
    "    \"WeightDecay\",\n",
    "    \"Lasso\",\n",
    "    # \"GradientClipping\",\n",
    "    \"GradientHardClipping\",\n",
    "    \"GradientNoise\",\n",
    "    \"GradientLARS\"\n",
    "]\n",
    "run.fig, run.ax = plt.subplots(ncols=2, nrows=len(hf_arr), figsize=(10, len(hf_arr)*5))\n",
    "plt.subplots_adjust(wspace=None, hspace=0.2)\n",
    "i = 1\n",
    "MSE_test = []\n",
    "MAE_test = []\n",
    "\n",
    "run.set_data()\n",
    "\n",
    "for hook_f in hf_arr:\n",
    "    print(\"\\r%d/%d\" % (i, len(hf_arr)), end=\"\")\n",
    "    run.hook_f = hook_f\n",
    "    run.fig_name1 = \"MSE of each epoch (hook function is %s)\" % hf_name[i - 1]\n",
    "    run.fig_name2 = \"MAE of each epoch (hook function is %s)\" % hf_name[i - 1]\n",
    "    run.fit()\n",
    "    run.plot(i)\n",
    "    test_error = run.cal_test_error()\n",
    "    MSE_test.append(test_error[0])\n",
    "    MAE_test.append(test_error[1])\n",
    "    i += 1\n",
    "\n",
    "run.fig.savefig(\"fig/hook_function\")\n",
    "run.fig.clf()"
   ]
  },
  {
   "cell_type": "code",
   "execution_count": 14,
   "metadata": {},
   "outputs": [
    {
     "name": "stdout",
     "output_type": "stream",
     "text": [
      "['WeightDecay', 'Lasso', 'GradientHardClipping', 'GradientNoise', 'GradientLARS']\n",
      "MSE:  [variable(162.75676), variable(200.36641), variable(209.13129), variable(156.30049), variable(235.34283)]\n",
      "MAE:  [variable(9.0745125), variable(10.085787), variable(9.9866905), variable(8.721768), variable(11.526583)]\n"
     ]
    }
   ],
   "source": [
    "print(hf_name)\n",
    "print(\"MSE: \", MSE_test)\n",
    "print(\"MAE: \", MAE_test)"
   ]
  },
  {
   "cell_type": "markdown",
   "metadata": {},
   "source": [
    "# 組み合わせ実験"
   ]
  },
  {
   "cell_type": "code",
   "execution_count": 1,
   "metadata": {},
   "outputs": [],
   "source": [
    "import chainer.functions as F\n",
    "import chainer.optimizers as opt\n",
    "import chainer.optimizer_hooks as hf\n",
    "import pandas as pd\n",
    "\n",
    "import Net\n",
    "import deep_learn"
   ]
  },
  {
   "cell_type": "code",
   "execution_count": 2,
   "metadata": {},
   "outputs": [],
   "source": [
    "num = 1\n",
    "batch_size = 1000\n",
    "f_arr = [\n",
    "    F.sigmoid,\n",
    "    F.tanh\n",
    "]\n",
    "f_name = [\n",
    "    \"sigmoid\",\n",
    "    \"tanh\"\n",
    "]\n",
    "opt_arr = [\n",
    "    opt.AdaDelta(),\n",
    "    opt.Adam(),\n",
    "    opt.RMSpropGraves(),\n",
    "    opt.SMORMS3(),\n",
    "    opt.AMSGrad(),\n",
    "    opt.AdaBound(),\n",
    "    opt.AMSBound()\n",
    "]\n",
    "opt_name = [\n",
    "    \"AdaDelta\",\n",
    "    \"Adam\",\n",
    "    \"RMSpropGraves\",\n",
    "    \"SMORMS3\",\n",
    "    \"AMSGrad\",\n",
    "    \"AdaBound\",\n",
    "    \"AMSBound\"\n",
    "]\n",
    "hf_arr = [\n",
    "    hf.WeightDecay(0.00001),\n",
    "    hf.Lasso(0.00001),\n",
    "    hf.GradientHardClipping(-2, 2),\n",
    "    hf.GradientNoise(0.3),\n",
    "    hf.GradientLARS()\n",
    "]\n",
    "hf_name = [\n",
    "    \"WeightDecay\",\n",
    "    \"Lasso\",\n",
    "    \"GradientHardClipping\",\n",
    "    \"GradientNoise\",\n",
    "    \"GradientLARS\"\n",
    "]"
   ]
  },
  {
   "cell_type": "code",
   "execution_count": 3,
   "metadata": {},
   "outputs": [],
   "source": [
    "data = {}\n",
    "\n",
    "data[\"function\"] = []\n",
    "data[\"optimizer\"] = []\n",
    "data[\"hook_function\"] = []\n",
    "data[\"test_MSE\"] = []\n",
    "data[\"test_MAE\"] = []"
   ]
  },
  {
   "cell_type": "code",
   "execution_count": 4,
   "metadata": {},
   "outputs": [
    {
     "name": "stdout",
     "output_type": "stream",
     "text": [
      "2/2#######....."
     ]
    }
   ],
   "source": [
    "run = deep_learn.deep_learn()\n",
    "run.num = num\n",
    "run.batch_size = batch_size\n",
    "run.set_data()\n",
    "i, j, k = 0, 0, 0\n",
    "\n",
    "for function in f_arr:\n",
    "    Net.func = function\n",
    "    run.Net = Net.Net\n",
    "    j = 0\n",
    "    for optimizer in opt_arr:\n",
    "        run.optimizer = optimizer\n",
    "        k = 0\n",
    "        for hook_function in hf_arr:\n",
    "            loading = \"%d/%d\" % (i+1, len(f_arr))\\\n",
    "                    + \"#\" * (j + 1)\\\n",
    "                    + \".\" * (k + 1)\n",
    "            print(\"\\r\" + loading, end=\"\")\n",
    "            run.hook_f = hook_function\n",
    "            run.fit()\n",
    "            test_error = run.cal_test_error()\n",
    "            data[\"function\"].append(f_name[i])\n",
    "            data[\"optimizer\"].append(opt_name[j])\n",
    "            data[\"hook_function\"].append(hf_name[k])\n",
    "            data[\"test_MSE\"].append(float(test_error[0].array))\n",
    "            data[\"test_MAE\"].append(float(test_error[1].array))\n",
    "            k += 1\n",
    "        j += 1\n",
    "    i += 1"
   ]
  },
  {
   "cell_type": "code",
   "execution_count": 5,
   "metadata": {},
   "outputs": [],
   "source": [
    "data_df = pd.DataFrame(data)\n",
    "data_df.to_csv(\"data.csv\")"
   ]
  },
  {
   "cell_type": "markdown",
   "metadata": {},
   "source": [
    "# 組み合わせ実験2"
   ]
  },
  {
   "cell_type": "code",
   "execution_count": 1,
   "metadata": {},
   "outputs": [],
   "source": [
    "import chainer.functions as F\n",
    "import chainer.optimizers as opt\n",
    "import chainer.optimizer_hooks as hf\n",
    "import pandas as pd\n",
    "\n",
    "import Net\n",
    "import deep_learn"
   ]
  },
  {
   "cell_type": "code",
   "execution_count": 4,
   "metadata": {},
   "outputs": [],
   "source": [
    "num = 1\n",
    "batch_arr = [200, 600, 1000]\n",
    "func = F.tanh\n",
    "opt_arr = [\n",
    "    opt.AdaDelta(),\n",
    "    opt.Adam(),\n",
    "    opt.RMSpropGraves(),\n",
    "    opt.SMORMS3(),\n",
    "    opt.AMSGrad(),\n",
    "    opt.AdaBound(),\n",
    "    opt.AMSBound()\n",
    "]\n",
    "opt_name = [\n",
    "    \"AdaDelta\",\n",
    "    \"Adam\",\n",
    "    \"RMSpropGraves\",\n",
    "    \"SMORMS3\",\n",
    "    \"AMSGrad\",\n",
    "    \"AdaBound\",\n",
    "    \"AMSBound\"\n",
    "]\n",
    "hf_arr = [\n",
    "    hf.WeightDecay(0.00001),\n",
    "    hf.Lasso(0.00001),\n",
    "    hf.GradientHardClipping(-2, 2),\n",
    "    hf.GradientLARS()\n",
    "]\n",
    "hf_name = [\n",
    "    \"WeightDecay\",\n",
    "    \"Lasso\",\n",
    "    \"GradientHardClipping\",\n",
    "    \"GradientLARS\"\n",
    "]"
   ]
  },
  {
   "cell_type": "code",
   "execution_count": 6,
   "metadata": {},
   "outputs": [],
   "source": [
    "data = {}\n",
    "\n",
    "data[\"batch_size\"] = []\n",
    "data[\"optimizer\"] = []\n",
    "data[\"hook_function\"] = []\n",
    "data[\"test_MSE\"] = []\n",
    "data[\"test_MAE\"] = []"
   ]
  },
  {
   "cell_type": "code",
   "execution_count": 7,
   "metadata": {},
   "outputs": [
    {
     "name": "stdout",
     "output_type": "stream",
     "text": [
      "3/3#######...."
     ]
    }
   ],
   "source": [
    "run = deep_learn.deep_learn()\n",
    "run.num = num\n",
    "Net.func = func\n",
    "run.Net = Net.Net\n",
    "run.set_data()\n",
    "i, j, k = 0, 0, 0\n",
    "\n",
    "for batch_size in batch_arr:\n",
    "    run.batch_size = batch_size\n",
    "    j = 0\n",
    "    for optimizer in opt_arr:\n",
    "        run.optimizer = optimizer\n",
    "        k = 0\n",
    "        for hook_function in hf_arr:\n",
    "            loading = \"%d/%d\" % (i+1, len(batch_arr))\\\n",
    "                    + \"#\" * (j + 1)\\\n",
    "                    + \".\" * (k + 1)\n",
    "            print(\"\\r\" + loading, end=\"\")\n",
    "            run.hook_f = hook_function\n",
    "            run.fit()\n",
    "            test_error = run.cal_test_error()\n",
    "            data[\"batch_size\"].append(batch_size)\n",
    "            data[\"optimizer\"].append(opt_name[j])\n",
    "            data[\"hook_function\"].append(hf_name[k])\n",
    "            data[\"test_MSE\"].append(float(test_error[0].array))\n",
    "            data[\"test_MAE\"].append(float(test_error[1].array))\n",
    "            k += 1\n",
    "        j += 1\n",
    "    i += 1"
   ]
  },
  {
   "cell_type": "code",
   "execution_count": 8,
   "metadata": {},
   "outputs": [],
   "source": [
    "data_df = pd.DataFrame(data)\n",
    "data_df.to_csv(\"data2.csv\")"
   ]
  },
  {
   "cell_type": "markdown",
   "metadata": {},
   "source": [
    "# 学習済みモデル作成"
   ]
  },
  {
   "cell_type": "code",
   "execution_count": 12,
   "metadata": {},
   "outputs": [],
   "source": [
    "import chainer.functions as F\n",
    "from chainer.optimizers import AMSBound\n",
    "from chainer.optimizer_hooks import Lasso\n",
    "import matplotlib.pyplot as plt\n",
    "from chainer.serializers import save_npz\n",
    "\n",
    "import deep_learn\n",
    "import Net"
   ]
  },
  {
   "cell_type": "code",
   "execution_count": 6,
   "metadata": {},
   "outputs": [],
   "source": [
    "run = deep_learn.deep_learn()\n",
    "\n",
    "run.num = 1\n",
    "run.batch_size = 200\n",
    "Net.func = F.tanh\n",
    "run.Net = Net.Net\n",
    "run.optimizer = AMSBound()\n",
    "run.n_epoch = 150\n",
    "run.hook_f = Lasso(0.00001)"
   ]
  },
  {
   "cell_type": "code",
   "execution_count": 7,
   "metadata": {},
   "outputs": [],
   "source": [
    "run.set_data()\n",
    "run.fit()"
   ]
  },
  {
   "cell_type": "code",
   "execution_count": 15,
   "metadata": {},
   "outputs": [
    {
     "data": {
      "text/plain": [
       "(variable(140.72816), variable(7.2066855))"
      ]
     },
     "execution_count": 15,
     "metadata": {},
     "output_type": "execute_result"
    }
   ],
   "source": [
    "error = run.cal_test_error()\n",
    "error"
   ]
  },
  {
   "cell_type": "code",
   "execution_count": 10,
   "metadata": {},
   "outputs": [],
   "source": [
    "fig = plt.figure(figsize=(10, 10))\n",
    "plt.plot(run.results_train[\"MSE\"], label=\"train\")\n",
    "plt.plot(run.results_valid[\"MSE\"], label=\"valid\")\n",
    "plt.legend()\n",
    "plt.xlabel(\"epoch number\")\n",
    "plt.ylabel(\"mean squared error\")\n",
    "plt.title(\"MSE of each epoch\")\n",
    "plt.savefig(\"fig/model_MSE\")\n",
    "plt.clf()\n",
    "plt.close()"
   ]
  },
  {
   "cell_type": "code",
   "execution_count": 11,
   "metadata": {},
   "outputs": [],
   "source": [
    "fig = plt.figure(figsize=(10, 10))\n",
    "plt.plot(run.results_train[\"MAE\"], label=\"train\")\n",
    "plt.plot(run.results_valid[\"MAE\"], label=\"valid\")\n",
    "plt.legend()\n",
    "plt.xlabel(\"epoch number\")\n",
    "plt.ylabel(\"mean absolute error\")\n",
    "plt.title(\"MAE of each epoch\")\n",
    "plt.savefig(\"fig/model_MAE\")\n",
    "plt.clf()\n",
    "plt.close()"
   ]
  },
  {
   "cell_type": "code",
   "execution_count": 13,
   "metadata": {},
   "outputs": [],
   "source": [
    "save_npz(\"model.net\", run.net)"
   ]
  },
  {
   "cell_type": "code",
   "execution_count": null,
   "metadata": {},
   "outputs": [],
   "source": []
  }
 ],
 "metadata": {
  "interpreter": {
   "hash": "400b3448902b2aa85e7a3848e7bd72dda1a711f8af9f184efc41490bde870126"
  },
  "kernelspec": {
   "display_name": "",
   "language": "python",
   "name": "python3"
  },
  "language_info": {
   "codemirror_mode": {
    "name": "ipython",
    "version": 3
   },
   "file_extension": ".py",
   "mimetype": "text/x-python",
   "name": "python",
   "nbconvert_exporter": "python",
   "pygments_lexer": "ipython3",
   "version": "3.7.9"
  },
  "orig_nbformat": 4
 },
 "nbformat": 4,
 "nbformat_minor": 2
}
