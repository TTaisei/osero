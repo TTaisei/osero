{
 "cells": [
  {
   "cell_type": "markdown",
   "metadata": {},
   "source": [
    "- **[01_もっともよい結果だけ次世代へつなぐ](#01_もっともよい結果だけ次世代へつなぐ)**\n",
    "- **[02_もっともよい結果と二番目の結果を次世代へつなぐ](#02_もっともよい結果と二番目の結果を次世代へつなぐ)**\n",
    "- **[03_トーナメントで次世代へつなぐ](#03_トーナメントで次世代へつなぐ)**\n",
    "- **[04_トーナメント改良](#04_トーナメント改良)**\n",
    "- **[05_対戦数を増やす](#05_対戦数を増やす)**\n",
    "- **[06_対戦数を増やし、トーナメント改良](#06_対戦数を増やし、トーナメント改良)**\n",
    "- **[07_対戦数を増やし、トーナメント改良し、世代数を増やす](#07_対戦数を増やし、トーナメント改良し、世代数を増やす)**"
   ]
  },
  {
   "cell_type": "code",
   "execution_count": 1,
   "metadata": {},
   "outputs": [],
   "source": [
    "from random import random, seed\n",
    "\n",
    "import matplotlib.pyplot as plt\n",
    "import numpy as np\n",
    "\n",
    "import AI"
   ]
  },
  {
   "cell_type": "markdown",
   "metadata": {},
   "source": [
    "# 01_もっともよい結果だけ次世代へつなぐ"
   ]
  },
  {
   "cell_type": "code",
   "execution_count": 2,
   "metadata": {},
   "outputs": [],
   "source": [
    "run = AI.AI(0, 0)\n",
    "run.read_goal = [1, 1]\n",
    "play_method = {\"AI\": run.PLAY_WAY[\"AI\"], \"nleast\": run.PLAY_WAY[\"nleast\"]}"
   ]
  },
  {
   "cell_type": "code",
   "execution_count": 3,
   "metadata": {},
   "outputs": [
    {
     "name": "stdout",
     "output_type": "stream",
     "text": [
      "50/50"
     ]
    }
   ],
   "source": [
    "seed(0)\n",
    "\n",
    "generations = 50\n",
    "children = 10\n",
    "ab = [[random(), random()] for i in range(children)]\n",
    "player = list(play_method.values())\n",
    "win_result = []\n",
    "\n",
    "score = {\"AI\": [0] * children, \"nleast\": [0] * children}\n",
    "\n",
    "for g in range(generations):\n",
    "    print(\"\\r%d/%d\" % (g+1, generations), end=\"\")\n",
    "    score = {\"AI\": [0] * children, \"nleast\": [0] * children}\n",
    "    next = 0\n",
    "    win_num = 0\n",
    "    for c in range(children):\n",
    "        run.A = ab[c][0]\n",
    "        run.B = ab[c][1]\n",
    "\n",
    "        for p in [0, 1]:\n",
    "            run.black_method = player[p]\n",
    "            run.white_method = player[not p]\n",
    "            run.setup()\n",
    "            result = run.play()\n",
    "            if run.black_method == play_method[\"AI\"]:\n",
    "                score[\"AI\"][c]     += result\n",
    "                score[\"nleast\"][c] -= result\n",
    "            else:\n",
    "                score[\"AI\"][c]     -= result\n",
    "                score[\"nleast\"][c] += result\n",
    "            if score[\"AI\"][c] > score[\"nleast\"][c]:\n",
    "                win_num += 1\n",
    "\n",
    "        if c:\n",
    "            if score[\"AI\"][c] - score[\"AI\"][c-1] > 0:\n",
    "                next = c\n",
    "\n",
    "    for c in range(children):\n",
    "        if random() > 0.03:\n",
    "            ab[c][0] = ab[next][0] + random() / 5 - 0.1\n",
    "            ab[c][1] = ab[next][1] + random() / 5 - 0.1\n",
    "        else:\n",
    "            ab[c][0] = random()\n",
    "            ab[c][1] = random()\n",
    "    win_result.append(win_num)"
   ]
  },
  {
   "cell_type": "code",
   "execution_count": 4,
   "metadata": {},
   "outputs": [
    {
     "name": "stdout",
     "output_type": "stream",
     "text": [
      "[0.23941609547807505, 0.35777572785685996]\n",
      "[0.2983086249263909, 0.46224661956749136]\n",
      "[0.1352297881214178, 0.4671043567151586]\n",
      "[0.174742860019351, 0.47745183099553845]\n",
      "[0.3091825692112029, 0.49155231282240563]\n",
      "[0.2667506602754828, 0.5135156230949472]\n",
      "[0.21879576811512422, 0.346266849934172]\n",
      "[0.17725439322589046, 0.4149851951459512]\n",
      "[0.29682016349473106, 0.49624233468089407]\n",
      "[0.18890073904354618, 0.4371081951750502]\n"
     ]
    }
   ],
   "source": [
    "for ab_ele in ab:\n",
    "    print(ab_ele)"
   ]
  },
  {
   "cell_type": "code",
   "execution_count": 5,
   "metadata": {},
   "outputs": [
    {
     "name": "stdout",
     "output_type": "stream",
     "text": [
      "0.23054016619112122 0.4464249045988469\n"
     ]
    }
   ],
   "source": [
    "ab_arr = np.array(ab)\n",
    "ab_arr = ab_arr.T\n",
    "print(ab_arr[0].mean(), ab_arr[1].mean())"
   ]
  },
  {
   "cell_type": "code",
   "execution_count": 6,
   "metadata": {},
   "outputs": [],
   "source": [
    "fig = plt.figure(figsize=(10, 10))\n",
    "plt.ylabel(\"win num\")\n",
    "plt.xlabel(\"generation\")\n",
    "plt.plot(win_result)\n",
    "plt.grid()\n",
    "plt.savefig(\"fig/01\")\n",
    "plt.clf()\n",
    "plt.close()"
   ]
  },
  {
   "cell_type": "markdown",
   "metadata": {},
   "source": [
    "# 02_もっともよい結果と二番目の結果を次世代につなぐ"
   ]
  },
  {
   "cell_type": "code",
   "execution_count": 2,
   "metadata": {},
   "outputs": [],
   "source": [
    "run = AI.AI(0, 0)\n",
    "run.read_goal = [1, 1]\n",
    "play_method = {\"AI\": run.PLAY_WAY[\"AI\"], \"nleast\": run.PLAY_WAY[\"nleast\"]}"
   ]
  },
  {
   "cell_type": "code",
   "execution_count": 3,
   "metadata": {},
   "outputs": [
    {
     "name": "stdout",
     "output_type": "stream",
     "text": [
      "50/50"
     ]
    }
   ],
   "source": [
    "seed(0)\n",
    "\n",
    "generations = 50\n",
    "children = 10\n",
    "ab = [[random(), random()] for i in range(children)]\n",
    "player = list(play_method.values())\n",
    "win_result = []\n",
    "\n",
    "score = {\"AI\": [0] * children, \"nleast\": [0] * children}\n",
    "\n",
    "for g in range(generations):\n",
    "    print(\"\\r%d/%d\" % (g+1, generations), end=\"\")\n",
    "    score = {\"AI\": [0] * children, \"nleast\": [0] * children}\n",
    "    next1, next2 = 0, 0\n",
    "    top, second = -100, -100\n",
    "    win_num = 0\n",
    "    for c in range(children):\n",
    "        run.A = ab[c][0]\n",
    "        run.B = ab[c][1]\n",
    "\n",
    "        for p in [0, 1]:\n",
    "            run.black_method = player[p]\n",
    "            run.white_method = player[not p]\n",
    "            run.setup()\n",
    "            result = run.play()\n",
    "            if run.black_method == play_method[\"AI\"]:\n",
    "                score[\"AI\"][c]     += result\n",
    "                score[\"nleast\"][c] -= result\n",
    "            else:\n",
    "                score[\"AI\"][c]     -= result\n",
    "                score[\"nleast\"][c] += result\n",
    "            if score[\"AI\"][c] > score[\"nleast\"][c]:\n",
    "                win_num += 1\n",
    "\n",
    "        if score[\"AI\"][c] > top:\n",
    "            second = top\n",
    "            top = score[\"AI\"][c]\n",
    "            next2 = next1\n",
    "            next1 = c\n",
    "        elif score[\"AI\"][c] > second:\n",
    "            second = score[\"AI\"][c]\n",
    "            next2 = c\n",
    "\n",
    "    for c in range(children >> 1):\n",
    "        if random() > 0.03:\n",
    "            ab[c][0] = ab[next1][0] + random() / 5 - 0.1\n",
    "            ab[c][1] = ab[next1][1] + random() / 5 - 0.1\n",
    "        else:\n",
    "            ab[c][0] = random()\n",
    "            ab[c][1] = random()\n",
    "    for c in range(children >> 1, children):\n",
    "        if random() > 0.03:\n",
    "            ab[c][0] = ab[next2][0] + random() / 5 - 0.1\n",
    "            ab[c][1] = ab[next2][1] + random() / 5 - 0.1\n",
    "        else:\n",
    "            ab[c][0] = random()\n",
    "            ab[c][1] = random()\n",
    "    win_result.append(win_num)"
   ]
  },
  {
   "cell_type": "code",
   "execution_count": 4,
   "metadata": {},
   "outputs": [
    {
     "name": "stdout",
     "output_type": "stream",
     "text": [
      "[0.4366761413226924, 0.363847389968887]\n",
      "[0.585117759367691, 0.3411556111862247]\n",
      "[0.6215485774727806, 0.3828643590646774]\n",
      "[0.553811235787369, 0.2539978233561665]\n",
      "[0.5499046820401436, 0.26588887637728187]\n",
      "[0.41797605296436946, 0.21303874673399606]\n",
      "[0.3941538926147179, 0.19443095633810717]\n",
      "[0.33549869473366334, 0.2621866288286896]\n",
      "[0.4232687188237969, 0.24411451234083645]\n",
      "[0.41047338094411434, 0.26471724953187703]\n"
     ]
    }
   ],
   "source": [
    "for ab_ele in ab:\n",
    "    print(ab_ele)"
   ]
  },
  {
   "cell_type": "code",
   "execution_count": 5,
   "metadata": {},
   "outputs": [
    {
     "name": "stdout",
     "output_type": "stream",
     "text": [
      "0.4728429136071338 0.2786242153726744\n"
     ]
    }
   ],
   "source": [
    "ab_arr = np.array(ab)\n",
    "ab_arr = ab_arr.T\n",
    "print(ab_arr[0].mean(), ab_arr[1].mean())"
   ]
  },
  {
   "cell_type": "code",
   "execution_count": 6,
   "metadata": {},
   "outputs": [],
   "source": [
    "fig = plt.figure(figsize=(10, 10))\n",
    "plt.ylabel(\"win num\")\n",
    "plt.xlabel(\"generation\")\n",
    "plt.plot(win_result)\n",
    "plt.grid()\n",
    "plt.savefig(\"fig/02\")\n",
    "plt.clf()\n",
    "plt.close()"
   ]
  },
  {
   "cell_type": "markdown",
   "metadata": {},
   "source": [
    "# 03_トーナメントで次世代へつなぐ"
   ]
  },
  {
   "cell_type": "code",
   "execution_count": 2,
   "metadata": {},
   "outputs": [],
   "source": [
    "run = AI.AI(0, 0)\n",
    "run.read_goal = [1, 1]\n",
    "play_method = {\"AI\": run.PLAY_WAY[\"AI\"], \"nleast\": run.PLAY_WAY[\"nleast\"]}"
   ]
  },
  {
   "cell_type": "code",
   "execution_count": 3,
   "metadata": {},
   "outputs": [
    {
     "name": "stdout",
     "output_type": "stream",
     "text": [
      "50/50"
     ]
    }
   ],
   "source": [
    "seed(0)\n",
    "\n",
    "generations = 50\n",
    "children = 10\n",
    "ab = [[random(), random()] for i in range(children)]\n",
    "player = list(play_method.values())\n",
    "win_result = []\n",
    "\n",
    "score = {\"AI\": [0] * children, \"nleast\": [0] * children}\n",
    "\n",
    "for g in range(generations):\n",
    "    print(\"\\r%d/%d\" % (g+1, generations), end=\"\")\n",
    "    score = {\"AI\": [0] * children, \"nleast\": [0] * children}\n",
    "    win_num = 0\n",
    "    for c in range(children):\n",
    "        run.A = ab[c][0]\n",
    "        run.B = ab[c][1]\n",
    "\n",
    "        for p in [0, 1]:\n",
    "            run.black_method = player[p]\n",
    "            run.white_method = player[not p]\n",
    "            run.setup()\n",
    "            result = run.play()\n",
    "            if run.black_method == play_method[\"AI\"]:\n",
    "                score[\"AI\"][c]     += result\n",
    "                score[\"nleast\"][c] -= result\n",
    "            else:\n",
    "                score[\"AI\"][c]     -= result\n",
    "                score[\"nleast\"][c] += result\n",
    "            if score[\"AI\"][c] > score[\"nleast\"][c]:\n",
    "                win_num += 1\n",
    "            \n",
    "        if c % 2 == 1:\n",
    "            if random() > 0.03:\n",
    "                if score[\"AI\"][c] > score[\"AI\"][c-1]:\n",
    "                    ab[c-1][0] = ab[c][0] + random() / 5 - 0.1\n",
    "                    ab[c-1][1] = ab[c][1] + random() / 5 - 0.1\n",
    "                else:\n",
    "                    ab[c][0] = ab[c-1][0] + random() / 5 - 0.1\n",
    "                    ab[c][1] = ab[c-1][1] + random() / 5 - 0.1\n",
    "            else:\n",
    "                for i in range(2):\n",
    "                    ab[c-i][0] = random()\n",
    "                    ab[c-i][1] = random()\n",
    "\n",
    "    win_result.append(win_num)"
   ]
  },
  {
   "cell_type": "code",
   "execution_count": 4,
   "metadata": {},
   "outputs": [
    {
     "name": "stdout",
     "output_type": "stream",
     "text": [
      "[0.1968494642692303, 0.2920115201230645]\n",
      "[0.26636557320745735, 0.23529047782429022]\n",
      "[0.5611248560008166, 1.0794628051551478]\n",
      "[0.5522261667279165, 1.1626702364057204]\n",
      "[0.3717229051582698, 0.32279192848978777]\n",
      "[0.4411758976785576, 0.39212233285307596]\n",
      "[0.2757179482011153, 0.6951279547710917]\n",
      "[0.1816633111544517, 0.6212004434604531]\n",
      "[0.49370925535099575, 1.2709043301267027]\n",
      "[0.5524299023585191, 1.2077682787268995]\n"
     ]
    }
   ],
   "source": [
    "for ab_ele in ab:\n",
    "    print(ab_ele)"
   ]
  },
  {
   "cell_type": "code",
   "execution_count": 5,
   "metadata": {},
   "outputs": [
    {
     "name": "stdout",
     "output_type": "stream",
     "text": [
      "0.389298528010733 0.7279350307936234\n"
     ]
    }
   ],
   "source": [
    "ab_arr = np.array(ab)\n",
    "ab_arr = ab_arr.T\n",
    "print(ab_arr[0].mean(), ab_arr[1].mean())"
   ]
  },
  {
   "cell_type": "code",
   "execution_count": 6,
   "metadata": {},
   "outputs": [],
   "source": [
    "fig = plt.figure(figsize=(10, 10))\n",
    "plt.ylabel(\"win num\")\n",
    "plt.xlabel(\"generation\")\n",
    "plt.plot(win_result)\n",
    "plt.grid()\n",
    "plt.savefig(\"fig/03\")\n",
    "plt.clf()\n",
    "plt.close()"
   ]
  },
  {
   "cell_type": "markdown",
   "metadata": {},
   "source": [
    "# 04_トーナメント改良"
   ]
  },
  {
   "cell_type": "code",
   "execution_count": 3,
   "metadata": {},
   "outputs": [],
   "source": [
    "from random import randint"
   ]
  },
  {
   "cell_type": "code",
   "execution_count": 2,
   "metadata": {},
   "outputs": [],
   "source": [
    "run = AI.AI(0, 0)\n",
    "run.read_goal = [1, 1]\n",
    "play_method = {\"AI\": run.PLAY_WAY[\"AI\"], \"nleast\": run.PLAY_WAY[\"nleast\"]}"
   ]
  },
  {
   "cell_type": "code",
   "execution_count": 15,
   "metadata": {},
   "outputs": [],
   "source": [
    "def key_list():\n",
    "    global children\n",
    "    key = [i for i in range(children)]\n",
    "    key_return = []\n",
    "    while key:\n",
    "        num = randint(0, len(key)-1)\n",
    "        key_return.append(key[num])\n",
    "        del key[num]\n",
    "    return key_return"
   ]
  },
  {
   "cell_type": "code",
   "execution_count": 23,
   "metadata": {},
   "outputs": [
    {
     "name": "stdout",
     "output_type": "stream",
     "text": [
      "50/50"
     ]
    }
   ],
   "source": [
    "seed(0)\n",
    "\n",
    "generations = 50\n",
    "children = 10\n",
    "ab = [[random(), random()] for i in range(children)]\n",
    "player = list(play_method.values())\n",
    "win_result = []\n",
    "\n",
    "score = [0] * children\n",
    "\n",
    "for g in range(generations):\n",
    "    print(\"\\r%d/%d\" % (g+1, generations), end=\"\")\n",
    "    score = [0] * children\n",
    "    win_num = 0\n",
    "    for c in range(children):\n",
    "        run.A = ab[c][0]\n",
    "        run.B = ab[c][1]\n",
    "\n",
    "        for p in [0, 1]:\n",
    "            run.black_method = player[p]\n",
    "            run.white_method = player[not p]\n",
    "            run.setup()\n",
    "            result = run.play()\n",
    "            if run.black_method == play_method[\"AI\"]:\n",
    "                score[c] += result\n",
    "                if result > 0:\n",
    "                    win_num += 1\n",
    "            else:\n",
    "                score[c] -= result\n",
    "                if result < 0:\n",
    "                    win_num += 1\n",
    "            \n",
    "    key = key_list()\n",
    "    for i in range(int(len(key) / 2)):\n",
    "        if random() > 0.03:\n",
    "            if score[key[i]] > score[key[(i<<1)+1]]:\n",
    "                ab[key[(i<<1)+1]][0] = ab[key[i<<1]][0] + random() / 5 - 0.1\n",
    "                ab[key[(i<<1)+1]][1] = ab[key[i<<1]][1] + random() / 5 - 0.1\n",
    "            else:\n",
    "                ab[key[i<<1]][0] = ab[key[(i<<1)+1]][0] + random() / 5 - 0.1\n",
    "                ab[key[i<<1]][1] = ab[key[(i<<1)+1]][1] + random() / 5 - 0.1\n",
    "        else:\n",
    "            for j in range(2):\n",
    "                ab[key[i<<1]][j] = random()\n",
    "                ab[key[(i<<1)+1]][j] = random()\n",
    "\n",
    "    win_result.append(win_num)"
   ]
  },
  {
   "cell_type": "code",
   "execution_count": 24,
   "metadata": {},
   "outputs": [
    {
     "name": "stdout",
     "output_type": "stream",
     "text": [
      "[0.7845317965203, 0.7282481006185132]\n",
      "[0.887998591216725, 0.7798613691517554]\n",
      "[0.7539896409299109, 0.5864060138323008]\n",
      "[0.7994245226477315, 0.6976976619352092]\n",
      "[0.8580297286849564, 0.7568389384151408]\n",
      "[0.7436182363961433, 0.64724601430552]\n",
      "[0.15306714563572918, 0.43333188307689097]\n",
      "[0.12307210319871517, 0.5095366112833001]\n",
      "[0.12901552090490803, 0.44081907902404904]\n",
      "[0.0866980084219135, 0.534229302808782]\n"
     ]
    }
   ],
   "source": [
    "for ab_ele in ab:\n",
    "    print(ab_ele)"
   ]
  },
  {
   "cell_type": "code",
   "execution_count": 25,
   "metadata": {},
   "outputs": [
    {
     "name": "stdout",
     "output_type": "stream",
     "text": [
      "0.5319445294557033 0.6114214974451462\n"
     ]
    }
   ],
   "source": [
    "ab_arr = np.array(ab)\n",
    "ab_arr = ab_arr.T\n",
    "print(ab_arr[0].mean(), ab_arr[1].mean())"
   ]
  },
  {
   "cell_type": "code",
   "execution_count": 26,
   "metadata": {},
   "outputs": [],
   "source": [
    "fig = plt.figure(figsize=(10, 10))\n",
    "plt.ylabel(\"win num\")\n",
    "plt.xlabel(\"generation\")\n",
    "plt.plot(win_result)\n",
    "plt.grid()\n",
    "plt.savefig(\"fig/04\")\n",
    "plt.clf()\n",
    "plt.close()"
   ]
  },
  {
   "cell_type": "markdown",
   "metadata": {},
   "source": [
    "# 05_対戦数を増やす"
   ]
  },
  {
   "cell_type": "code",
   "execution_count": 2,
   "metadata": {},
   "outputs": [],
   "source": [
    "run = AI.AI(0, 0)\n",
    "run.read_goal = [1, 1]\n",
    "run.eva = [[1] * 64 for i in range(2)]"
   ]
  },
  {
   "cell_type": "code",
   "execution_count": 3,
   "metadata": {},
   "outputs": [
    {
     "name": "stdout",
     "output_type": "stream",
     "text": [
      "50/50"
     ]
    }
   ],
   "source": [
    "seed(0)\n",
    "\n",
    "generations = 50\n",
    "children = 10\n",
    "ab = [[random(), random()] for i in range(children)]\n",
    "ai = run.PLAY_WAY[\"AI\"]\n",
    "other = [run.PLAY_WAY[\"random\"], run.PLAY_WAY[\"nhand\"], run.PLAY_WAY[\"nmost\"], run.PLAY_WAY[\"nleast\"]]\n",
    "win_result = []\n",
    "\n",
    "score = [0] * children\n",
    "\n",
    "for g in range(generations):\n",
    "    print(\"\\r%d/%d\" % (g+1, generations), end=\"\")\n",
    "    score = [0] * children\n",
    "    win_num = 0\n",
    "    for c in range(children):\n",
    "        run.A = ab[c][0]\n",
    "        run.B = ab[c][1]\n",
    "\n",
    "        for p in [0, 1]:\n",
    "            for o in other:\n",
    "                if p:\n",
    "                    run.black_method = ai\n",
    "                    run.white_method = o\n",
    "                else:\n",
    "                    run.black_method = o\n",
    "                    run.white_method = ai\n",
    "                run.setup()\n",
    "                result = run.play()\n",
    "                if run.black_method == run.PLAY_WAY[\"AI\"]:\n",
    "                    score[c] += result\n",
    "                    if result > 0:\n",
    "                        win_num += 1\n",
    "                else:\n",
    "                    score[c] -= result\n",
    "                    if result < 0:\n",
    "                        win_num += 1\n",
    "            \n",
    "        if c % 2 == 1:\n",
    "            if random() > 0.03:\n",
    "                if score[c] > score[c-1]:\n",
    "                    ab[c-1][0] = ab[c][0] + random() / 5 - 0.1\n",
    "                    ab[c-1][1] = ab[c][1] + random() / 5 - 0.1\n",
    "                else:\n",
    "                    ab[c][0] = ab[c-1][0] + random() / 5 - 0.1\n",
    "                    ab[c][1] = ab[c-1][1] + random() / 5 - 0.1\n",
    "            else:\n",
    "                for i in range(2):\n",
    "                    ab[c-i][0] = random()\n",
    "                    ab[c-i][1] = random()\n",
    "\n",
    "    win_result.append(win_num)"
   ]
  },
  {
   "cell_type": "code",
   "execution_count": 4,
   "metadata": {},
   "outputs": [
    {
     "name": "stdout",
     "output_type": "stream",
     "text": [
      "[1.02724256462233, 0.26337275542624516]\n",
      "[1.009950479397224, 0.2159791032577633]\n",
      "[0.22922242678565338, 0.9734637632138236]\n",
      "[0.13223405592320084, 0.9543661981037578]\n",
      "[-0.06376729223249714, 0.8300427714479159]\n",
      "[-0.15341627116082962, 0.7539450770368438]\n",
      "[0.24111965717074832, 0.5558870178965837]\n",
      "[0.17822858286954305, 0.49821795165496663]\n",
      "[0.02748397669100308, 0.015100622809889594]\n",
      "[-0.06205959166701412, 0.01733021427322594]\n"
     ]
    }
   ],
   "source": [
    "for ab_ele in ab:\n",
    "    print(ab_ele)"
   ]
  },
  {
   "cell_type": "code",
   "execution_count": 5,
   "metadata": {},
   "outputs": [
    {
     "name": "stdout",
     "output_type": "stream",
     "text": [
      "0.25662385883993616 0.5077705475121015\n"
     ]
    }
   ],
   "source": [
    "ab_arr = np.array(ab)\n",
    "ab_arr = ab_arr.T\n",
    "print(ab_arr[0].mean(), ab_arr[1].mean())"
   ]
  },
  {
   "cell_type": "code",
   "execution_count": 6,
   "metadata": {},
   "outputs": [],
   "source": [
    "fig = plt.figure(figsize=(10, 10))\n",
    "plt.ylabel(\"win num\")\n",
    "plt.xlabel(\"generation\")\n",
    "plt.plot(win_result)\n",
    "plt.grid()\n",
    "plt.savefig(\"fig/05\")\n",
    "plt.clf()\n",
    "plt.close()"
   ]
  },
  {
   "cell_type": "markdown",
   "metadata": {},
   "source": [
    "# 06_対戦数を増やし、トーナメント改良"
   ]
  },
  {
   "cell_type": "code",
   "execution_count": 2,
   "metadata": {},
   "outputs": [],
   "source": [
    "from random import randint"
   ]
  },
  {
   "cell_type": "code",
   "execution_count": 3,
   "metadata": {},
   "outputs": [],
   "source": [
    "run = AI.AI(0, 0)\n",
    "run.read_goal = [1, 1]\n",
    "run.eva = [[1] * 64 for i in range(2)]"
   ]
  },
  {
   "cell_type": "code",
   "execution_count": 4,
   "metadata": {},
   "outputs": [],
   "source": [
    "def key_list():\n",
    "    global children\n",
    "    key = [i for i in range(children)]\n",
    "    key_return = []\n",
    "    while key:\n",
    "        num = randint(0, len(key)-1)\n",
    "        key_return.append(key[num])\n",
    "        del key[num]\n",
    "    return key_return"
   ]
  },
  {
   "cell_type": "code",
   "execution_count": 5,
   "metadata": {},
   "outputs": [
    {
     "name": "stdout",
     "output_type": "stream",
     "text": [
      "50/50"
     ]
    }
   ],
   "source": [
    "seed(0)\n",
    "\n",
    "generations = 50\n",
    "children = 10\n",
    "ab = [[random(), random()] for i in range(children)]\n",
    "ai = run.PLAY_WAY[\"AI\"]\n",
    "other = [run.PLAY_WAY[\"random\"], run.PLAY_WAY[\"nhand\"], run.PLAY_WAY[\"nmost\"], run.PLAY_WAY[\"nleast\"]]\n",
    "win_result = []\n",
    "\n",
    "score = [0] * children\n",
    "\n",
    "for g in range(generations):\n",
    "    print(\"\\r%d/%d\" % (g+1, generations), end=\"\")\n",
    "    score = [0] * children\n",
    "    win_num = 0\n",
    "    for c in range(children):\n",
    "        run.A = ab[c][0]\n",
    "        run.B = ab[c][1]\n",
    "\n",
    "        for p in [0, 1]:\n",
    "            for o in other:\n",
    "                if p:\n",
    "                    run.black_method = ai\n",
    "                    run.white_method = o\n",
    "                else:\n",
    "                    run.black_method = o\n",
    "                    run.white_method = ai\n",
    "                run.setup()\n",
    "                result = run.play()\n",
    "                if run.black_method == run.PLAY_WAY[\"AI\"]:\n",
    "                    score[c] += result\n",
    "                    if result > 0:\n",
    "                        win_num += 1\n",
    "                else:\n",
    "                    score[c] -= result\n",
    "                    if result < 0:\n",
    "                        win_num += 1\n",
    "            \n",
    "    key = key_list()\n",
    "    for i in range(int(len(key) / 2)):\n",
    "        if random() > 0.03:\n",
    "            if score[key[i]] > score[key[(i<<1)+1]]:\n",
    "                ab[key[(i<<1)+1]][0] = ab[key[i<<1]][0] + random() / 5 - 0.1\n",
    "                ab[key[(i<<1)+1]][1] = ab[key[i<<1]][1] + random() / 5 - 0.1\n",
    "            else:\n",
    "                ab[key[i<<1]][0] = ab[key[(i<<1)+1]][0] + random() / 5 - 0.1\n",
    "                ab[key[i<<1]][1] = ab[key[(i<<1)+1]][1] + random() / 5 - 0.1\n",
    "        else:\n",
    "            for j in range(2):\n",
    "                ab[key[i<<1]][j] = random()\n",
    "                ab[key[(i<<1)+1]][j] = random()\n",
    "\n",
    "    win_result.append(win_num)"
   ]
  },
  {
   "cell_type": "code",
   "execution_count": 6,
   "metadata": {},
   "outputs": [
    {
     "name": "stdout",
     "output_type": "stream",
     "text": [
      "[0.20405658462660622, 0.1680605186286642]\n",
      "[0.5067586035335895, 0.2257166330359812]\n",
      "[0.506989666989787, 0.39973170956614057]\n",
      "[0.14497172001539446, 0.1968499870887512]\n",
      "[0.43622213588550574, 0.2515135205850171]\n",
      "[0.05490792986502008, 0.32594965169802903]\n",
      "[0.17250523018856503, 0.34862524795583516]\n",
      "[0.10559360468888276, 0.2670811780558886]\n",
      "[0.10494083678931704, 0.2684445529286096]\n",
      "[0.4517255898186786, 0.3276437286310824]\n"
     ]
    }
   ],
   "source": [
    "for ab_ele in ab:\n",
    "    print(ab_ele)"
   ]
  },
  {
   "cell_type": "code",
   "execution_count": 7,
   "metadata": {},
   "outputs": [
    {
     "name": "stdout",
     "output_type": "stream",
     "text": [
      "0.2688671902401346 0.2779616728173999\n"
     ]
    }
   ],
   "source": [
    "ab_arr = np.array(ab)\n",
    "ab_arr = ab_arr.T\n",
    "print(ab_arr[0].mean(), ab_arr[1].mean())"
   ]
  },
  {
   "cell_type": "code",
   "execution_count": 8,
   "metadata": {},
   "outputs": [],
   "source": [
    "fig = plt.figure(figsize=(10, 10))\n",
    "plt.ylabel(\"win num\")\n",
    "plt.xlabel(\"generation\")\n",
    "plt.plot(win_result)\n",
    "plt.grid()\n",
    "plt.savefig(\"fig/06\")\n",
    "plt.clf()\n",
    "plt.close()"
   ]
  },
  {
   "cell_type": "markdown",
   "metadata": {},
   "source": [
    "# 07_対戦数を増やし、トーナメント改良し、世代数を増やす"
   ]
  },
  {
   "cell_type": "code",
   "execution_count": 2,
   "metadata": {},
   "outputs": [],
   "source": [
    "from random import randint"
   ]
  },
  {
   "cell_type": "code",
   "execution_count": 3,
   "metadata": {},
   "outputs": [],
   "source": [
    "run = AI.AI(0, 0)\n",
    "run.read_goal = [1, 1]\n",
    "run.eva = [[1] * 64 for i in range(2)]"
   ]
  },
  {
   "cell_type": "code",
   "execution_count": 4,
   "metadata": {},
   "outputs": [],
   "source": [
    "def key_list():\n",
    "    global children\n",
    "    key = [i for i in range(children)]\n",
    "    key_return = []\n",
    "    while key:\n",
    "        num = randint(0, len(key)-1)\n",
    "        key_return.append(key[num])\n",
    "        del key[num]\n",
    "    return key_return"
   ]
  },
  {
   "cell_type": "code",
   "execution_count": 5,
   "metadata": {},
   "outputs": [
    {
     "name": "stdout",
     "output_type": "stream",
     "text": [
      "100/100"
     ]
    }
   ],
   "source": [
    "seed(0)\n",
    "\n",
    "generations = 100\n",
    "children = 10\n",
    "ab = [[random(), random()] for i in range(children)]\n",
    "ai = run.PLAY_WAY[\"AI\"]\n",
    "other = [run.PLAY_WAY[\"random\"], run.PLAY_WAY[\"nhand\"], run.PLAY_WAY[\"nmost\"], run.PLAY_WAY[\"nleast\"]]\n",
    "win_result = []\n",
    "\n",
    "score = [0] * children\n",
    "\n",
    "for g in range(generations):\n",
    "    print(\"\\r%d/%d\" % (g+1, generations), end=\"\")\n",
    "    score = [0] * children\n",
    "    win_num = 0\n",
    "    for c in range(children):\n",
    "        run.A = ab[c][0]\n",
    "        run.B = ab[c][1]\n",
    "\n",
    "        for p in [0, 1]:\n",
    "            for o in other:\n",
    "                if p:\n",
    "                    run.black_method = ai\n",
    "                    run.white_method = o\n",
    "                else:\n",
    "                    run.black_method = o\n",
    "                    run.white_method = ai\n",
    "                run.setup()\n",
    "                result = run.play()\n",
    "                if run.black_method == run.PLAY_WAY[\"AI\"]:\n",
    "                    score[c] += result\n",
    "                    if result > 0:\n",
    "                        win_num += 1\n",
    "                else:\n",
    "                    score[c] -= result\n",
    "                    if result < 0:\n",
    "                        win_num += 1\n",
    "            \n",
    "    key = key_list()\n",
    "    for i in range(int(len(key) / 2)):\n",
    "        if random() > 0.03:\n",
    "            if score[key[i]] > score[key[(i<<1)+1]]:\n",
    "                ab[key[(i<<1)+1]][0] = ab[key[i<<1]][0] + random() / 5 - 0.1\n",
    "                ab[key[(i<<1)+1]][1] = ab[key[i<<1]][1] + random() / 5 - 0.1\n",
    "            else:\n",
    "                ab[key[i<<1]][0] = ab[key[(i<<1)+1]][0] + random() / 5 - 0.1\n",
    "                ab[key[i<<1]][1] = ab[key[(i<<1)+1]][1] + random() / 5 - 0.1\n",
    "        else:\n",
    "            for j in range(2):\n",
    "                ab[key[i<<1]][j] = random()\n",
    "                ab[key[(i<<1)+1]][j] = random()\n",
    "\n",
    "    win_result.append(win_num)"
   ]
  },
  {
   "cell_type": "code",
   "execution_count": 6,
   "metadata": {},
   "outputs": [
    {
     "name": "stdout",
     "output_type": "stream",
     "text": [
      "[0.33151187738915355, 0.06057437681006733]\n",
      "[0.3678616364493409, 0.12723243895942166]\n",
      "[0.5198915583730699, 0.04268710109725918]\n",
      "[0.44061206459599045, 0.051610048696537625]\n",
      "[0.46808837087950583, 0.7329708184903793]\n",
      "[0.5073052040093725, 0.1718749134495976]\n",
      "[0.3635208255702669, 0.08699886357653655]\n",
      "[0.40261513162926466, 0.04176901447947265]\n",
      "[0.2642246747320115, 0.23195360857080813]\n",
      "[0.1696507008061556, 0.1759563678482843]\n"
     ]
    }
   ],
   "source": [
    "for ab_ele in ab:\n",
    "    print(ab_ele)"
   ]
  },
  {
   "cell_type": "code",
   "execution_count": 7,
   "metadata": {},
   "outputs": [
    {
     "name": "stdout",
     "output_type": "stream",
     "text": [
      "0.38352820444341323 0.17236275519783642\n"
     ]
    }
   ],
   "source": [
    "ab_arr = np.array(ab)\n",
    "ab_arr = ab_arr.T\n",
    "print(ab_arr[0].mean(), ab_arr[1].mean())"
   ]
  },
  {
   "cell_type": "code",
   "execution_count": 8,
   "metadata": {},
   "outputs": [],
   "source": [
    "fig = plt.figure(figsize=(10, 10))\n",
    "plt.ylabel(\"win num\")\n",
    "plt.xlabel(\"generation\")\n",
    "plt.plot(win_result)\n",
    "plt.grid()\n",
    "plt.savefig(\"fig/07\")\n",
    "plt.clf()\n",
    "plt.close()"
   ]
  },
  {
   "cell_type": "code",
   "execution_count": null,
   "metadata": {},
   "outputs": [],
   "source": []
  }
 ],
 "metadata": {
  "interpreter": {
   "hash": "400b3448902b2aa85e7a3848e7bd72dda1a711f8af9f184efc41490bde870126"
  },
  "kernelspec": {
   "display_name": "Python 3.7.9 32-bit",
   "language": "python",
   "name": "python3"
  },
  "language_info": {
   "codemirror_mode": {
    "name": "ipython",
    "version": 3
   },
   "file_extension": ".py",
   "mimetype": "text/x-python",
   "name": "python",
   "nbconvert_exporter": "python",
   "pygments_lexer": "ipython3",
   "version": "3.7.9"
  },
  "orig_nbformat": 4
 },
 "nbformat": 4,
 "nbformat_minor": 2
}
