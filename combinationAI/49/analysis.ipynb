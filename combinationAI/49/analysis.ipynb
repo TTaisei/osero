{
 "cells": [
  {
   "cell_type": "code",
   "execution_count": 1,
   "metadata": {},
   "outputs": [],
   "source": [
    "import pandas as pd\n",
    "import matplotlib.pyplot as plt\n",
    "import seaborn as sns\n",
    "\n",
    "sns.set()"
   ]
  },
  {
   "cell_type": "code",
   "execution_count": 12,
   "metadata": {},
   "outputs": [],
   "source": [
    "def bar(x, y, xlabel, ylabel, fig_name, dir_name):\n",
    "    fig, ax = plt.subplots(figsize=(8, 8))\n",
    "    rect = plt.bar(x, y, color=\"g\")\n",
    "    rect[[num for num, y_ele in enumerate(y) if max(y) == y_ele][0]].set_color(\"r\")\n",
    "    rect[[num for num, y_ele in enumerate(y) if min(y) == y_ele][0]].set_color(\"b\")\n",
    "    plt.xlabel(xlabel)\n",
    "    plt.ylabel(ylabel)\n",
    "    plt.title(fig_name)\n",
    "    plt.savefig(dir_name + \"/\" + fig_name + \".png\")\n",
    "    plt.clf()\n",
    "    plt.close()"
   ]
  },
  {
   "cell_type": "code",
   "execution_count": 25,
   "metadata": {},
   "outputs": [],
   "source": [
    "def bar_rotate(x, y, xlabel, ylabel, fig_name, dir_name):\n",
    "    fig, ax = plt.subplots(figsize=(8, 8))\n",
    "    plt.xticks(rotation=30)\n",
    "    rect = plt.bar(x, y, color=\"g\")\n",
    "    rect[[num for num, y_ele in enumerate(y) if max(y) == y_ele][0]].set_color(\"r\")\n",
    "    rect[[num for num, y_ele in enumerate(y) if min(y) == y_ele][0]].set_color(\"b\")\n",
    "    plt.xlabel(xlabel)\n",
    "    plt.ylabel(ylabel)\n",
    "    plt.title(fig_name)\n",
    "    plt.savefig(dir_name + \"/\" + fig_name + \".png\")\n",
    "    plt.clf()\n",
    "    plt.close()"
   ]
  },
  {
   "cell_type": "code",
   "execution_count": 5,
   "metadata": {},
   "outputs": [],
   "source": [
    "df = pd.read_csv(\"data.csv\")\n",
    "methods_name = df[\"black_method\"].unique()"
   ]
  },
  {
   "cell_type": "code",
   "execution_count": 13,
   "metadata": {},
   "outputs": [],
   "source": [
    "# 勝ち星の数\n",
    "\n",
    "y = []\n",
    "\n",
    "for method in methods_name:\n",
    "    num = 0\n",
    "    num += len(df.query(\"black_method=='%s'\" % method).query(\"black_score>white_score\"))\n",
    "    num += len(df.query(\"white_method=='%s'\" % method).query(\"white_score>black_score\"))\n",
    "    y.append(num)\n",
    "\n",
    "bar(methods_name, y, \"method name\", \"win num\", \"win num each method name\", \"fig\")"
   ]
  },
  {
   "cell_type": "code",
   "execution_count": 14,
   "metadata": {},
   "outputs": [],
   "source": [
    "# 負け星の数\n",
    "\n",
    "y = []\n",
    "\n",
    "for method in methods_name:\n",
    "    num = 0\n",
    "    num += len(df.query(\"black_method=='%s'\" % method).query(\"black_score<white_score\"))\n",
    "    num += len(df.query(\"white_method=='%s'\" % method).query(\"white_score<black_score\"))\n",
    "    y.append(num)\n",
    "\n",
    "bar(methods_name, y, \"method name\", \"lose num\", \"lose num each method name\", \"fig\")"
   ]
  },
  {
   "cell_type": "code",
   "execution_count": 15,
   "metadata": {},
   "outputs": [],
   "source": [
    "# 獲得石数\n",
    "\n",
    "y = []\n",
    "\n",
    "for method in methods_name:\n",
    "    num = 0\n",
    "    num += df.query(\"black_method=='%s'\" % method)[\"black_score\"].sum()\n",
    "    num += df.query(\"white_method=='%s'\" % method)[\"white_score\"].sum()\n",
    "    y.append(num)\n",
    "\n",
    "bar(methods_name, y, \"method name\", \"score num\", \"score num each method name\", \"fig\")"
   ]
  },
  {
   "cell_type": "code",
   "execution_count": 17,
   "metadata": {},
   "outputs": [],
   "source": [
    "x = [1, 2]\n",
    "y = []\n",
    "\n",
    "for i in x:\n",
    "    num = 0\n",
    "    num += len(df.query(\"black_read_goal==%d\" % i).query(\"black_score>white_score\"))\n",
    "    num += len(df.query(\"white_read_goal==%d\" % i).query(\"white_score>black_score\"))\n",
    "    y.append(num)\n",
    "\n",
    "bar(x, y, \"read goal\", \"win num\", \"win num each read goal\", \"fig\")"
   ]
  },
  {
   "cell_type": "code",
   "execution_count": 26,
   "metadata": {},
   "outputs": [],
   "source": [
    "x_num = [1, 2]\n",
    "x = []\n",
    "y = []\n",
    "\n",
    "for method in methods_name:\n",
    "    for i in x_num:\n",
    "        num = 0\n",
    "        num += len(df.query(\"black_method=='%s'\" % method)\\\n",
    "            .query(\"black_read_goal==%d\" % i).query(\"black_score>white_score\"))\n",
    "        num += len(df.query(\"white_method=='%s'\" % method)\\\n",
    "            .query(\"white_read_goal==%d\" % i).query(\"white_score>black_score\"))\n",
    "        x.append(method + str(i))\n",
    "        y.append(num)\n",
    "\n",
    "bar_rotate(x, y, \"method name\", \"win num\", \"win num each method name and read goal\", \"fig\")"
   ]
  },
  {
   "cell_type": "code",
   "execution_count": 27,
   "metadata": {},
   "outputs": [],
   "source": [
    "x = df[\"seed\"].unique()\n",
    "y = []\n",
    "\n",
    "for i in x:\n",
    "    num = 0\n",
    "    num += len(df.query(\"seed==%d\" % i).query(\"black_score>white_score\"))\n",
    "    num -= len(df.query(\"seed==%d\" % i).query(\"white_score>black_score\"))\n",
    "\n",
    "    y.append(num)\n",
    "\n",
    "bar(x, y, \"seed\", \"fairness\", \"seed fairness\", \"fig\")"
   ]
  },
  {
   "cell_type": "code",
   "execution_count": 33,
   "metadata": {},
   "outputs": [
    {
     "name": "stdout",
     "output_type": "stream",
     "text": [
      "最小値\t-32\n",
      "中央値\t3\n",
      "最大値\t42\n",
      "平均\t4.090000\n",
      "分散\t227.161900\n",
      "標準偏差\t15.071891\n"
     ]
    }
   ],
   "source": [
    "import numpy as np\n",
    "\n",
    "np_y = np.array(y)\n",
    "\n",
    "print(\"最小値\\t%d\" % np_y.min())\n",
    "print(\"中央値\\t%d\" % np.median(np_y))\n",
    "print(\"最大値\\t%d\" % np_y.max())\n",
    "print(\"平均\\t%f\" % np_y.mean())\n",
    "print(\"分散\\t%f\" % np_y.var())\n",
    "print(\"標準偏差\\t%f\" % np_y.std())"
   ]
  },
  {
   "cell_type": "code",
   "execution_count": null,
   "metadata": {},
   "outputs": [],
   "source": []
  }
 ],
 "metadata": {
  "interpreter": {
   "hash": "12552201127b6d7132138267463a095a360d5865cd1cbe2c422bb6479a9d9be4"
  },
  "kernelspec": {
   "display_name": "Python 3.10.2 64-bit",
   "language": "python",
   "name": "python3"
  },
  "language_info": {
   "codemirror_mode": {
    "name": "ipython",
    "version": 3
   },
   "file_extension": ".py",
   "mimetype": "text/x-python",
   "name": "python",
   "nbconvert_exporter": "python",
   "pygments_lexer": "ipython3",
   "version": "3.10.2"
  },
  "orig_nbformat": 4
 },
 "nbformat": 4,
 "nbformat_minor": 2
}
