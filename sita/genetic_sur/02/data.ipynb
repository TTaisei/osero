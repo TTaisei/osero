{
 "cells": [
  {
   "cell_type": "code",
   "execution_count": 17,
   "metadata": {},
   "outputs": [],
   "source": [
    "import pandas as pd\n",
    "import numpy as np\n",
    "import matplotlib.pyplot as plt\n",
    "\n",
    "df = pd.read_csv(\"data.csv\")\n",
    "\n",
    "name = []\n",
    "with open(\"name_file.txt\", \"r\") as name_file:\n",
    "    for i in name_file:\n",
    "        name.append(i.rstrip(\"\\n\"))"
   ]
  },
  {
   "cell_type": "code",
   "execution_count": 18,
   "metadata": {},
   "outputs": [],
   "source": [
    "def bar(save_dir, xlabel, ylabel, fig_name):\n",
    "    global x, y\n",
    "    fig = plt.figure(figsize=(10, 10))\n",
    "    plt.bar(x, y)\n",
    "    plt.xticks(rotation=15)\n",
    "    plt.xlabel(xlabel)\n",
    "    plt.ylabel(ylabel)\n",
    "    plt.title(fig_name)\n",
    "    plt.savefig(save_dir % fig_name)\n",
    "    plt.clf()\n",
    "    plt.close()"
   ]
  },
  {
   "cell_type": "code",
   "execution_count": 19,
   "metadata": {},
   "outputs": [],
   "source": [
    "x = name\n",
    "y = []\n",
    "\n",
    "for i in name:\n",
    "    df_ele = df.query(\"black == '%s'\" % i)\n",
    "    y.append(df_ele[\"black_score\"].mean() - df_ele[\"white_score\"].mean())\n",
    "\n",
    "\n",
    "bar(\"fig/%s\", \"eva\", \"score average\", \"each eva's score average (black)\")"
   ]
  },
  {
   "cell_type": "code",
   "execution_count": 20,
   "metadata": {},
   "outputs": [],
   "source": [
    "x = name\n",
    "y = []\n",
    "\n",
    "for i in name:\n",
    "    df_ele = df.query(\"white == '%s'\" % i)\n",
    "    y.append(df_ele[\"white_score\"].mean() - df_ele[\"black_score\"].mean())\n",
    "\n",
    "bar(\"fig/%s\", \"eva\", \"score average\", \"each eva's score average (white)\")"
   ]
  },
  {
   "cell_type": "code",
   "execution_count": 27,
   "metadata": {},
   "outputs": [],
   "source": [
    "x = df[\"srand_num\"].unique()\n",
    "y = []\n",
    "\n",
    "for i in x:\n",
    "    df_ele = df.query(\"srand_num == %d\" % i)\n",
    "    y.append(df_ele[\"black_score\"].mean() - df_ele[\"white_score\"].mean())\n",
    "\n",
    "x_save = x\n",
    "y_save = y\n",
    "\n",
    "x = [i for i in x_save if i <= 100]\n",
    "y = y_save[:len(x)]\n",
    "bar(\"fig/%s\", \"srand_num\", \"score average\", \"each srand_nums score average (81~100)\")\n",
    "\n",
    "x = [i for i in x_save if i > 100]\n",
    "y = y_save[len(x_save) - len(x):]\n",
    "bar(\"fig/%s\", \"srand_num\", \"score average\", \"each srand_nums score average (616~635)\")"
   ]
  },
  {
   "cell_type": "code",
   "execution_count": null,
   "metadata": {},
   "outputs": [],
   "source": []
  }
 ],
 "metadata": {
  "interpreter": {
   "hash": "400b3448902b2aa85e7a3848e7bd72dda1a711f8af9f184efc41490bde870126"
  },
  "kernelspec": {
   "display_name": "Python 3.7.9 32-bit ('Thonny')",
   "name": "python3"
  },
  "language_info": {
   "codemirror_mode": {
    "name": "ipython",
    "version": 3
   },
   "file_extension": ".py",
   "mimetype": "text/x-python",
   "name": "python",
   "nbconvert_exporter": "python",
   "pygments_lexer": "ipython3",
   "version": "3.7.9"
  },
  "orig_nbformat": 4
 },
 "nbformat": 4,
 "nbformat_minor": 2
}
