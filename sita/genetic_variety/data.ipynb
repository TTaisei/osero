{
 "cells": [
  {
   "cell_type": "code",
   "execution_count": 20,
   "metadata": {},
   "outputs": [],
   "source": [
    "import pandas as pd\n",
    "import matplotlib.pyplot as plt\n",
    "\n",
    "df = pd.read_csv(\"data.csv\")\n",
    "df_eva = pd.read_csv(\"eva.csv\")\n",
    "\n",
    "generation = 1000\n",
    "child = 32\n",
    "board_size = 64\n",
    "player = df[\"player\"].nunique()\n",
    "player_arr = [\n",
    "    \"random\",\n",
    "    \"one_hand\",\n",
    "    \"two_hand\",\n",
    "    \"one_least\",\n",
    "    \"one_most\"\n",
    "]"
   ]
  },
  {
   "cell_type": "code",
   "execution_count": 14,
   "metadata": {},
   "outputs": [],
   "source": [
    "def plot(fig_name, xlabel, ylabel, directory):\n",
    "    global x, y\n",
    "    fig = plt.figure(figsize=(10, 10))\n",
    "    plt.plot(x, y)\n",
    "    plt.xlabel(xlabel)\n",
    "    plt.ylabel(ylabel)\n",
    "    plt.title(fig_name)\n",
    "    plt.savefig(directory + fig_name)\n",
    "    plt.clf()\n",
    "    plt.close()"
   ]
  },
  {
   "cell_type": "markdown",
   "metadata": {},
   "source": [
    "win_per in generation"
   ]
  },
  {
   "cell_type": "code",
   "execution_count": 15,
   "metadata": {},
   "outputs": [],
   "source": [
    "x = [i for i in range(generation)]\n",
    "y = df[\"win_per\"] / child * 100\n",
    "\n",
    "title = \"win rate in generation\"\n",
    "\n",
    "plot(title, \"generation\", \"win rate [%]\", \"fig/\")"
   ]
  },
  {
   "cell_type": "code",
   "execution_count": 17,
   "metadata": {},
   "outputs": [
    {
     "name": "stdout",
     "output_type": "stream",
     "text": [
      "random data\n",
      "num: 82\n",
      "\n",
      "one_hand data\n",
      "num: 216\n",
      "\n",
      "two_hand data\n",
      "num: 210\n",
      "\n",
      "one_least data\n",
      "num: 240\n",
      "\n",
      "one_most data\n",
      "num: 252\n",
      "\n"
     ]
    }
   ],
   "source": [
    "for i in range(player):\n",
    "    df_ele = df.query(\"player == %d\" % i)\n",
    "    print(\"%s data\" % player_arr[i])\n",
    "    print(\"num: %d\" % len(df_ele), end=\"\\n\\n\")\n",
    "\n",
    "    title = \"win rate in generation and %s\" % player_arr[i]\n",
    "    x = df_ele[\"generation\"]\n",
    "    y = df_ele[\"win_per\"]\n",
    "    plot(title, \"generation\", \"win rate [%]\", \"fig/\")\n"
   ]
  },
  {
   "cell_type": "code",
   "execution_count": 18,
   "metadata": {},
   "outputs": [],
   "source": [
    "y = []\n",
    "\n",
    "for i in range(player):\n",
    "    df_ele = df.query(\"player == %d\" % i)\n",
    "    y.append(df_ele[\"win_per\"].mean() / child * 100)\n",
    "\n",
    "title = \"win rate in player\"\n",
    "x = player_arr\n",
    "fig = plt.figure(figsize=(10, 10))\n",
    "plt.bar(x, y)\n",
    "plt.xlabel(\"player\")\n",
    "plt.ylabel(\"win rate [%]\")\n",
    "plt.title(title)\n",
    "plt.savefig(\"fig/%s\" % title)\n",
    "plt.clf()\n",
    "plt.close()"
   ]
  },
  {
   "cell_type": "code",
   "execution_count": 22,
   "metadata": {},
   "outputs": [],
   "source": [
    "eva_mean = open(\"eva_mean.csv\", \"w\")\n",
    "\n",
    "for i in range(board_size):\n",
    "    eva_mean.write(str(df_eva[str(i)].mean()))\n",
    "    if (i % 8 == 7):\n",
    "        eva_mean.write(\"\\n\")\n",
    "    else:\n",
    "        eva_mean.write(\",\")\n",
    "\n",
    "eva_mean.close()"
   ]
  },
  {
   "cell_type": "code",
   "execution_count": null,
   "metadata": {},
   "outputs": [],
   "source": []
  }
 ],
 "metadata": {
  "interpreter": {
   "hash": "400b3448902b2aa85e7a3848e7bd72dda1a711f8af9f184efc41490bde870126"
  },
  "kernelspec": {
   "display_name": "Python 3.7.9 32-bit ('Thonny')",
   "name": "python3"
  },
  "language_info": {
   "codemirror_mode": {
    "name": "ipython",
    "version": 3
   },
   "file_extension": ".py",
   "mimetype": "text/x-python",
   "name": "python",
   "nbconvert_exporter": "python",
   "pygments_lexer": "ipython3",
   "version": "3.7.9"
  },
  "orig_nbformat": 4
 },
 "nbformat": 4,
 "nbformat_minor": 2
}
