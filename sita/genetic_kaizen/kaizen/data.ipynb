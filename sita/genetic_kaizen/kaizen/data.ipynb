{
 "cells": [
  {
   "cell_type": "code",
   "execution_count": 1,
   "metadata": {},
   "outputs": [],
   "source": [
    "import pandas as pd\n",
    "import matplotlib.pyplot as plt\n",
    "\n",
    "df = pd.read_csv(\"data.csv\")\n",
    "generation = df[\"generation\"].nunique()\n",
    "game_num = 32\n",
    "dir_name = \"fig/%s\""
   ]
  },
  {
   "cell_type": "code",
   "execution_count": 5,
   "metadata": {},
   "outputs": [],
   "source": [
    "def bar(directory, fig_name, xlabel):\n",
    "    global x, y, game_num\n",
    "    fig = plt.figure(figsize=(10, 10))\n",
    "    plt.bar(x, y)\n",
    "    plt.title(fig_name)\n",
    "    plt.xlabel(xlabel)\n",
    "    plt.ylabel(\"win count (max: %d)\" % game_num)\n",
    "    plt.savefig(directory + fig_name)\n",
    "    plt.clf()\n",
    "    plt.close()\n",
    "\n",
    "def plot(directory, fig_name):\n",
    "    global x, y, game_num\n",
    "    fig = plt.figure(figsize=(10, 10))\n",
    "    plt.plot(x, y)\n",
    "    plt.title(fig_name)\n",
    "    plt.xlabel(\"generation\")\n",
    "    plt.ylabel(\"win count (max: %d)\" % game_num)\n",
    "    plt.savefig(directory + fig_name)\n",
    "    plt.clf()\n",
    "    plt.close()"
   ]
  },
  {
   "cell_type": "markdown",
   "metadata": {},
   "source": [
    "sele method"
   ]
  },
  {
   "cell_type": "code",
   "execution_count": 3,
   "metadata": {},
   "outputs": [],
   "source": [
    "fig_name = \"win count per select method\"\n",
    "\n",
    "num = df[\"select_method\"].nunique()\n",
    "\n",
    "x = [\"all\", \"ranking\", \"tournament\", \"roulette\"]\n",
    "y = []\n",
    "\n",
    "for i in range(num):\n",
    "    df_ele = df[df.select_method == i]\n",
    "    y.append(df_ele[\"win_per\"].mean())\n",
    "\n",
    "bar(dir_name % \"sele_method/\", fig_name, \"select method\")"
   ]
  },
  {
   "cell_type": "code",
   "execution_count": 4,
   "metadata": {},
   "outputs": [],
   "source": [
    "fig_name = \"win count per generation in %s\"\n",
    "\n",
    "sele_name = x\n",
    "x = [i for i in range(generation)]\n",
    "\n",
    "for i in range(num):\n",
    "    df_ele = df[df.select_method == i]\n",
    "    y = []\n",
    "    for j in range(generation):\n",
    "        df_per_gene = df_ele[df_ele.generation == j]\n",
    "        y.append(df_per_gene[\"win_per\"].mean())\n",
    "    plot(dir_name % \"sele_method/\", fig_name % sele_name[i])"
   ]
  },
  {
   "cell_type": "markdown",
   "metadata": {},
   "source": [
    "evol method"
   ]
  },
  {
   "cell_type": "code",
   "execution_count": 5,
   "metadata": {},
   "outputs": [],
   "source": [
    "fig_name = \"win count per evolution method\"\n",
    "\n",
    "num = df[\"evolution_method\"].nunique()\n",
    "\n",
    "x = [\"random\", \"one_crossing\", \"two_crossing\", \"mask\"]\n",
    "y = []\n",
    "\n",
    "for i in range(num):\n",
    "    df_ele = df[df.evolution_method == i]\n",
    "    y.append(df_ele[\"win_per\"].mean())\n",
    "\n",
    "bar(dir_name % \"evol_method/\", fig_name, \"evolution method\")"
   ]
  },
  {
   "cell_type": "code",
   "execution_count": 6,
   "metadata": {},
   "outputs": [],
   "source": [
    "fig_name = \"win count per generation in %s\"\n",
    "\n",
    "evol_name = x\n",
    "x = [i for i in range(generation)]\n",
    "\n",
    "for i in range(num):\n",
    "    df_ele = df[df.evolution_method == i]\n",
    "    y = []\n",
    "    for j in range(generation):\n",
    "        df_per_gene = df_ele[df_ele.generation == j]\n",
    "        y.append(df_per_gene[\"win_per\"].mean())\n",
    "    plot(dir_name % \"evol_method/\", fig_name % evol_name[i])"
   ]
  },
  {
   "cell_type": "markdown",
   "metadata": {},
   "source": [
    "computer"
   ]
  },
  {
   "cell_type": "code",
   "execution_count": 7,
   "metadata": {},
   "outputs": [],
   "source": [
    "fig_name = \"win count per computer\"\n",
    "\n",
    "computer = df[\"computer\"].unique()\n",
    "x = [\"one hand\", \"two hand\"]\n",
    "y = []\n",
    "\n",
    "for i in computer:\n",
    "    df_ele = df[df.computer == i]\n",
    "    y.append(df_ele[\"win_per\"].mean())\n",
    "\n",
    "bar(dir_name % \"computer/\", fig_name, \"computer\")"
   ]
  },
  {
   "cell_type": "code",
   "execution_count": 8,
   "metadata": {},
   "outputs": [],
   "source": [
    "fig_name = \"win count per generation in %s\"\n",
    "\n",
    "computer_name = x\n",
    "x = [i for i in range(generation)]\n",
    "\n",
    "for i in computer:\n",
    "    df_ele = df[df.computer == i]\n",
    "    y = []\n",
    "    for j in range(generation):\n",
    "        df_per_gene = df_ele[df_ele.generation == j]\n",
    "        y.append(df_per_gene[\"win_per\"].mean())\n",
    "    plot(dir_name % \"computer/\", fig_name % computer_name[i - 1])"
   ]
  },
  {
   "cell_type": "markdown",
   "metadata": {},
   "source": [
    "player"
   ]
  },
  {
   "cell_type": "code",
   "execution_count": 9,
   "metadata": {},
   "outputs": [],
   "source": [
    "fig_name = \"win count per player\"\n",
    "\n",
    "player = df[\"player\"].unique()\n",
    "x = [\"random\", \"p one hand\", \"p two hand\", \"my one hand\", \"my two hand\"]\n",
    "y = []\n",
    "\n",
    "for i in player:\n",
    "    df_ele = df[df.player == i]\n",
    "    y.append(df_ele[\"win_per\"].mean())\n",
    "\n",
    "bar(dir_name % \"player/\", fig_name, \"player\")"
   ]
  },
  {
   "cell_type": "code",
   "execution_count": 10,
   "metadata": {},
   "outputs": [],
   "source": [
    "fig_name = \"win count per generation in %s\"\n",
    "\n",
    "player_name = x\n",
    "x = [i for i in range(generation)]\n",
    "\n",
    "for i in player:\n",
    "    df_ele = df[df.player == i]\n",
    "    y = []\n",
    "    for j in range(generation):\n",
    "        df_per_gene = df_ele[df_ele.generation == j]\n",
    "        y.append(df_per_gene[\"win_per\"].mean())\n",
    "    plot(dir_name % \"player/\", fig_name % player_name[i])"
   ]
  },
  {
   "cell_type": "markdown",
   "metadata": {},
   "source": [
    "mutation"
   ]
  },
  {
   "cell_type": "code",
   "execution_count": 5,
   "metadata": {},
   "outputs": [],
   "source": [
    "fig_name = \"win count per mutaiton\"\n",
    "\n",
    "mutation = df[\"per_mutation\"].unique()\n",
    "x = mutation\n",
    "y = []\n",
    "\n",
    "for i in mutation:\n",
    "    df_ele = df[df.per_mutation == i]\n",
    "    y.append(df_ele[\"win_per\"].mean())\n",
    "\n",
    "bar(dir_name % \"mutation/\", fig_name, \"mutation\")"
   ]
  },
  {
   "cell_type": "code",
   "execution_count": 13,
   "metadata": {},
   "outputs": [],
   "source": [
    "fig_name = \"win count per generation in %2d\"\n",
    "\n",
    "x = [i for i in range(generation)]\n",
    "\n",
    "for i in mutation:\n",
    "    df_ele = df[df.per_mutation == i]\n",
    "    y = []\n",
    "    for j in range(generation):\n",
    "        df_per_gene = df_ele[df_ele.generation == j]\n",
    "        y.append(df_per_gene[\"win_per\"].mean())\n",
    "    plot(dir_name % \"mutation/\", fig_name % i)"
   ]
  },
  {
   "cell_type": "markdown",
   "metadata": {},
   "source": [
    "composite"
   ]
  },
  {
   "cell_type": "code",
   "execution_count": 7,
   "metadata": {},
   "outputs": [],
   "source": [
    "fig_name = \"win count per generation in mutation 0 and %s\"\n",
    "\n",
    "df_ele = df[df.per_mutation == 0]\n",
    "\n",
    "player_name = [\"random\", \"p one hand\", \"p two hand\", \"my one hand\", \"my two hand\"]\n",
    "player = df_ele[\"player\"].unique()\n",
    "x = [i for i in range(generation)]\n",
    "\n",
    "for i in player:\n",
    "    df_sur = df_ele[df_ele.player == i]\n",
    "    y = []\n",
    "    for j in range(generation):\n",
    "        df_per_gene = df_sur[df_sur.generation == j]\n",
    "        y.append(df_per_gene[\"win_per\"].mean())\n",
    "    plot(dir_name % \"composite/mutation0_player/\", fig_name % player_name[i])"
   ]
  },
  {
   "cell_type": "markdown",
   "metadata": {},
   "source": [
    "high score"
   ]
  },
  {
   "cell_type": "code",
   "execution_count": 4,
   "metadata": {},
   "outputs": [
    {
     "name": "stdout",
     "output_type": "stream",
     "text": [
      "[ 0  1  2  3  4  5  6  7  8  9 10 11 12 13 14 15 16 17 18 19 20 21 22 23\n",
      " 24 25 26 27 28 29 30 31 32]\n"
     ]
    }
   ],
   "source": [
    "win_per = df[\"win_per\"].unique()\n",
    "win_per.sort()\n",
    "print(win_per)"
   ]
  },
  {
   "cell_type": "code",
   "execution_count": 18,
   "metadata": {},
   "outputs": [
    {
     "name": "stdout",
     "output_type": "stream",
     "text": [
      "135739\n",
      "28.278958333333332\n"
     ]
    }
   ],
   "source": [
    "df_win_max = df[df.win_per == 32]\n",
    "print(len(df_win_max))\n",
    "print(len(df_win_max) / len(df) * 100)"
   ]
  },
  {
   "cell_type": "code",
   "execution_count": 24,
   "metadata": {},
   "outputs": [
    {
     "name": "stdout",
     "output_type": "stream",
     "text": [
      "data num smaller than 100 generation: 8487\n",
      "data num smaller than 50 generation: 1900\n",
      "data num smaller than 40 generation: 971\n",
      "data num smaller than 30 generation: 371\n",
      "data num smaller than 20 generation: 75\n",
      "data num smaller than 14 generation: 15\n",
      "data num smaller than 13 generation: 9\n",
      "data num smaller than 12 generation: 6\n",
      "data num smaller than 10 generation: 2\n"
     ]
    }
   ],
   "source": [
    "gene_lim = [100, 50, 40, 30, 20, 14, 13, 12, 10]\n",
    "\n",
    "for i in gene_lim:\n",
    "    df_win_max_top = df_win_max[df_win_max.generation < i]\n",
    "    print(\"data num smaller than %d generation: %d\" % (i, len(df_win_max_top)))"
   ]
  },
  {
   "cell_type": "markdown",
   "metadata": {},
   "source": [
    "check eva"
   ]
  },
  {
   "cell_type": "code",
   "execution_count": 48,
   "metadata": {},
   "outputs": [],
   "source": [
    "df_sur = df_win_max[df_win_max.generation < 13]\n",
    "df_eva = pd.read_csv(\"eva.csv\")\n",
    "\n",
    "colum = df_sur.columns"
   ]
  },
  {
   "cell_type": "code",
   "execution_count": 57,
   "metadata": {},
   "outputs": [],
   "source": [
    "eva = []\n",
    "\n",
    "for i in range(len(df_sur)):\n",
    "    df_eva_ele = df_eva[df_eva.indi == 0]\n",
    "    eva.append([])\n",
    "    for j in colum:\n",
    "        if j != \"generation\" and j != \"win_per\":\n",
    "            df_eva_ele = df_eva_ele.query(\"%s == %d\" % (j, df_sur[i:i + 1][j]))\n",
    "    for j in range(64):\n",
    "        eva[i].append(df_eva_ele[str(j)])"
   ]
  },
  {
   "cell_type": "code",
   "execution_count": 59,
   "metadata": {},
   "outputs": [],
   "source": [
    "evap = open(\"eva_view.csv\", \"w\")\n",
    "\n",
    "for i in range(len(eva)):\n",
    "    for j in range(len(eva[i])):\n",
    "        evap.write(\"%f\" % eva[i][j])\n",
    "        if j % 8 == 7:\n",
    "            evap.write(\"\\n\")\n",
    "        else:\n",
    "            evap.write(\",\")\n",
    "    evap.write(\"\\n\")\n",
    "\n",
    "evap.close()"
   ]
  },
  {
   "cell_type": "code",
   "execution_count": 60,
   "metadata": {},
   "outputs": [
    {
     "name": "stdout",
     "output_type": "stream",
     "text": [
      "        evolution_method  select_method  per_mutation  computer  player  \\\n",
      "120010                 1              0             0         1       0   \n",
      "120012                 1              0             0         1       0   \n",
      "184009                 1              2             0         1       4   \n",
      "184011                 1              2             0         1       4   \n",
      "184012                 1              2             0         1       4   \n",
      "189011                 1              2             0         2       4   \n",
      "189012                 1              2             0         2       4   \n",
      "213005                 1              3             0         1       3   \n",
      "464011                 3              3             5         1       4   \n",
      "\n",
      "        generation  win_per  \n",
      "120010          10       32  \n",
      "120012          12       32  \n",
      "184009           9       32  \n",
      "184011          11       32  \n",
      "184012          12       32  \n",
      "189011          11       32  \n",
      "189012          12       32  \n",
      "213005           5       32  \n",
      "464011          11       32  \n"
     ]
    }
   ],
   "source": [
    "print(df_sur)"
   ]
  },
  {
   "cell_type": "markdown",
   "metadata": {},
   "source": [
    "last eva"
   ]
  },
  {
   "cell_type": "code",
   "execution_count": 2,
   "metadata": {},
   "outputs": [],
   "source": [
    "df_sur = df[df.win_per == game_num]"
   ]
  },
  {
   "cell_type": "code",
   "execution_count": 3,
   "metadata": {},
   "outputs": [
    {
     "name": "stdout",
     "output_type": "stream",
     "text": [
      "        evolution_method  select_method  per_mutation  computer  player  \\\n",
      "339999                 2              3             0         2       4   \n",
      "451999                 3              3             0         1       1   \n",
      "121999                 1              0             0         1       1   \n",
      "134999                 1              0             5         1       4   \n",
      "303999                 2              2             0         1       3   \n",
      "...                  ...            ...           ...       ...     ...   \n",
      "464011                 3              3             5         1       4   \n",
      "184011                 1              2             0         1       4   \n",
      "120010                 1              0             0         1       0   \n",
      "184009                 1              2             0         1       4   \n",
      "213005                 1              3             0         1       3   \n",
      "\n",
      "        generation  win_per  \n",
      "339999         999       32  \n",
      "451999         999       32  \n",
      "121999         999       32  \n",
      "134999         999       32  \n",
      "303999         999       32  \n",
      "...            ...      ...  \n",
      "464011          11       32  \n",
      "184011          11       32  \n",
      "120010          10       32  \n",
      "184009           9       32  \n",
      "213005           5       32  \n",
      "\n",
      "[135739 rows x 7 columns]\n",
      "141\n"
     ]
    }
   ],
   "source": [
    "df_sur = df_sur.sort_values(by=[\"generation\"], ascending=False)\n",
    "print(df_sur)\n",
    "print(len(df_sur[df_sur.generation == generation - 1]))"
   ]
  },
  {
   "cell_type": "code",
   "execution_count": 4,
   "metadata": {},
   "outputs": [],
   "source": [
    "df_sur = df_sur[df_sur.generation == generation - 1]\n",
    "df_eva = pd.read_csv(\"eva.csv\")\n",
    "\n",
    "colum = df_sur.columns"
   ]
  },
  {
   "cell_type": "code",
   "execution_count": 30,
   "metadata": {},
   "outputs": [],
   "source": [
    "eva = []\n",
    "\n",
    "for i in range(64):\n",
    "    eva_ele = []\n",
    "    for j in range(len(df_sur)):\n",
    "        df_eva_ele = df_eva\n",
    "        for k in colum:\n",
    "            if k != \"generation\" and k != \"win_per\":\n",
    "                df_eva_ele = df_eva_ele.query(\"%s == %d\" % (k, int(df_sur[j:j + 1][k])))\n",
    "        eva_ele.append(df_eva_ele[str(i)].mean())\n",
    "    eva.append(sum(eva_ele) / len(df_sur))"
   ]
  },
  {
   "cell_type": "code",
   "execution_count": 33,
   "metadata": {},
   "outputs": [],
   "source": [
    "evap = open(\"eva_last_view.csv\", \"w\")\n",
    "\n",
    "for i in range(64):\n",
    "    evap.write(\"%f\" % eva[i])\n",
    "    if i % 8 == 7:\n",
    "        evap.write(\"\\n\")\n",
    "    else:\n",
    "        evap.write(\",\")\n",
    "\n",
    "evap.write(\"\\n\")\n",
    "evap.close()"
   ]
  },
  {
   "cell_type": "code",
   "execution_count": null,
   "metadata": {},
   "outputs": [],
   "source": []
  }
 ],
 "metadata": {
  "interpreter": {
   "hash": "400b3448902b2aa85e7a3848e7bd72dda1a711f8af9f184efc41490bde870126"
  },
  "kernelspec": {
   "display_name": "Python 3.7.9 32-bit ('Thonny')",
   "name": "python3"
  },
  "language_info": {
   "codemirror_mode": {
    "name": "ipython",
    "version": 3
   },
   "file_extension": ".py",
   "mimetype": "text/x-python",
   "name": "python",
   "nbconvert_exporter": "python",
   "pygments_lexer": "ipython3",
   "version": "3.7.9"
  },
  "orig_nbformat": 2
 },
 "nbformat": 4,
 "nbformat_minor": 2
}
